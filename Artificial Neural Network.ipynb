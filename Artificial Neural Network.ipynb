{
 "cells": [
  {
   "cell_type": "code",
   "execution_count": 1,
   "metadata": {},
   "outputs": [],
   "source": [
    "# Artificial Neural Network\n",
    "\n",
    "# Installing Theano\n",
    "# pip install --upgrade --no-deps git+git://github.com/Theano/Theano.git\n",
    "\n",
    "# Installing Tensorflow\n",
    "# pip install tensorflow\n",
    "\n",
    "# Installing Keras\n",
    "# pip install --upgrade keras\n",
    "\n",
    "# Part 1 - Data Preprocessing\n",
    "\n",
    "# Importing the libraries\n",
    "\n",
    "import numpy as np\n",
    "import matplotlib.pyplot as plt\n",
    "import pandas as pd"
   ]
  },
  {
   "cell_type": "code",
   "execution_count": 2,
   "metadata": {},
   "outputs": [],
   "source": [
    "# Importing the dataset\n",
    "dataset = pd.read_csv('Churn_Modelling.csv')\n",
    "X = dataset.iloc[:, 3:13].values\n",
    "y = dataset.iloc[:, 13].values"
   ]
  },
  {
   "cell_type": "code",
   "execution_count": 3,
   "metadata": {},
   "outputs": [
    {
     "name": "stderr",
     "output_type": "stream",
     "text": [
      "/usr/local/lib/python3.5/dist-packages/sklearn/preprocessing/_encoders.py:371: FutureWarning: The handling of integer data will change in version 0.22. Currently, the categories are determined based on the range [0, max(values)], while in the future they will be determined based on the unique values.\n",
      "If you want the future behaviour and silence this warning, you can specify \"categories='auto'\".\n",
      "In case you used a LabelEncoder before this OneHotEncoder to convert the categories to integers, then you can now use the OneHotEncoder directly.\n",
      "  warnings.warn(msg, FutureWarning)\n",
      "/usr/local/lib/python3.5/dist-packages/sklearn/preprocessing/_encoders.py:392: DeprecationWarning: The 'categorical_features' keyword is deprecated in version 0.20 and will be removed in 0.22. You can use the ColumnTransformer instead.\n",
      "  \"use the ColumnTransformer instead.\", DeprecationWarning)\n"
     ]
    }
   ],
   "source": [
    "# Encoding categorical data\n",
    "from sklearn.preprocessing import LabelEncoder, OneHotEncoder\n",
    "labelencoder_X_1 = LabelEncoder()\n",
    "X[:, 1] = labelencoder_X_1.fit_transform(X[:, 1])\n",
    "labelencoder_X_2 = LabelEncoder()\n",
    "X[:, 2] = labelencoder_X_2.fit_transform(X[:, 2])\n",
    "onehotencoder = OneHotEncoder(categorical_features = [1])\n",
    "X = onehotencoder.fit_transform(X).toarray()\n",
    "X = X[:, 1:]"
   ]
  },
  {
   "cell_type": "code",
   "execution_count": 4,
   "metadata": {},
   "outputs": [],
   "source": [
    "# Splitting the dataset into the Training set and Test set\n",
    "from sklearn.model_selection import train_test_split\n",
    "X_train, X_test, y_train, y_test = train_test_split(X, y, test_size = 0.2, random_state = 0)\n"
   ]
  },
  {
   "cell_type": "code",
   "execution_count": 5,
   "metadata": {},
   "outputs": [],
   "source": [
    "# Feature Scaling\n",
    "from sklearn.preprocessing import StandardScaler\n",
    "sc = StandardScaler()\n",
    "X_train = sc.fit_transform(X_train)\n",
    "X_test = sc.transform(X_test)"
   ]
  },
  {
   "cell_type": "code",
   "execution_count": 6,
   "metadata": {},
   "outputs": [
    {
     "name": "stderr",
     "output_type": "stream",
     "text": [
      "Using TensorFlow backend.\n"
     ]
    }
   ],
   "source": [
    "# Part 2 - Now let's make the ANN!\n",
    "\n",
    "# Importing the Keras libraries and packages\n",
    "import keras\n",
    "from keras.models import Sequential\n",
    "from keras.layers import Dense"
   ]
  },
  {
   "cell_type": "code",
   "execution_count": 7,
   "metadata": {},
   "outputs": [],
   "source": [
    "# Initialising the ANN\n",
    "classifier = Sequential()"
   ]
  },
  {
   "cell_type": "code",
   "execution_count": 8,
   "metadata": {},
   "outputs": [
    {
     "name": "stdout",
     "output_type": "stream",
     "text": [
      "WARNING:tensorflow:From /usr/local/lib/python3.5/dist-packages/tensorflow/python/framework/op_def_library.py:263: colocate_with (from tensorflow.python.framework.ops) is deprecated and will be removed in a future version.\n",
      "Instructions for updating:\n",
      "Colocations handled automatically by placer.\n"
     ]
    }
   ],
   "source": [
    "# Adding the input layer and the first hidden layer\n",
    "classifier.add(Dense(units = 6, kernel_initializer = 'uniform', activation = 'relu', input_dim = 11))"
   ]
  },
  {
   "cell_type": "code",
   "execution_count": 9,
   "metadata": {},
   "outputs": [],
   "source": [
    "# Adding the second hidden layer\n",
    "classifier.add(Dense(units = 6, kernel_initializer = 'uniform', activation = 'tanh'))\n"
   ]
  },
  {
   "cell_type": "code",
   "execution_count": 10,
   "metadata": {},
   "outputs": [],
   "source": [
    "# Adding the output layer\n",
    "classifier.add(Dense(units = 1, kernel_initializer = 'uniform', activation = 'sigmoid'))"
   ]
  },
  {
   "cell_type": "code",
   "execution_count": 11,
   "metadata": {},
   "outputs": [],
   "source": [
    "# Compiling the ANN\n",
    "classifier.compile(optimizer = 'adam', loss = 'binary_crossentropy', metrics = ['accuracy'])\n"
   ]
  },
  {
   "cell_type": "code",
   "execution_count": 12,
   "metadata": {},
   "outputs": [
    {
     "name": "stdout",
     "output_type": "stream",
     "text": [
      "WARNING:tensorflow:From /usr/local/lib/python3.5/dist-packages/tensorflow/python/ops/math_ops.py:3066: to_int32 (from tensorflow.python.ops.math_ops) is deprecated and will be removed in a future version.\n",
      "Instructions for updating:\n",
      "Use tf.cast instead.\n",
      "Epoch 1/50\n",
      "8000/8000 [==============================] - 2s 224us/step - loss: 0.4873 - acc: 0.7949\n",
      "Epoch 2/50\n",
      "8000/8000 [==============================] - 1s 75us/step - loss: 0.4252 - acc: 0.8000\n",
      "Epoch 3/50\n",
      "8000/8000 [==============================] - 1s 76us/step - loss: 0.4152 - acc: 0.8311\n",
      "Epoch 4/50\n",
      "8000/8000 [==============================] - 1s 75us/step - loss: 0.4099 - acc: 0.8345\n",
      "Epoch 5/50\n",
      "8000/8000 [==============================] - 1s 76us/step - loss: 0.4071 - acc: 0.8329\n",
      "Epoch 6/50\n",
      "8000/8000 [==============================] - 1s 77us/step - loss: 0.4047 - acc: 0.8341\n",
      "Epoch 7/50\n",
      "8000/8000 [==============================] - 1s 76us/step - loss: 0.4037 - acc: 0.8349\n",
      "Epoch 8/50\n",
      "8000/8000 [==============================] - 1s 76us/step - loss: 0.4027 - acc: 0.8334\n",
      "Epoch 9/50\n",
      "8000/8000 [==============================] - 1s 75us/step - loss: 0.4020 - acc: 0.8341\n",
      "Epoch 10/50\n",
      "8000/8000 [==============================] - 1s 76us/step - loss: 0.4014 - acc: 0.8350\n",
      "Epoch 11/50\n",
      "8000/8000 [==============================] - 1s 77us/step - loss: 0.4008 - acc: 0.8340\n",
      "Epoch 12/50\n",
      "8000/8000 [==============================] - 1s 77us/step - loss: 0.4005 - acc: 0.8344\n",
      "Epoch 13/50\n",
      "8000/8000 [==============================] - 1s 75us/step - loss: 0.4002 - acc: 0.8351\n",
      "Epoch 14/50\n",
      "8000/8000 [==============================] - 1s 76us/step - loss: 0.3993 - acc: 0.8346\n",
      "Epoch 15/50\n",
      "8000/8000 [==============================] - 1s 76us/step - loss: 0.3995 - acc: 0.8351\n",
      "Epoch 16/50\n",
      "8000/8000 [==============================] - 1s 76us/step - loss: 0.3993 - acc: 0.8357\n",
      "Epoch 17/50\n",
      "8000/8000 [==============================] - 1s 76us/step - loss: 0.3993 - acc: 0.8355\n",
      "Epoch 18/50\n",
      "8000/8000 [==============================] - 1s 76us/step - loss: 0.3991 - acc: 0.8347\n",
      "Epoch 19/50\n",
      "8000/8000 [==============================] - 1s 77us/step - loss: 0.3987 - acc: 0.8360\n",
      "Epoch 20/50\n",
      "8000/8000 [==============================] - 1s 77us/step - loss: 0.3986 - acc: 0.8345\n",
      "Epoch 21/50\n",
      "8000/8000 [==============================] - 1s 75us/step - loss: 0.3982 - acc: 0.8340\n",
      "Epoch 22/50\n",
      "8000/8000 [==============================] - 1s 76us/step - loss: 0.3981 - acc: 0.8346\n",
      "Epoch 23/50\n",
      "8000/8000 [==============================] - 1s 77us/step - loss: 0.3980 - acc: 0.8355\n",
      "Epoch 24/50\n",
      "8000/8000 [==============================] - 1s 77us/step - loss: 0.3977 - acc: 0.8339\n",
      "Epoch 25/50\n",
      "8000/8000 [==============================] - 1s 77us/step - loss: 0.3970 - acc: 0.8352\n",
      "Epoch 26/50\n",
      "8000/8000 [==============================] - 1s 79us/step - loss: 0.3967 - acc: 0.8345\n",
      "Epoch 27/50\n",
      "8000/8000 [==============================] - 1s 76us/step - loss: 0.3967 - acc: 0.8359\n",
      "Epoch 28/50\n",
      "8000/8000 [==============================] - 1s 78us/step - loss: 0.3965 - acc: 0.8357\n",
      "Epoch 29/50\n",
      "8000/8000 [==============================] - 1s 78us/step - loss: 0.3962 - acc: 0.8366\n",
      "Epoch 30/50\n",
      "8000/8000 [==============================] - 1s 76us/step - loss: 0.3961 - acc: 0.8355\n",
      "Epoch 31/50\n",
      "8000/8000 [==============================] - 1s 77us/step - loss: 0.3959 - acc: 0.8360\n",
      "Epoch 32/50\n",
      "8000/8000 [==============================] - 1s 77us/step - loss: 0.3954 - acc: 0.8362\n",
      "Epoch 33/50\n",
      "8000/8000 [==============================] - 1s 75us/step - loss: 0.3956 - acc: 0.8376\n",
      "Epoch 34/50\n",
      "8000/8000 [==============================] - 1s 76us/step - loss: 0.3948 - acc: 0.8379\n",
      "Epoch 35/50\n",
      "8000/8000 [==============================] - 1s 76us/step - loss: 0.3947 - acc: 0.8391\n",
      "Epoch 36/50\n",
      "8000/8000 [==============================] - 1s 77us/step - loss: 0.3951 - acc: 0.8374\n",
      "Epoch 37/50\n",
      "8000/8000 [==============================] - 1s 77us/step - loss: 0.3948 - acc: 0.8372\n",
      "Epoch 38/50\n",
      "8000/8000 [==============================] - 1s 77us/step - loss: 0.3945 - acc: 0.8371\n",
      "Epoch 39/50\n",
      "8000/8000 [==============================] - 1s 78us/step - loss: 0.3949 - acc: 0.8356\n",
      "Epoch 40/50\n",
      "8000/8000 [==============================] - 1s 76us/step - loss: 0.3944 - acc: 0.8364\n",
      "Epoch 41/50\n",
      "8000/8000 [==============================] - 1s 78us/step - loss: 0.3946 - acc: 0.8364\n",
      "Epoch 42/50\n",
      "8000/8000 [==============================] - 1s 77us/step - loss: 0.3944 - acc: 0.8374\n",
      "Epoch 43/50\n",
      "8000/8000 [==============================] - 1s 76us/step - loss: 0.3943 - acc: 0.8384\n",
      "Epoch 44/50\n",
      "8000/8000 [==============================] - 1s 77us/step - loss: 0.3941 - acc: 0.8381\n",
      "Epoch 45/50\n",
      "8000/8000 [==============================] - 1s 77us/step - loss: 0.3942 - acc: 0.8375\n",
      "Epoch 46/50\n",
      "8000/8000 [==============================] - 1s 77us/step - loss: 0.3944 - acc: 0.8372\n",
      "Epoch 47/50\n",
      "8000/8000 [==============================] - 1s 77us/step - loss: 0.3937 - acc: 0.8347\n",
      "Epoch 48/50\n",
      "8000/8000 [==============================] - 1s 77us/step - loss: 0.3937 - acc: 0.8375\n",
      "Epoch 49/50\n",
      "8000/8000 [==============================] - 1s 77us/step - loss: 0.3941 - acc: 0.8365\n",
      "Epoch 50/50\n",
      "8000/8000 [==============================] - 1s 78us/step - loss: 0.3937 - acc: 0.8367\n"
     ]
    },
    {
     "data": {
      "text/plain": [
       "<keras.callbacks.History at 0x7fc95ca63128>"
      ]
     },
     "execution_count": 12,
     "metadata": {},
     "output_type": "execute_result"
    }
   ],
   "source": [
    "# Fitting the ANN to the Training set\n",
    "classifier.fit(X_train, y_train, batch_size = 10, epochs = 50)"
   ]
  },
  {
   "cell_type": "code",
   "execution_count": 13,
   "metadata": {},
   "outputs": [],
   "source": [
    "# Part 3 - Making predictions and evaluating the model\n",
    "\n",
    "# Predicting the Test set results\n",
    "y_pred = classifier.predict(X_test)\n",
    "y_pred = (y_pred > 0.5)\n"
   ]
  },
  {
   "cell_type": "code",
   "execution_count": 14,
   "metadata": {},
   "outputs": [
    {
     "data": {
      "text/plain": [
       "array([[False],\n",
       "       [False],\n",
       "       [False],\n",
       "       ...,\n",
       "       [False],\n",
       "       [False],\n",
       "       [False]])"
      ]
     },
     "execution_count": 14,
     "metadata": {},
     "output_type": "execute_result"
    }
   ],
   "source": [
    "y_pred"
   ]
  },
  {
   "cell_type": "code",
   "execution_count": 15,
   "metadata": {},
   "outputs": [],
   "source": [
    "# Making the Confusion Matrix\n",
    "from sklearn.metrics import confusion_matrix\n",
    "cm = confusion_matrix(y_test, y_pred)"
   ]
  },
  {
   "cell_type": "code",
   "execution_count": 16,
   "metadata": {},
   "outputs": [
    {
     "data": {
      "text/plain": [
       "array([[1546,   49],\n",
       "       [ 257,  148]])"
      ]
     },
     "execution_count": 16,
     "metadata": {},
     "output_type": "execute_result"
    }
   ],
   "source": [
    "cm"
   ]
  },
  {
   "cell_type": "code",
   "execution_count": null,
   "metadata": {},
   "outputs": [],
   "source": []
  }
 ],
 "metadata": {
  "kernelspec": {
   "display_name": "Python 3",
   "language": "python",
   "name": "python3"
  },
  "language_info": {
   "codemirror_mode": {
    "name": "ipython",
    "version": 3
   },
   "file_extension": ".py",
   "mimetype": "text/x-python",
   "name": "python",
   "nbconvert_exporter": "python",
   "pygments_lexer": "ipython3",
   "version": "3.5.2"
  }
 },
 "nbformat": 4,
 "nbformat_minor": 2
}
