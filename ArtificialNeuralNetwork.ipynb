{
 "cells": [
  {
   "cell_type": "code",
   "execution_count": 2,
   "metadata": {},
   "outputs": [],
   "source": [
    "# Artificial Neural Network\n",
    "\n",
    "# Installing Theano\n",
    "# pip install --upgrade --no-deps git+git://github.com/Theano/Theano.git\n",
    "\n",
    "# Installing Tensorflow\n",
    "# pip install tensorflow\n",
    "\n",
    "# Installing Keras\n",
    "# pip install --upgrade keras\n",
    "\n",
    "# Part 1 - Data Preprocessing"
   ]
  },
  {
   "cell_type": "code",
   "execution_count": 3,
   "metadata": {},
   "outputs": [
    {
     "name": "stdout",
     "output_type": "stream",
     "text": [
      "Requirement already satisfied: tensorflow==1.13.1 in /home/andrew/anaconda3/lib/python3.7/site-packages (from -r requirements.txt (line 1)) (1.13.1)\n",
      "Requirement already satisfied: numpy==1.16.2 in /home/andrew/anaconda3/lib/python3.7/site-packages (from -r requirements.txt (line 2)) (1.16.2)\n",
      "Requirement already satisfied: pandas==0.24.2 in /home/andrew/anaconda3/lib/python3.7/site-packages (from -r requirements.txt (line 3)) (0.24.2)\n",
      "Requirement already satisfied: matplotlib==3.0.3 in /home/andrew/anaconda3/lib/python3.7/site-packages (from -r requirements.txt (line 4)) (3.0.3)\n",
      "Requirement already satisfied: Keras==2.2.4 in /home/andrew/anaconda3/lib/python3.7/site-packages (from -r requirements.txt (line 5)) (2.2.4)\n",
      "Requirement already satisfied: sklearn==0.0 in /home/andrew/anaconda3/lib/python3.7/site-packages (from -r requirements.txt (line 6)) (0.0)\n",
      "Requirement already satisfied: wheel>=0.26 in /home/andrew/anaconda3/lib/python3.7/site-packages (from tensorflow==1.13.1->-r requirements.txt (line 1)) (0.32.3)\n",
      "Requirement already satisfied: six>=1.10.0 in /home/andrew/anaconda3/lib/python3.7/site-packages (from tensorflow==1.13.1->-r requirements.txt (line 1)) (1.12.0)\n",
      "Requirement already satisfied: absl-py>=0.1.6 in /home/andrew/anaconda3/lib/python3.7/site-packages (from tensorflow==1.13.1->-r requirements.txt (line 1)) (0.7.1)\n",
      "Requirement already satisfied: tensorboard<1.14.0,>=1.13.0 in /home/andrew/anaconda3/lib/python3.7/site-packages (from tensorflow==1.13.1->-r requirements.txt (line 1)) (1.13.1)\n",
      "Requirement already satisfied: tensorflow-estimator<1.14.0rc0,>=1.13.0 in /home/andrew/anaconda3/lib/python3.7/site-packages (from tensorflow==1.13.1->-r requirements.txt (line 1)) (1.13.0)\n",
      "Requirement already satisfied: grpcio>=1.8.6 in /home/andrew/anaconda3/lib/python3.7/site-packages (from tensorflow==1.13.1->-r requirements.txt (line 1)) (1.19.0)\n",
      "Requirement already satisfied: astor>=0.6.0 in /home/andrew/anaconda3/lib/python3.7/site-packages (from tensorflow==1.13.1->-r requirements.txt (line 1)) (0.7.1)\n",
      "Requirement already satisfied: termcolor>=1.1.0 in /home/andrew/anaconda3/lib/python3.7/site-packages (from tensorflow==1.13.1->-r requirements.txt (line 1)) (1.1.0)\n",
      "Requirement already satisfied: keras-applications>=1.0.6 in /home/andrew/anaconda3/lib/python3.7/site-packages (from tensorflow==1.13.1->-r requirements.txt (line 1)) (1.0.7)\n",
      "Requirement already satisfied: gast>=0.2.0 in /home/andrew/anaconda3/lib/python3.7/site-packages (from tensorflow==1.13.1->-r requirements.txt (line 1)) (0.2.2)\n",
      "Requirement already satisfied: protobuf>=3.6.1 in /home/andrew/anaconda3/lib/python3.7/site-packages (from tensorflow==1.13.1->-r requirements.txt (line 1)) (3.7.1)\n",
      "Requirement already satisfied: keras-preprocessing>=1.0.5 in /home/andrew/anaconda3/lib/python3.7/site-packages (from tensorflow==1.13.1->-r requirements.txt (line 1)) (1.0.9)\n",
      "Requirement already satisfied: python-dateutil>=2.5.0 in /home/andrew/anaconda3/lib/python3.7/site-packages (from pandas==0.24.2->-r requirements.txt (line 3)) (2.7.5)\n",
      "Requirement already satisfied: pytz>=2011k in /home/andrew/anaconda3/lib/python3.7/site-packages (from pandas==0.24.2->-r requirements.txt (line 3)) (2018.7)\n",
      "Requirement already satisfied: cycler>=0.10 in /home/andrew/anaconda3/lib/python3.7/site-packages (from matplotlib==3.0.3->-r requirements.txt (line 4)) (0.10.0)\n",
      "Requirement already satisfied: pyparsing!=2.0.4,!=2.1.2,!=2.1.6,>=2.0.1 in /home/andrew/anaconda3/lib/python3.7/site-packages (from matplotlib==3.0.3->-r requirements.txt (line 4)) (2.3.0)\n",
      "Requirement already satisfied: kiwisolver>=1.0.1 in /home/andrew/anaconda3/lib/python3.7/site-packages (from matplotlib==3.0.3->-r requirements.txt (line 4)) (1.0.1)\n",
      "Requirement already satisfied: h5py in /home/andrew/anaconda3/lib/python3.7/site-packages (from Keras==2.2.4->-r requirements.txt (line 5)) (2.8.0)\n",
      "Requirement already satisfied: pyyaml in /home/andrew/anaconda3/lib/python3.7/site-packages (from Keras==2.2.4->-r requirements.txt (line 5)) (3.13)\n",
      "Requirement already satisfied: scipy>=0.14 in /home/andrew/anaconda3/lib/python3.7/site-packages (from Keras==2.2.4->-r requirements.txt (line 5)) (1.1.0)\n",
      "Requirement already satisfied: scikit-learn in /home/andrew/anaconda3/lib/python3.7/site-packages (from sklearn==0.0->-r requirements.txt (line 6)) (0.20.1)\n",
      "Requirement already satisfied: werkzeug>=0.11.15 in /home/andrew/anaconda3/lib/python3.7/site-packages (from tensorboard<1.14.0,>=1.13.0->tensorflow==1.13.1->-r requirements.txt (line 1)) (0.14.1)\n",
      "Requirement already satisfied: markdown>=2.6.8 in /home/andrew/anaconda3/lib/python3.7/site-packages (from tensorboard<1.14.0,>=1.13.0->tensorflow==1.13.1->-r requirements.txt (line 1)) (3.1)\n",
      "Requirement already satisfied: mock>=2.0.0 in /home/andrew/anaconda3/lib/python3.7/site-packages (from tensorflow-estimator<1.14.0rc0,>=1.13.0->tensorflow==1.13.1->-r requirements.txt (line 1)) (2.0.0)\n",
      "Requirement already satisfied: setuptools in /home/andrew/anaconda3/lib/python3.7/site-packages (from protobuf>=3.6.1->tensorflow==1.13.1->-r requirements.txt (line 1)) (40.6.3)\n",
      "Requirement already satisfied: pbr>=0.11 in /home/andrew/anaconda3/lib/python3.7/site-packages (from mock>=2.0.0->tensorflow-estimator<1.14.0rc0,>=1.13.0->tensorflow==1.13.1->-r requirements.txt (line 1)) (5.1.3)\n"
     ]
    }
   ],
   "source": [
    "!pip install -r requirements.txt"
   ]
  },
  {
   "cell_type": "code",
   "execution_count": 256,
   "metadata": {},
   "outputs": [],
   "source": [
    "# Importing the libraries\n",
    "import numpy as np\n",
    "import matplotlib.pyplot as plt\n",
    "import pandas as pd\n",
    "from mlxtend.plotting import plot_confusion_matrix\n"
   ]
  },
  {
   "cell_type": "code",
   "execution_count": 257,
   "metadata": {},
   "outputs": [],
   "source": [
    "# Importing the dataset\n",
    "dataset = pd.read_csv('Churn_Modelling.csv')\n",
    "X = dataset.iloc[:, 3:13].values\n",
    "y = dataset.iloc[:, 13].values"
   ]
  },
  {
   "cell_type": "code",
   "execution_count": 258,
   "metadata": {},
   "outputs": [
    {
     "data": {
      "text/html": [
       "<div>\n",
       "<style scoped>\n",
       "    .dataframe tbody tr th:only-of-type {\n",
       "        vertical-align: middle;\n",
       "    }\n",
       "\n",
       "    .dataframe tbody tr th {\n",
       "        vertical-align: top;\n",
       "    }\n",
       "\n",
       "    .dataframe thead th {\n",
       "        text-align: right;\n",
       "    }\n",
       "</style>\n",
       "<table border=\"1\" class=\"dataframe\">\n",
       "  <thead>\n",
       "    <tr style=\"text-align: right;\">\n",
       "      <th></th>\n",
       "      <th>CreditScore</th>\n",
       "      <th>Geography</th>\n",
       "      <th>Gender</th>\n",
       "      <th>Age</th>\n",
       "      <th>Tenure</th>\n",
       "      <th>Balance</th>\n",
       "      <th>NumOfProducts</th>\n",
       "      <th>HasCrCard</th>\n",
       "      <th>IsActiveMember</th>\n",
       "      <th>EstimatedSalary</th>\n",
       "      <th>Exited</th>\n",
       "    </tr>\n",
       "  </thead>\n",
       "  <tbody>\n",
       "    <tr>\n",
       "      <th>0</th>\n",
       "      <td>619</td>\n",
       "      <td>France</td>\n",
       "      <td>Female</td>\n",
       "      <td>42</td>\n",
       "      <td>2</td>\n",
       "      <td>0.00</td>\n",
       "      <td>1</td>\n",
       "      <td>1</td>\n",
       "      <td>1</td>\n",
       "      <td>101348.88</td>\n",
       "      <td>1</td>\n",
       "    </tr>\n",
       "    <tr>\n",
       "      <th>1</th>\n",
       "      <td>608</td>\n",
       "      <td>Spain</td>\n",
       "      <td>Female</td>\n",
       "      <td>41</td>\n",
       "      <td>1</td>\n",
       "      <td>83807.86</td>\n",
       "      <td>1</td>\n",
       "      <td>0</td>\n",
       "      <td>1</td>\n",
       "      <td>112542.58</td>\n",
       "      <td>0</td>\n",
       "    </tr>\n",
       "    <tr>\n",
       "      <th>2</th>\n",
       "      <td>502</td>\n",
       "      <td>France</td>\n",
       "      <td>Female</td>\n",
       "      <td>42</td>\n",
       "      <td>8</td>\n",
       "      <td>159660.80</td>\n",
       "      <td>3</td>\n",
       "      <td>1</td>\n",
       "      <td>0</td>\n",
       "      <td>113931.57</td>\n",
       "      <td>1</td>\n",
       "    </tr>\n",
       "    <tr>\n",
       "      <th>3</th>\n",
       "      <td>699</td>\n",
       "      <td>France</td>\n",
       "      <td>Female</td>\n",
       "      <td>39</td>\n",
       "      <td>1</td>\n",
       "      <td>0.00</td>\n",
       "      <td>2</td>\n",
       "      <td>0</td>\n",
       "      <td>0</td>\n",
       "      <td>93826.63</td>\n",
       "      <td>0</td>\n",
       "    </tr>\n",
       "    <tr>\n",
       "      <th>4</th>\n",
       "      <td>850</td>\n",
       "      <td>Spain</td>\n",
       "      <td>Female</td>\n",
       "      <td>43</td>\n",
       "      <td>2</td>\n",
       "      <td>125510.82</td>\n",
       "      <td>1</td>\n",
       "      <td>1</td>\n",
       "      <td>1</td>\n",
       "      <td>79084.10</td>\n",
       "      <td>0</td>\n",
       "    </tr>\n",
       "  </tbody>\n",
       "</table>\n",
       "</div>"
      ],
      "text/plain": [
       "   CreditScore Geography  Gender  Age  Tenure    Balance  NumOfProducts  \\\n",
       "0          619    France  Female   42       2       0.00              1   \n",
       "1          608     Spain  Female   41       1   83807.86              1   \n",
       "2          502    France  Female   42       8  159660.80              3   \n",
       "3          699    France  Female   39       1       0.00              2   \n",
       "4          850     Spain  Female   43       2  125510.82              1   \n",
       "\n",
       "   HasCrCard  IsActiveMember  EstimatedSalary  Exited  \n",
       "0          1               1        101348.88       1  \n",
       "1          0               1        112542.58       0  \n",
       "2          1               0        113931.57       1  \n",
       "3          0               0         93826.63       0  \n",
       "4          1               1         79084.10       0  "
      ]
     },
     "execution_count": 258,
     "metadata": {},
     "output_type": "execute_result"
    }
   ],
   "source": [
    "df1 = dataset.iloc[:, 3:14]\n",
    "df1.head()"
   ]
  },
  {
   "cell_type": "code",
   "execution_count": 259,
   "metadata": {},
   "outputs": [
    {
     "name": "stderr",
     "output_type": "stream",
     "text": [
      "/home/andrew/anaconda3/lib/python3.7/site-packages/sklearn/preprocessing/_encoders.py:368: FutureWarning: The handling of integer data will change in version 0.22. Currently, the categories are determined based on the range [0, max(values)], while in the future they will be determined based on the unique values.\n",
      "If you want the future behaviour and silence this warning, you can specify \"categories='auto'\".\n",
      "In case you used a LabelEncoder before this OneHotEncoder to convert the categories to integers, then you can now use the OneHotEncoder directly.\n",
      "  warnings.warn(msg, FutureWarning)\n",
      "/home/andrew/anaconda3/lib/python3.7/site-packages/sklearn/preprocessing/_encoders.py:390: DeprecationWarning: The 'categorical_features' keyword is deprecated in version 0.20 and will be removed in 0.22. You can use the ColumnTransformer instead.\n",
      "  \"use the ColumnTransformer instead.\", DeprecationWarning)\n"
     ]
    }
   ],
   "source": [
    "# Encoding categorical data\n",
    "from sklearn.preprocessing import LabelEncoder, OneHotEncoder\n",
    "labelencoder_X_1 = LabelEncoder()\n",
    "X[:, 1] = labelencoder_X_1.fit_transform(X[:, 1])\n",
    "labelencoder_X_2 = LabelEncoder()\n",
    "X[:, 2] = labelencoder_X_2.fit_transform(X[:, 2])\n",
    "onehotencoder = OneHotEncoder(categorical_features = [1])\n",
    "X = onehotencoder.fit_transform(X).toarray()\n",
    "X = X[:, 1:]"
   ]
  },
  {
   "cell_type": "code",
   "execution_count": 261,
   "metadata": {},
   "outputs": [],
   "source": [
    "# Splitting the dataset into the Training set and Test set\n",
    "from sklearn.model_selection import train_test_split\n",
    "X_train, X_test, y_train, y_test = train_test_split(X, y, test_size = 0.2, random_state = 0)"
   ]
  },
  {
   "cell_type": "code",
   "execution_count": 262,
   "metadata": {},
   "outputs": [],
   "source": [
    "# Feature Scaling\n",
    "from sklearn.preprocessing import StandardScaler\n",
    "sc = StandardScaler()\n",
    "X_train = sc.fit_transform(X_train)\n",
    "X_test = sc.transform(X_test)"
   ]
  },
  {
   "cell_type": "code",
   "execution_count": 263,
   "metadata": {},
   "outputs": [],
   "source": [
    "# Part 2 - Now let's make the ANN!\n",
    "\n",
    "# Importing the Keras libraries and packages\n",
    "import keras\n",
    "from keras.models import Sequential\n",
    "from keras.layers import Dense"
   ]
  },
  {
   "cell_type": "code",
   "execution_count": 318,
   "metadata": {},
   "outputs": [],
   "source": [
    "def plotConfusion(array):\n",
    "#   Method to plot confusion matrix\n",
    "    df_cm = pd.DataFrame(\n",
    "        array\n",
    "    )\n",
    "    fig = plt.figure(figsize=(5, 4))\n",
    "    try:\n",
    "        heatmap = sn.heatmap(df_cm, annot=True, fmt=\"d\")\n",
    "    except ValueError:\n",
    "        raise ValueError(\"Confusion matrix values must be integers.\")\n",
    "    heatmap.yaxis.set_ticklabels(heatmap.yaxis.get_ticklabels(), rotation=0, ha='right')\n",
    "    heatmap.xaxis.set_ticklabels(heatmap.xaxis.get_ticklabels(), rotation=45, ha='right')\n",
    "    plt.ylabel('True label')\n",
    "    plt.xlabel('Predicted label')\n"
   ]
  },
  {
   "cell_type": "code",
   "execution_count": 320,
   "metadata": {},
   "outputs": [],
   "source": [
    "def learn(layers,epochs=30):\n",
    "    # layers -> array of dictionaries\n",
    "    # epochs -> int     \n",
    "    #     EX:\n",
    "    #   learn([\n",
    "    #         {'units': 10, 'activation': 'relu'},\n",
    "    #         {'units': 1, 'activation': 'sigmoid'}\n",
    "    #     ], 50)\n",
    "    \n",
    "    \n",
    "    # Initialising the ANN\n",
    "    classifier = Sequential()\n",
    "\n",
    "    for layer in layers:\n",
    "        # Adding the input layer and the first hidden layer\n",
    "        classifier.add(Dense(units = layer['units'], activation = layer['activation']))\n",
    "\n",
    "    # Compiling the ANN\n",
    "    classifier.compile(optimizer = 'adam', loss = 'binary_crossentropy', metrics = ['accuracy'])\n",
    "    \n",
    "    # Fitting the ANN to the Training set\n",
    "    classifier.fit(X_train, y_train, batch_size = 10, epochs = epochs)\n",
    "\n",
    "    # Predicting the Test set results\n",
    "    y_pred = classifier.predict(X_test)\n",
    "    y_pred = (y_pred > 0.5)\n",
    "\n",
    "    # Making the Confusion Matrix\n",
    "    from sklearn.metrics import confusion_matrix\n",
    "    cm = confusion_matrix(y_test, y_pred)\n",
    "    plotConfusion(cm)"
   ]
  },
  {
   "cell_type": "code",
   "execution_count": 326,
   "metadata": {},
   "outputs": [
    {
     "name": "stdout",
     "output_type": "stream",
     "text": [
      "Epoch 1/30\n",
      "8000/8000 [==============================] - 4s 537us/step - loss: 0.8432 - acc: 0.5835\n",
      "Epoch 2/30\n",
      "8000/8000 [==============================] - 2s 220us/step - loss: 0.5007 - acc: 0.7976\n",
      "Epoch 3/30\n",
      "8000/8000 [==============================] - 2s 212us/step - loss: 0.4582 - acc: 0.8065\n",
      "Epoch 4/30\n",
      "8000/8000 [==============================] - 2s 210us/step - loss: 0.4489 - acc: 0.8127\n",
      "Epoch 5/30\n",
      "8000/8000 [==============================] - 2s 219us/step - loss: 0.4442 - acc: 0.8172\n",
      "Epoch 6/30\n",
      "8000/8000 [==============================] - 2s 217us/step - loss: 0.4273 - acc: 0.8154\n",
      "Epoch 7/30\n",
      "8000/8000 [==============================] - 2s 210us/step - loss: 0.4181 - acc: 0.8191\n",
      "Epoch 8/30\n",
      "8000/8000 [==============================] - 2s 216us/step - loss: 0.4180 - acc: 0.8241\n",
      "Epoch 9/30\n",
      "8000/8000 [==============================] - 2s 211us/step - loss: 0.4146 - acc: 0.8317\n",
      "Epoch 10/30\n",
      "8000/8000 [==============================] - 2s 214us/step - loss: 0.4202 - acc: 0.8297\n",
      "Epoch 11/30\n",
      "8000/8000 [==============================] - 2s 217us/step - loss: 0.4070 - acc: 0.8331\n",
      "Epoch 12/30\n",
      "8000/8000 [==============================] - 2s 213us/step - loss: 0.4066 - acc: 0.8366\n",
      "Epoch 13/30\n",
      "8000/8000 [==============================] - 2s 217us/step - loss: 0.4211 - acc: 0.8415\n",
      "Epoch 14/30\n",
      "8000/8000 [==============================] - 2s 219us/step - loss: 0.4375 - acc: 0.8387\n",
      "Epoch 15/30\n",
      "8000/8000 [==============================] - 2s 213us/step - loss: 0.4185 - acc: 0.8436\n",
      "Epoch 16/30\n",
      "8000/8000 [==============================] - 2s 242us/step - loss: 0.4182 - acc: 0.8435\n",
      "Epoch 17/30\n",
      "8000/8000 [==============================] - 2s 239us/step - loss: 0.4108 - acc: 0.8427\n",
      "Epoch 18/30\n",
      "8000/8000 [==============================] - 2s 222us/step - loss: 0.4019 - acc: 0.8444\n",
      "Epoch 19/30\n",
      "8000/8000 [==============================] - 2s 219us/step - loss: 0.4065 - acc: 0.8466\n",
      "Epoch 20/30\n",
      "8000/8000 [==============================] - 2s 221us/step - loss: 0.4028 - acc: 0.8471\n",
      "Epoch 21/30\n",
      "8000/8000 [==============================] - 2s 216us/step - loss: 0.4065 - acc: 0.8482\n",
      "Epoch 22/30\n",
      "8000/8000 [==============================] - 2s 222us/step - loss: 0.4162 - acc: 0.8472\n",
      "Epoch 23/30\n",
      "8000/8000 [==============================] - 2s 225us/step - loss: 0.4084 - acc: 0.8506\n",
      "Epoch 24/30\n",
      "8000/8000 [==============================] - 2s 221us/step - loss: 0.3963 - acc: 0.8504\n",
      "Epoch 25/30\n",
      "8000/8000 [==============================] - 2s 230us/step - loss: 0.4130 - acc: 0.8477\n",
      "Epoch 26/30\n",
      "8000/8000 [==============================] - 2s 247us/step - loss: 0.4010 - acc: 0.8504\n",
      "Epoch 27/30\n",
      "8000/8000 [==============================] - 2s 228us/step - loss: 0.3955 - acc: 0.8477\n",
      "Epoch 28/30\n",
      "8000/8000 [==============================] - 2s 233us/step - loss: 0.3928 - acc: 0.8496\n",
      "Epoch 29/30\n",
      "8000/8000 [==============================] - 2s 240us/step - loss: 0.3997 - acc: 0.8437\n",
      "Epoch 30/30\n",
      "8000/8000 [==============================] - 2s 280us/step - loss: 0.3960 - acc: 0.8486\n"
     ]
    },
    {
     "data": {
      "image/png": "[encoded data removed]",
      "text/plain": [
       "<Figure size 360x288 with 2 Axes>"
      ]
     },
     "metadata": {
      "needs_background": "light"
     },
     "output_type": "display_data"
    }
   ],
   "source": [
    "learn([\n",
    "    {'units': 10, 'activation': 'relu'},\n",
    "    {'units': 10, 'activation': 'hard_sigmoid'},\n",
    "    {'units': 1, 'activation': 'relu'}\n",
    "])"
   ]
  },
  {
   "cell_type": "code",
   "execution_count": 330,
   "metadata": {
    "scrolled": true
   },
   "outputs": [
    {
     "name": "stdout",
     "output_type": "stream",
     "text": [
      "Epoch 1/30\n",
      "8000/8000 [==============================] - 5s 580us/step - loss: 0.4465 - acc: 0.7982\n",
      "Epoch 2/30\n",
      "8000/8000 [==============================] - 2s 256us/step - loss: 0.4205 - acc: 0.8090\n",
      "Epoch 3/30\n",
      "8000/8000 [==============================] - 3s 328us/step - loss: 0.4073 - acc: 0.8141\n",
      "Epoch 4/30\n",
      "8000/8000 [==============================] - 2s 252us/step - loss: 0.4001 - acc: 0.8185\n",
      "Epoch 5/30\n",
      "8000/8000 [==============================] - 2s 242us/step - loss: 0.3956 - acc: 0.8185\n",
      "Epoch 6/30\n",
      "8000/8000 [==============================] - 2s 247us/step - loss: 0.3950 - acc: 0.8195\n",
      "Epoch 7/30\n",
      "8000/8000 [==============================] - 2s 240us/step - loss: 0.3910 - acc: 0.8195\n",
      "Epoch 8/30\n",
      "8000/8000 [==============================] - 2s 239us/step - loss: 0.3915 - acc: 0.8197\n",
      "Epoch 9/30\n",
      "8000/8000 [==============================] - 2s 247us/step - loss: 0.3909 - acc: 0.8207\n",
      "Epoch 10/30\n",
      "8000/8000 [==============================] - 2s 245us/step - loss: 0.3884 - acc: 0.8180\n",
      "Epoch 11/30\n",
      "8000/8000 [==============================] - 2s 253us/step - loss: 0.3872 - acc: 0.8237\n",
      "Epoch 12/30\n",
      "8000/8000 [==============================] - 2s 270us/step - loss: 0.3860 - acc: 0.8202\n",
      "Epoch 13/30\n",
      "8000/8000 [==============================] - 2s 312us/step - loss: 0.3848 - acc: 0.8242\n",
      "Epoch 14/30\n",
      "8000/8000 [==============================] - 3s 313us/step - loss: 0.3837 - acc: 0.8272\n",
      "Epoch 15/30\n",
      "8000/8000 [==============================] - 2s 281us/step - loss: 0.3830 - acc: 0.8325\n",
      "Epoch 16/30\n",
      "8000/8000 [==============================] - 2s 270us/step - loss: 0.3834 - acc: 0.8336\n",
      "Epoch 17/30\n",
      "8000/8000 [==============================] - 2s 266us/step - loss: 0.3733 - acc: 0.8531\n",
      "Epoch 18/30\n",
      "8000/8000 [==============================] - 2s 259us/step - loss: 0.3760 - acc: 0.8465\n",
      "Epoch 19/30\n",
      "8000/8000 [==============================] - 2s 284us/step - loss: 0.3768 - acc: 0.8461\n",
      "Epoch 20/30\n",
      "8000/8000 [==============================] - 2s 290us/step - loss: 0.3771 - acc: 0.8377\n",
      "Epoch 21/30\n",
      "8000/8000 [==============================] - 2s 276us/step - loss: 0.3731 - acc: 0.8416\n",
      "Epoch 22/30\n",
      "8000/8000 [==============================] - 2s 261us/step - loss: 0.3738 - acc: 0.8346\n",
      "Epoch 23/30\n",
      "8000/8000 [==============================] - 2s 258us/step - loss: 0.3721 - acc: 0.8376\n",
      "Epoch 24/30\n",
      "8000/8000 [==============================] - 2s 253us/step - loss: 0.3720 - acc: 0.8474\n",
      "Epoch 25/30\n",
      "8000/8000 [==============================] - 2s 275us/step - loss: 0.3744 - acc: 0.8512\n",
      "Epoch 26/30\n",
      "8000/8000 [==============================] - 2s 265us/step - loss: 0.3713 - acc: 0.8500\n",
      "Epoch 27/30\n",
      "8000/8000 [==============================] - 2s 269us/step - loss: 0.3749 - acc: 0.8367\n",
      "Epoch 28/30\n",
      "8000/8000 [==============================] - 2s 287us/step - loss: 0.3695 - acc: 0.8481\n",
      "Epoch 29/30\n",
      "8000/8000 [==============================] - 2s 256us/step - loss: 0.3709 - acc: 0.8496\n",
      "Epoch 30/30\n",
      "8000/8000 [==============================] - 2s 258us/step - loss: 0.3726 - acc: 0.8539\n"
     ]
    },
    {
     "data": {
      "image/png": "[encoded data removed]",
      "text/plain": [
       "<Figure size 360x288 with 2 Axes>"
      ]
     },
     "metadata": {
      "needs_background": "light"
     },
     "output_type": "display_data"
    }
   ],
   "source": [
    "learn([\n",
    "    {'units': 480, 'activation': 'exponential'},\n",
    "    {'units': 6, 'activation': 'tanh'},\n",
    "    {'units': 1, 'activation': 'sigmoid'}\n",
    "])"
   ]
  },
  {
   "cell_type": "code",
   "execution_count": 328,
   "metadata": {},
   "outputs": [
    {
     "name": "stdout",
     "output_type": "stream",
     "text": [
      "Epoch 1/30\n",
      "8000/8000 [==============================] - 5s 679us/step - loss: 0.4814 - acc: 0.8114\n",
      "Epoch 2/30\n",
      "8000/8000 [==============================] - 2s 305us/step - loss: 0.4734 - acc: 0.8076\n",
      "Epoch 3/30\n",
      "8000/8000 [==============================] - 2s 229us/step - loss: 0.4357 - acc: 0.8281\n",
      "Epoch 4/30\n",
      "8000/8000 [==============================] - 2s 217us/step - loss: 0.4229 - acc: 0.8381\n",
      "Epoch 5/30\n",
      "8000/8000 [==============================] - 2s 218us/step - loss: 0.4591 - acc: 0.8194\n",
      "Epoch 6/30\n",
      "8000/8000 [==============================] - 2s 225us/step - loss: 0.4368 - acc: 0.8407\n",
      "Epoch 7/30\n",
      "8000/8000 [==============================] - 2s 255us/step - loss: 0.4252 - acc: 0.8452\n",
      "Epoch 8/30\n",
      "8000/8000 [==============================] - 2s 269us/step - loss: 0.4238 - acc: 0.8342\n",
      "Epoch 9/30\n",
      "8000/8000 [==============================] - 2s 228us/step - loss: 0.4173 - acc: 0.8475\n",
      "Epoch 10/30\n",
      "8000/8000 [==============================] - 2s 216us/step - loss: 0.4172 - acc: 0.8437\n",
      "Epoch 11/30\n",
      "8000/8000 [==============================] - 2s 219us/step - loss: 0.4168 - acc: 0.8475\n",
      "Epoch 12/30\n",
      "8000/8000 [==============================] - 2s 218us/step - loss: 0.4137 - acc: 0.8474\n",
      "Epoch 13/30\n",
      "8000/8000 [==============================] - 2s 225us/step - loss: 0.4400 - acc: 0.8245\n",
      "Epoch 14/30\n",
      "8000/8000 [==============================] - 2s 222us/step - loss: 0.4316 - acc: 0.8417\n",
      "Epoch 15/30\n",
      "8000/8000 [==============================] - 2s 256us/step - loss: 0.4005 - acc: 0.8519\n",
      "Epoch 16/30\n",
      "8000/8000 [==============================] - 2s 236us/step - loss: 0.4145 - acc: 0.8376\n",
      "Epoch 17/30\n",
      "8000/8000 [==============================] - 2s 228us/step - loss: 0.4625 - acc: 0.8112\n",
      "Epoch 18/30\n",
      "8000/8000 [==============================] - 2s 235us/step - loss: 0.4079 - acc: 0.8412\n",
      "Epoch 19/30\n",
      "8000/8000 [==============================] - 2s 280us/step - loss: 0.4033 - acc: 0.8452\n",
      "Epoch 20/30\n",
      "8000/8000 [==============================] - 2s 218us/step - loss: 0.3907 - acc: 0.8499\n",
      "Epoch 21/30\n",
      "8000/8000 [==============================] - 2s 220us/step - loss: 0.3757 - acc: 0.8526\n",
      "Epoch 22/30\n",
      "8000/8000 [==============================] - 2s 222us/step - loss: 0.3848 - acc: 0.8489\n",
      "Epoch 23/30\n",
      "8000/8000 [==============================] - 2s 218us/step - loss: 0.3867 - acc: 0.8519\n",
      "Epoch 24/30\n",
      "8000/8000 [==============================] - 2s 220us/step - loss: 0.3853 - acc: 0.8516\n",
      "Epoch 25/30\n",
      "8000/8000 [==============================] - 2s 230us/step - loss: 0.3819 - acc: 0.8532\n",
      "Epoch 26/30\n",
      "8000/8000 [==============================] - 2s 222us/step - loss: 0.3764 - acc: 0.8521\n",
      "Epoch 27/30\n",
      "8000/8000 [==============================] - 2s 220us/step - loss: 0.3763 - acc: 0.8566\n",
      "Epoch 28/30\n",
      "8000/8000 [==============================] - 2s 223us/step - loss: 0.3744 - acc: 0.8514\n",
      "Epoch 29/30\n",
      "8000/8000 [==============================] - 2s 218us/step - loss: 0.3637 - acc: 0.8567\n",
      "Epoch 30/30\n",
      "8000/8000 [==============================] - 2s 223us/step - loss: 0.4133 - acc: 0.8585\n"
     ]
    },
    {
     "data": {
      "image/png": "[encoded data removed]",
      "text/plain": [
       "<Figure size 360x288 with 2 Axes>"
      ]
     },
     "metadata": {
      "needs_background": "light"
     },
     "output_type": "display_data"
    }
   ],
   "source": [
    "learn([\n",
    "    {'units': 50, 'activation': 'relu'},\n",
    "    {'units': 20, 'activation': 'sigmoid'},\n",
    "    {'units': 1, 'activation': 'relu'}\n",
    "])"
   ]
  },
  {
   "cell_type": "code",
   "execution_count": null,
   "metadata": {},
   "outputs": [],
   "source": []
  }
 ],
 "metadata": {
  "kernelspec": {
   "display_name": "Python 3",
   "language": "python",
   "name": "python3"
  },
  "language_info": {
   "codemirror_mode": {
    "name": "ipython",
    "version": 3
   },
   "file_extension": ".py",
   "mimetype": "text/x-python",
   "name": "python",
   "nbconvert_exporter": "python",
   "pygments_lexer": "ipython3",
   "version": "3.7.1"
  }
 },
 "nbformat": 4,
 "nbformat_minor": 2
}
