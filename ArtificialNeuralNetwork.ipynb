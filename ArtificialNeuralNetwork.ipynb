{
 "cells": [
  {
   "cell_type": "code",
   "execution_count": 1,
   "metadata": {},
   "outputs": [],
   "source": [
    "# Artificial Neural Network\n",
    "\n",
    "# Installing Theano\n",
    "# pip install --upgrade --no-deps git+git://github.com/Theano/Theano.git\n",
    "\n",
    "# Installing Tensorflow\n",
    "# pip install tensorflow\n",
    "\n",
    "# Installing Keras\n",
    "# pip install --upgrade keras\n",
    "\n",
    "# Part 1 - Data Preprocessing"
   ]
  },
  {
   "cell_type": "code",
   "execution_count": 2,
   "metadata": {},
   "outputs": [
    {
     "name": "stdout",
     "output_type": "stream",
     "text": [
      "Requirement already satisfied: tensorflow==1.13.1 in /home/alunos/anaconda3/lib/python3.6/site-packages (from -r requirements.txt (line 1)) (1.13.1)\n",
      "Requirement already satisfied: numpy==1.16.2 in /home/alunos/anaconda3/lib/python3.6/site-packages (from -r requirements.txt (line 2)) (1.16.2)\n",
      "Requirement already satisfied: pandas==0.24.2 in /home/alunos/anaconda3/lib/python3.6/site-packages (from -r requirements.txt (line 3)) (0.24.2)\n",
      "Requirement already satisfied: matplotlib==3.0.3 in /home/alunos/anaconda3/lib/python3.6/site-packages (from -r requirements.txt (line 4)) (3.0.3)\n",
      "Requirement already satisfied: Keras==2.2.4 in /home/alunos/anaconda3/lib/python3.6/site-packages (from -r requirements.txt (line 5)) (2.2.4)\n",
      "Requirement already satisfied: sklearn==0.0 in /home/alunos/anaconda3/lib/python3.6/site-packages (from -r requirements.txt (line 6)) (0.0)\n",
      "Requirement already satisfied: keras-applications>=1.0.6 in /home/alunos/anaconda3/lib/python3.6/site-packages (from tensorflow==1.13.1->-r requirements.txt (line 1)) (1.0.7)\n",
      "Requirement already satisfied: protobuf>=3.6.1 in /home/alunos/anaconda3/lib/python3.6/site-packages (from tensorflow==1.13.1->-r requirements.txt (line 1)) (3.6.1)\n",
      "Requirement already satisfied: grpcio>=1.8.6 in /home/alunos/anaconda3/lib/python3.6/site-packages (from tensorflow==1.13.1->-r requirements.txt (line 1)) (1.16.1)\n",
      "Requirement already satisfied: absl-py>=0.1.6 in /home/alunos/anaconda3/lib/python3.6/site-packages (from tensorflow==1.13.1->-r requirements.txt (line 1)) (0.7.0)\n",
      "Requirement already satisfied: gast>=0.2.0 in /home/alunos/anaconda3/lib/python3.6/site-packages (from tensorflow==1.13.1->-r requirements.txt (line 1)) (0.2.2)\n",
      "Requirement already satisfied: keras-preprocessing>=1.0.5 in /home/alunos/anaconda3/lib/python3.6/site-packages (from tensorflow==1.13.1->-r requirements.txt (line 1)) (1.0.9)\n",
      "Requirement already satisfied: tensorboard<1.14.0,>=1.13.0 in /home/alunos/anaconda3/lib/python3.6/site-packages (from tensorflow==1.13.1->-r requirements.txt (line 1)) (1.13.1)\n",
      "Requirement already satisfied: tensorflow-estimator<1.14.0rc0,>=1.13.0 in /home/alunos/anaconda3/lib/python3.6/site-packages (from tensorflow==1.13.1->-r requirements.txt (line 1)) (1.13.0)\n",
      "Requirement already satisfied: six>=1.10.0 in /home/alunos/.local/lib/python3.6/site-packages (from tensorflow==1.13.1->-r requirements.txt (line 1)) (1.11.0)\n",
      "Requirement already satisfied: wheel>=0.26 in /home/alunos/anaconda3/lib/python3.6/site-packages (from tensorflow==1.13.1->-r requirements.txt (line 1)) (0.33.1)\n",
      "Requirement already satisfied: astor>=0.6.0 in /home/alunos/anaconda3/lib/python3.6/site-packages (from tensorflow==1.13.1->-r requirements.txt (line 1)) (0.7.1)\n",
      "Requirement already satisfied: termcolor>=1.1.0 in /home/alunos/anaconda3/lib/python3.6/site-packages (from tensorflow==1.13.1->-r requirements.txt (line 1)) (1.1.0)\n",
      "Requirement already satisfied: python-dateutil>=2.5.0 in /home/alunos/anaconda3/lib/python3.6/site-packages (from pandas==0.24.2->-r requirements.txt (line 3)) (2.8.0)\n",
      "Requirement already satisfied: pytz>=2011k in /home/alunos/.local/lib/python3.6/site-packages (from pandas==0.24.2->-r requirements.txt (line 3)) (2018.4)\n",
      "Requirement already satisfied: cycler>=0.10 in /home/alunos/anaconda3/lib/python3.6/site-packages (from matplotlib==3.0.3->-r requirements.txt (line 4)) (0.10.0)\n",
      "Requirement already satisfied: kiwisolver>=1.0.1 in /home/alunos/anaconda3/lib/python3.6/site-packages (from matplotlib==3.0.3->-r requirements.txt (line 4)) (1.0.1)\n",
      "Requirement already satisfied: pyparsing!=2.0.4,!=2.1.2,!=2.1.6,>=2.0.1 in /home/alunos/anaconda3/lib/python3.6/site-packages (from matplotlib==3.0.3->-r requirements.txt (line 4)) (2.3.1)\n",
      "Requirement already satisfied: scipy>=0.14 in /home/alunos/anaconda3/lib/python3.6/site-packages (from Keras==2.2.4->-r requirements.txt (line 5)) (1.2.1)\n",
      "Requirement already satisfied: pyyaml in /home/alunos/anaconda3/lib/python3.6/site-packages (from Keras==2.2.4->-r requirements.txt (line 5)) (5.1)\n",
      "Requirement already satisfied: h5py in /home/alunos/anaconda3/lib/python3.6/site-packages (from Keras==2.2.4->-r requirements.txt (line 5)) (2.9.0)\n",
      "Requirement already satisfied: scikit-learn in /home/alunos/anaconda3/lib/python3.6/site-packages (from sklearn==0.0->-r requirements.txt (line 6)) (0.20.3)\n",
      "Requirement already satisfied: setuptools in /home/alunos/.local/lib/python3.6/site-packages (from protobuf>=3.6.1->tensorflow==1.13.1->-r requirements.txt (line 1)) (39.2.0)\n",
      "Requirement already satisfied: markdown>=2.6.8 in /home/alunos/anaconda3/lib/python3.6/site-packages (from tensorboard<1.14.0,>=1.13.0->tensorflow==1.13.1->-r requirements.txt (line 1)) (3.0.1)\n",
      "Requirement already satisfied: werkzeug>=0.11.15 in /home/alunos/anaconda3/lib/python3.6/site-packages (from tensorboard<1.14.0,>=1.13.0->tensorflow==1.13.1->-r requirements.txt (line 1)) (0.14.1)\n"
     ]
    }
   ],
   "source": [
    "!pip install -r requirements.txt"
   ]
  },
  {
   "cell_type": "code",
   "execution_count": 3,
   "metadata": {},
   "outputs": [],
   "source": [
    "# Importing the libraries\n",
    "import numpy as np\n",
    "import matplotlib.pyplot as plt\n",
    "import pandas as pd"
   ]
  },
  {
   "cell_type": "code",
   "execution_count": 4,
   "metadata": {},
   "outputs": [],
   "source": [
    "# Importing the dataset\n",
    "dataset = pd.read_csv('Churn_Modelling.csv')\n",
    "X = dataset.iloc[:, 3:13].values\n",
    "y = dataset.iloc[:, 13].values"
   ]
  },
  {
   "cell_type": "code",
   "execution_count": 5,
   "metadata": {},
   "outputs": [
    {
     "name": "stderr",
     "output_type": "stream",
     "text": [
      "/home/alunos/anaconda3/lib/python3.6/site-packages/sklearn/preprocessing/_encoders.py:371: FutureWarning: The handling of integer data will change in version 0.22. Currently, the categories are determined based on the range [0, max(values)], while in the future they will be determined based on the unique values.\n",
      "If you want the future behaviour and silence this warning, you can specify \"categories='auto'\".\n",
      "In case you used a LabelEncoder before this OneHotEncoder to convert the categories to integers, then you can now use the OneHotEncoder directly.\n",
      "  warnings.warn(msg, FutureWarning)\n",
      "/home/alunos/anaconda3/lib/python3.6/site-packages/sklearn/preprocessing/_encoders.py:392: DeprecationWarning: The 'categorical_features' keyword is deprecated in version 0.20 and will be removed in 0.22. You can use the ColumnTransformer instead.\n",
      "  \"use the ColumnTransformer instead.\", DeprecationWarning)\n"
     ]
    }
   ],
   "source": [
    "# Encoding categorical data\n",
    "from sklearn.preprocessing import LabelEncoder, OneHotEncoder\n",
    "labelencoder_X_1 = LabelEncoder()\n",
    "X[:, 1] = labelencoder_X_1.fit_transform(X[:, 1])\n",
    "labelencoder_X_2 = LabelEncoder()\n",
    "X[:, 2] = labelencoder_X_2.fit_transform(X[:, 2])\n",
    "onehotencoder = OneHotEncoder(categorical_features = [1])\n",
    "X = onehotencoder.fit_transform(X).toarray()\n",
    "X = X[:, 1:]"
   ]
  },
  {
   "cell_type": "code",
   "execution_count": 6,
   "metadata": {},
   "outputs": [],
   "source": [
    "# Splitting the dataset into the Training set and Test set\n",
    "from sklearn.model_selection import train_test_split\n",
    "X_train, X_test, y_train, y_test = train_test_split(X, y, test_size = 0.2, random_state = 0)"
   ]
  },
  {
   "cell_type": "code",
   "execution_count": 7,
   "metadata": {},
   "outputs": [],
   "source": [
    "# Feature Scaling\n",
    "from sklearn.preprocessing import StandardScaler\n",
    "sc = StandardScaler()\n",
    "X_train = sc.fit_transform(X_train)\n",
    "X_test = sc.transform(X_test)"
   ]
  },
  {
   "cell_type": "code",
   "execution_count": 8,
   "metadata": {},
   "outputs": [
    {
     "name": "stderr",
     "output_type": "stream",
     "text": [
      "Using TensorFlow backend.\n"
     ]
    }
   ],
   "source": [
    "# Part 2 - Now let's make the ANN!\n",
    "\n",
    "# Importing the Keras libraries and packages\n",
    "import keras\n",
    "from keras.models import Sequential\n",
    "from keras.layers import Dense"
   ]
  },
  {
   "cell_type": "code",
   "execution_count": 9,
   "metadata": {},
   "outputs": [
    {
     "name": "stdout",
     "output_type": "stream",
     "text": [
      "WARNING:tensorflow:From /home/alunos/anaconda3/lib/python3.6/site-packages/tensorflow/python/framework/op_def_library.py:263: colocate_with (from tensorflow.python.framework.ops) is deprecated and will be removed in a future version.\n",
      "Instructions for updating:\n",
      "Colocations handled automatically by placer.\n"
     ]
    }
   ],
   "source": [
    "# Initialising the ANN\n",
    "classifier = Sequential()\n",
    "\n",
    "# Adding the input layer and the first hidden layer\n",
    "classifier.add(Dense(units = 6, kernel_initializer = 'uniform', activation = 'relu', input_dim = 11))\n",
    "\n",
    "# Adding the second hidden layer\n",
    "classifier.add(Dense(units = 6, kernel_initializer = 'uniform', activation = 'sigmoid'))\n",
    "\n",
    "# Adding the output layer\n",
    "classifier.add(Dense(units = 1, kernel_initializer = 'uniform', activation = 'tanh'))\n",
    "\n",
    "# Compiling the ANN\n",
    "classifier.compile(optimizer = 'adam', loss = 'binary_crossentropy', metrics = ['accuracy'])"
   ]
  },
  {
   "cell_type": "code",
   "execution_count": 10,
   "metadata": {},
   "outputs": [
    {
     "name": "stdout",
     "output_type": "stream",
     "text": [
      "WARNING:tensorflow:From /home/alunos/anaconda3/lib/python3.6/site-packages/tensorflow/python/ops/math_ops.py:3066: to_int32 (from tensorflow.python.ops.math_ops) is deprecated and will be removed in a future version.\n",
      "Instructions for updating:\n",
      "Use tf.cast instead.\n",
      "Epoch 1/100\n",
      "8000/8000 [==============================] - 2s 205us/step - loss: 3.2881 - acc: 0.7960\n",
      "Epoch 2/100\n",
      "8000/8000 [==============================] - 1s 118us/step - loss: 3.2881 - acc: 0.7960\n",
      "Epoch 3/100\n",
      "8000/8000 [==============================] - 1s 134us/step - loss: 3.2881 - acc: 0.7960\n",
      "Epoch 4/100\n",
      "8000/8000 [==============================] - 1s 129us/step - loss: 3.2881 - acc: 0.7960\n",
      "Epoch 5/100\n",
      "8000/8000 [==============================] - 1s 120us/step - loss: 3.2881 - acc: 0.7960\n",
      "Epoch 6/100\n",
      "8000/8000 [==============================] - 1s 110us/step - loss: 3.2881 - acc: 0.7960\n",
      "Epoch 7/100\n",
      "8000/8000 [==============================] - 1s 112us/step - loss: 3.2881 - acc: 0.7960\n",
      "Epoch 8/100\n",
      "8000/8000 [==============================] - 1s 117us/step - loss: 3.2881 - acc: 0.7960\n",
      "Epoch 9/100\n",
      "8000/8000 [==============================] - 1s 124us/step - loss: 3.2881 - acc: 0.7960\n",
      "Epoch 10/100\n",
      "8000/8000 [==============================] - 1s 112us/step - loss: 3.2881 - acc: 0.7960\n",
      "Epoch 11/100\n",
      "8000/8000 [==============================] - 1s 124us/step - loss: 3.2881 - acc: 0.7960\n",
      "Epoch 12/100\n",
      "8000/8000 [==============================] - 1s 130us/step - loss: 3.2881 - acc: 0.7960\n",
      "Epoch 13/100\n",
      "8000/8000 [==============================] - 1s 125us/step - loss: 3.2881 - acc: 0.7960\n",
      "Epoch 14/100\n",
      "8000/8000 [==============================] - 1s 139us/step - loss: 3.2881 - acc: 0.7960\n",
      "Epoch 15/100\n",
      "8000/8000 [==============================] - 1s 126us/step - loss: 3.2881 - acc: 0.7960\n",
      "Epoch 16/100\n",
      "8000/8000 [==============================] - 1s 132us/step - loss: 3.2881 - acc: 0.7960\n",
      "Epoch 17/100\n",
      "8000/8000 [==============================] - 1s 157us/step - loss: 3.2881 - acc: 0.7960\n",
      "Epoch 18/100\n",
      "8000/8000 [==============================] - 1s 130us/step - loss: 3.2881 - acc: 0.7960\n",
      "Epoch 19/100\n",
      "8000/8000 [==============================] - 1s 113us/step - loss: 3.2881 - acc: 0.7960\n",
      "Epoch 20/100\n",
      "8000/8000 [==============================] - 1s 113us/step - loss: 3.2881 - acc: 0.7960\n",
      "Epoch 21/100\n",
      "8000/8000 [==============================] - 1s 113us/step - loss: 3.2881 - acc: 0.7960\n",
      "Epoch 22/100\n",
      "8000/8000 [==============================] - 1s 119us/step - loss: 3.2881 - acc: 0.7960\n",
      "Epoch 23/100\n",
      "8000/8000 [==============================] - 1s 112us/step - loss: 3.2881 - acc: 0.7960\n",
      "Epoch 24/100\n",
      "8000/8000 [==============================] - 1s 116us/step - loss: 3.2881 - acc: 0.7960\n",
      "Epoch 25/100\n",
      "8000/8000 [==============================] - 1s 111us/step - loss: 3.2881 - acc: 0.7960\n",
      "Epoch 26/100\n",
      "8000/8000 [==============================] - 1s 116us/step - loss: 3.2881 - acc: 0.7960\n",
      "Epoch 27/100\n",
      "8000/8000 [==============================] - 1s 125us/step - loss: 3.2881 - acc: 0.7960\n",
      "Epoch 28/100\n",
      "8000/8000 [==============================] - 1s 158us/step - loss: 3.2881 - acc: 0.7960\n",
      "Epoch 29/100\n",
      "8000/8000 [==============================] - 1s 111us/step - loss: 3.2881 - acc: 0.7960\n",
      "Epoch 30/100\n",
      "8000/8000 [==============================] - 1s 115us/step - loss: 3.2881 - acc: 0.7960\n",
      "Epoch 31/100\n",
      "8000/8000 [==============================] - 1s 132us/step - loss: 3.2881 - acc: 0.7960\n",
      "Epoch 32/100\n",
      "8000/8000 [==============================] - 1s 116us/step - loss: 3.2881 - acc: 0.7960\n",
      "Epoch 33/100\n",
      "8000/8000 [==============================] - 1s 128us/step - loss: 3.2881 - acc: 0.7960\n",
      "Epoch 34/100\n",
      "8000/8000 [==============================] - 1s 122us/step - loss: 3.2881 - acc: 0.7960\n",
      "Epoch 35/100\n",
      "8000/8000 [==============================] - 1s 116us/step - loss: 3.2881 - acc: 0.7960\n",
      "Epoch 36/100\n",
      "8000/8000 [==============================] - 1s 134us/step - loss: 3.2881 - acc: 0.7960\n",
      "Epoch 37/100\n",
      "8000/8000 [==============================] - 1s 138us/step - loss: 3.2881 - acc: 0.7960\n",
      "Epoch 38/100\n",
      "8000/8000 [==============================] - 1s 115us/step - loss: 3.2881 - acc: 0.7960\n",
      "Epoch 39/100\n",
      "8000/8000 [==============================] - 1s 123us/step - loss: 3.2881 - acc: 0.7960\n",
      "Epoch 40/100\n",
      "8000/8000 [==============================] - 1s 123us/step - loss: 3.2881 - acc: 0.7960\n",
      "Epoch 41/100\n",
      "8000/8000 [==============================] - 1s 121us/step - loss: 3.2881 - acc: 0.7960\n",
      "Epoch 42/100\n",
      "8000/8000 [==============================] - 1s 158us/step - loss: 3.2881 - acc: 0.7960\n",
      "Epoch 43/100\n",
      "8000/8000 [==============================] - 1s 108us/step - loss: 3.2881 - acc: 0.7960\n",
      "Epoch 44/100\n",
      "8000/8000 [==============================] - 1s 122us/step - loss: 3.2881 - acc: 0.7960\n",
      "Epoch 45/100\n",
      "8000/8000 [==============================] - 1s 128us/step - loss: 3.2881 - acc: 0.7960\n",
      "Epoch 46/100\n",
      "8000/8000 [==============================] - 1s 142us/step - loss: 3.2881 - acc: 0.7960\n",
      "Epoch 47/100\n",
      "8000/8000 [==============================] - 1s 102us/step - loss: 3.2881 - acc: 0.7960\n",
      "Epoch 48/100\n",
      "8000/8000 [==============================] - 1s 107us/step - loss: 3.2881 - acc: 0.7960\n",
      "Epoch 49/100\n",
      "8000/8000 [==============================] - 1s 127us/step - loss: 3.2881 - acc: 0.7960\n",
      "Epoch 50/100\n",
      "8000/8000 [==============================] - 1s 97us/step - loss: 3.2881 - acc: 0.7960\n",
      "Epoch 51/100\n",
      "8000/8000 [==============================] - 1s 118us/step - loss: 3.2881 - acc: 0.7960\n",
      "Epoch 52/100\n",
      "8000/8000 [==============================] - 1s 146us/step - loss: 3.2881 - acc: 0.7960\n",
      "Epoch 53/100\n",
      "8000/8000 [==============================] - 1s 131us/step - loss: 3.2881 - acc: 0.7960\n",
      "Epoch 54/100\n",
      "8000/8000 [==============================] - 1s 170us/step - loss: 3.2881 - acc: 0.7960\n",
      "Epoch 55/100\n",
      "8000/8000 [==============================] - 1s 107us/step - loss: 3.2881 - acc: 0.7960\n",
      "Epoch 56/100\n",
      "8000/8000 [==============================] - 1s 142us/step - loss: 3.2881 - acc: 0.7960\n",
      "Epoch 57/100\n",
      "8000/8000 [==============================] - 1s 113us/step - loss: 3.2881 - acc: 0.7960\n",
      "Epoch 58/100\n",
      "8000/8000 [==============================] - 1s 104us/step - loss: 3.2881 - acc: 0.7960\n",
      "Epoch 59/100\n",
      "8000/8000 [==============================] - 1s 145us/step - loss: 3.2881 - acc: 0.7960\n",
      "Epoch 60/100\n",
      "8000/8000 [==============================] - 1s 129us/step - loss: 3.2881 - acc: 0.7960\n",
      "Epoch 61/100\n",
      "8000/8000 [==============================] - 1s 111us/step - loss: 3.2881 - acc: 0.7960\n",
      "Epoch 62/100\n",
      "8000/8000 [==============================] - 1s 98us/step - loss: 3.2881 - acc: 0.7960\n",
      "Epoch 63/100\n",
      "8000/8000 [==============================] - 1s 119us/step - loss: 3.2881 - acc: 0.7960\n",
      "Epoch 64/100\n",
      "8000/8000 [==============================] - 1s 100us/step - loss: 3.2881 - acc: 0.7960\n",
      "Epoch 65/100\n",
      "8000/8000 [==============================] - 1s 98us/step - loss: 3.2881 - acc: 0.7960\n",
      "Epoch 66/100\n",
      "8000/8000 [==============================] - 1s 120us/step - loss: 3.2881 - acc: 0.7960\n",
      "Epoch 67/100\n",
      "8000/8000 [==============================] - 1s 120us/step - loss: 3.2881 - acc: 0.7960\n",
      "Epoch 68/100\n",
      "8000/8000 [==============================] - 1s 124us/step - loss: 3.2881 - acc: 0.7960\n",
      "Epoch 69/100\n",
      "8000/8000 [==============================] - 1s 124us/step - loss: 3.2881 - acc: 0.7960\n",
      "Epoch 70/100\n",
      "8000/8000 [==============================] - 1s 96us/step - loss: 3.2881 - acc: 0.7960\n",
      "Epoch 71/100\n",
      "8000/8000 [==============================] - 1s 93us/step - loss: 3.2881 - acc: 0.7960\n",
      "Epoch 72/100\n",
      "8000/8000 [==============================] - 1s 105us/step - loss: 3.2881 - acc: 0.7960\n",
      "Epoch 73/100\n",
      "8000/8000 [==============================] - 1s 118us/step - loss: 3.2881 - acc: 0.7960\n",
      "Epoch 74/100\n",
      "8000/8000 [==============================] - 1s 108us/step - loss: 3.2881 - acc: 0.7960\n",
      "Epoch 75/100\n",
      "8000/8000 [==============================] - 1s 185us/step - loss: 3.2881 - acc: 0.7960\n",
      "Epoch 76/100\n",
      "8000/8000 [==============================] - 1s 139us/step - loss: 3.2881 - acc: 0.7960\n",
      "Epoch 77/100\n",
      "8000/8000 [==============================] - 1s 173us/step - loss: 3.2881 - acc: 0.7960\n",
      "Epoch 78/100\n",
      "8000/8000 [==============================] - 1s 136us/step - loss: 3.2881 - acc: 0.7960\n",
      "Epoch 79/100\n",
      "8000/8000 [==============================] - 1s 151us/step - loss: 3.2881 - acc: 0.7960\n",
      "Epoch 80/100\n",
      "8000/8000 [==============================] - 1s 131us/step - loss: 3.2881 - acc: 0.7960\n",
      "Epoch 81/100\n",
      "8000/8000 [==============================] - 1s 133us/step - loss: 3.2881 - acc: 0.7960\n",
      "Epoch 82/100\n",
      "8000/8000 [==============================] - 1s 127us/step - loss: 3.2881 - acc: 0.7960\n",
      "Epoch 83/100\n",
      "8000/8000 [==============================] - 1s 125us/step - loss: 3.2881 - acc: 0.7960\n",
      "Epoch 84/100\n",
      "8000/8000 [==============================] - 1s 115us/step - loss: 3.2881 - acc: 0.7960\n",
      "Epoch 85/100\n",
      "8000/8000 [==============================] - 1s 128us/step - loss: 3.2881 - acc: 0.7960\n",
      "Epoch 86/100\n",
      "8000/8000 [==============================] - 1s 130us/step - loss: 3.2881 - acc: 0.7960\n",
      "Epoch 87/100\n",
      "8000/8000 [==============================] - 1s 107us/step - loss: 3.2881 - acc: 0.7960\n",
      "Epoch 88/100\n",
      "8000/8000 [==============================] - 1s 100us/step - loss: 3.2881 - acc: 0.7960\n",
      "Epoch 89/100\n",
      "8000/8000 [==============================] - 1s 107us/step - loss: 3.2881 - acc: 0.7960\n",
      "Epoch 90/100\n",
      "8000/8000 [==============================] - 1s 100us/step - loss: 3.2881 - acc: 0.7960\n",
      "Epoch 91/100\n",
      "8000/8000 [==============================] - 1s 128us/step - loss: 3.2881 - acc: 0.7960\n",
      "Epoch 92/100\n",
      "8000/8000 [==============================] - 1s 133us/step - loss: 3.2881 - acc: 0.7960\n",
      "Epoch 93/100\n",
      "8000/8000 [==============================] - 1s 138us/step - loss: 3.2881 - acc: 0.7960\n",
      "Epoch 94/100\n",
      "8000/8000 [==============================] - 2s 193us/step - loss: 3.2881 - acc: 0.7960\n",
      "Epoch 95/100\n",
      "8000/8000 [==============================] - 1s 131us/step - loss: 3.2881 - acc: 0.7960\n",
      "Epoch 96/100\n",
      "8000/8000 [==============================] - 1s 143us/step - loss: 3.2881 - acc: 0.7960\n",
      "Epoch 97/100\n",
      "8000/8000 [==============================] - 1s 134us/step - loss: 3.2881 - acc: 0.7960\n",
      "Epoch 98/100\n",
      "8000/8000 [==============================] - 1s 138us/step - loss: 3.2881 - acc: 0.7960\n",
      "Epoch 99/100\n",
      "8000/8000 [==============================] - 1s 143us/step - loss: 3.2881 - acc: 0.7960\n",
      "Epoch 100/100\n",
      "8000/8000 [==============================] - 1s 131us/step - loss: 3.2881 - acc: 0.7960\n"
     ]
    },
    {
     "data": {
      "text/plain": [
       "<keras.callbacks.History at 0x7fd1aa823f98>"
      ]
     },
     "execution_count": 10,
     "metadata": {},
     "output_type": "execute_result"
    }
   ],
   "source": [
    "# Fitting the ANN to the Training set\n",
    "classifier.fit(X_train, y_train, batch_size = 10, epochs = 100)"
   ]
  },
  {
   "cell_type": "code",
   "execution_count": 11,
   "metadata": {},
   "outputs": [],
   "source": [
    "\n",
    "# Part 3 - Making predictions and evaluating the model\n",
    "\n",
    "# Predicting the Test set results\n",
    "y_pred = classifier.predict(X_test)\n",
    "y_pred = (y_pred > 0.5)\n",
    "\n",
    "# Making the Confusion Matrix\n",
    "from sklearn.metrics import confusion_matrix\n",
    "cm = confusion_matrix(y_test, y_pred)"
   ]
  },
  {
   "cell_type": "code",
   "execution_count": 12,
   "metadata": {},
   "outputs": [
    {
     "name": "stdout",
     "output_type": "stream",
     "text": [
      "[[1595    0]\n",
      " [ 405    0]]\n"
     ]
    }
   ],
   "source": [
    "print(cm)"
   ]
  }
 ],
 "metadata": {
  "kernelspec": {
   "display_name": "Python 3",
   "language": "python",
   "name": "python3"
  },
  "language_info": {
   "codemirror_mode": {
    "name": "ipython",
    "version": 3
   },
   "file_extension": ".py",
   "mimetype": "text/x-python",
   "name": "python",
   "nbconvert_exporter": "python",
   "pygments_lexer": "ipython3",
   "version": "3.7.3"
  }
 },
 "nbformat": 4,
 "nbformat_minor": 2
}
