{
 "cells": [
  {
   "cell_type": "code",
   "execution_count": null,
   "metadata": {},
   "outputs": [],
   "source": [
    "# Artificial Neural Network\n",
    "\n",
    "# Installing Theano\n",
    "# pip install --upgrade --no-deps git+git://github.com/Theano/Theano.git\n",
    "\n",
    "# Installing Tensorflow\n",
    "# pip install tensorflow\n",
    "\n",
    "# Installing Keras\n",
    "# pip install --upgrade keras\n",
    "\n",
    "# Part 1 - Data Preprocessing"
   ]
  },
  {
   "cell_type": "code",
   "execution_count": null,
   "metadata": {},
   "outputs": [],
   "source": [
    "!pip install -r requirements.txt"
   ]
  },
  {
   "cell_type": "code",
   "execution_count": 1,
   "metadata": {},
   "outputs": [],
   "source": [
    "# Importing the libraries\n",
    "import numpy as np\n",
    "import matplotlib.pyplot as plt\n",
    "import pandas as pd"
   ]
  },
  {
   "cell_type": "code",
   "execution_count": 2,
   "metadata": {},
   "outputs": [],
   "source": [
    "# Importing the dataset\n",
    "dataset = pd.read_csv('Churn_Modelling.csv')\n",
    "X = dataset.iloc[:, 3:13].values\n",
    "y = dataset.iloc[:, 13].values"
   ]
  },
  {
   "cell_type": "code",
   "execution_count": 3,
   "metadata": {},
   "outputs": [
    {
     "name": "stderr",
     "output_type": "stream",
     "text": [
      "/home/igor/anaconda3/lib/python3.7/site-packages/sklearn/preprocessing/_encoders.py:368: FutureWarning: The handling of integer data will change in version 0.22. Currently, the categories are determined based on the range [0, max(values)], while in the future they will be determined based on the unique values.\n",
      "If you want the future behaviour and silence this warning, you can specify \"categories='auto'\".\n",
      "In case you used a LabelEncoder before this OneHotEncoder to convert the categories to integers, then you can now use the OneHotEncoder directly.\n",
      "  warnings.warn(msg, FutureWarning)\n",
      "/home/igor/anaconda3/lib/python3.7/site-packages/sklearn/preprocessing/_encoders.py:390: DeprecationWarning: The 'categorical_features' keyword is deprecated in version 0.20 and will be removed in 0.22. You can use the ColumnTransformer instead.\n",
      "  \"use the ColumnTransformer instead.\", DeprecationWarning)\n"
     ]
    }
   ],
   "source": [
    "# Encoding categorical data\n",
    "from sklearn.preprocessing import LabelEncoder, OneHotEncoder\n",
    "labelencoder_X_1 = LabelEncoder()\n",
    "X[:, 1] = labelencoder_X_1.fit_transform(X[:, 1])\n",
    "labelencoder_X_2 = LabelEncoder()\n",
    "X[:, 2] = labelencoder_X_2.fit_transform(X[:, 2])\n",
    "onehotencoder = OneHotEncoder(categorical_features = [1])\n",
    "X = onehotencoder.fit_transform(X).toarray()\n",
    "X = X[:, 1:]"
   ]
  },
  {
   "cell_type": "code",
   "execution_count": 4,
   "metadata": {},
   "outputs": [],
   "source": [
    "# Splitting the dataset into the Training set and Test set\n",
    "from sklearn.model_selection import train_test_split\n",
    "X_train, X_test, y_train, y_test = train_test_split(X, y, test_size = 0.2, random_state = 0)"
   ]
  },
  {
   "cell_type": "code",
   "execution_count": 5,
   "metadata": {},
   "outputs": [],
   "source": [
    "# Feature Scaling\n",
    "from sklearn.preprocessing import StandardScaler\n",
    "sc = StandardScaler()\n",
    "X_train = sc.fit_transform(X_train)\n",
    "X_test = sc.transform(X_test)"
   ]
  },
  {
   "cell_type": "code",
   "execution_count": 6,
   "metadata": {},
   "outputs": [
    {
     "name": "stderr",
     "output_type": "stream",
     "text": [
      "Using TensorFlow backend.\n"
     ]
    }
   ],
   "source": [
    "# Part 2 - Now let's make the ANN!\n",
    "\n",
    "# Importing the Keras libraries and packages\n",
    "import keras\n",
    "from keras.models import Sequential\n",
    "from keras.layers import Dense"
   ]
  },
  {
   "cell_type": "code",
   "execution_count": 7,
   "metadata": {},
   "outputs": [
    {
     "name": "stdout",
     "output_type": "stream",
     "text": [
      "WARNING:tensorflow:From /home/igor/anaconda3/lib/python3.7/site-packages/tensorflow/python/framework/op_def_library.py:263: colocate_with (from tensorflow.python.framework.ops) is deprecated and will be removed in a future version.\n",
      "Instructions for updating:\n",
      "Colocations handled automatically by placer.\n"
     ]
    }
   ],
   "source": [
    "# Initialising the ANN\n",
    "classifier = Sequential()\n",
    "\n",
    "# Adding the input layer and the first hidden layer\n",
    "classifier.add(Dense(units = 6, kernel_initializer = 'uniform', activation = 'relu', input_dim = 11))\n",
    "\n",
    "# Adding the second hidden layer\n",
    "classifier.add(Dense(units = 6, kernel_initializer = 'uniform', activation = 'relu'))\n",
    "\n",
    "# Adding the output layer\n",
    "classifier.add(Dense(units = 1, kernel_initializer = 'uniform', activation = 'sigmoid'))\n",
    "\n",
    "# Compiling the ANN\n",
    "classifier.compile(optimizer = 'adam', loss = 'binary_crossentropy', metrics = ['accuracy'])"
   ]
  },
  {
   "cell_type": "code",
   "execution_count": 8,
   "metadata": {},
   "outputs": [
    {
     "name": "stdout",
     "output_type": "stream",
     "text": [
      "WARNING:tensorflow:From /home/igor/anaconda3/lib/python3.7/site-packages/tensorflow/python/ops/math_ops.py:3066: to_int32 (from tensorflow.python.ops.math_ops) is deprecated and will be removed in a future version.\n",
      "Instructions for updating:\n",
      "Use tf.cast instead.\n",
      "Epoch 1/100\n",
      "8000/8000 [==============================] - 2s 299us/step - loss: 0.4802 - acc: 0.7960\n",
      "Epoch 2/100\n",
      "8000/8000 [==============================] - 1s 96us/step - loss: 0.4263 - acc: 0.7960\n",
      "Epoch 3/100\n",
      "8000/8000 [==============================] - 1s 95us/step - loss: 0.4204 - acc: 0.8019\n",
      "Epoch 4/100\n",
      "8000/8000 [==============================] - 1s 99us/step - loss: 0.4172 - acc: 0.8232\n",
      "Epoch 5/100\n",
      "8000/8000 [==============================] - 1s 100us/step - loss: 0.4156 - acc: 0.8277\n",
      "Epoch 6/100\n",
      "8000/8000 [==============================] - 1s 100us/step - loss: 0.4141 - acc: 0.8299\n",
      "Epoch 7/100\n",
      "8000/8000 [==============================] - 1s 139us/step - loss: 0.4129 - acc: 0.8314\n",
      "Epoch 8/100\n",
      "8000/8000 [==============================] - 1s 101us/step - loss: 0.4117 - acc: 0.8327\n",
      "Epoch 9/100\n",
      "8000/8000 [==============================] - 1s 114us/step - loss: 0.4103 - acc: 0.8325\n",
      "Epoch 10/100\n",
      "8000/8000 [==============================] - 1s 103us/step - loss: 0.4101 - acc: 0.8326\n",
      "Epoch 11/100\n",
      "8000/8000 [==============================] - 1s 103us/step - loss: 0.4094 - acc: 0.8346\n",
      "Epoch 12/100\n",
      "8000/8000 [==============================] - 1s 109us/step - loss: 0.4089 - acc: 0.8349\n",
      "Epoch 13/100\n",
      "8000/8000 [==============================] - 1s 97us/step - loss: 0.4082 - acc: 0.8351\n",
      "Epoch 14/100\n",
      "8000/8000 [==============================] - 1s 100us/step - loss: 0.4073 - acc: 0.8336\n",
      "Epoch 15/100\n",
      "8000/8000 [==============================] - 1s 103us/step - loss: 0.4068 - acc: 0.8347\n",
      "Epoch 16/100\n",
      "8000/8000 [==============================] - 1s 113us/step - loss: 0.4070 - acc: 0.8354\n",
      "Epoch 17/100\n",
      "8000/8000 [==============================] - 1s 135us/step - loss: 0.4061 - acc: 0.8347\n",
      "Epoch 18/100\n",
      "8000/8000 [==============================] - 1s 98us/step - loss: 0.4065 - acc: 0.8346\n",
      "Epoch 19/100\n",
      "8000/8000 [==============================] - 1s 96us/step - loss: 0.4056 - acc: 0.8334\n",
      "Epoch 20/100\n",
      "8000/8000 [==============================] - 1s 99us/step - loss: 0.4052 - acc: 0.8361\n",
      "Epoch 21/100\n",
      "8000/8000 [==============================] - 1s 114us/step - loss: 0.4046 - acc: 0.8337\n",
      "Epoch 22/100\n",
      "8000/8000 [==============================] - 1s 102us/step - loss: 0.4035 - acc: 0.8360\n",
      "Epoch 23/100\n",
      "8000/8000 [==============================] - 1s 101us/step - loss: 0.4030 - acc: 0.8349\n",
      "Epoch 24/100\n",
      "8000/8000 [==============================] - 1s 105us/step - loss: 0.4021 - acc: 0.8341\n",
      "Epoch 25/100\n",
      "8000/8000 [==============================] - 1s 100us/step - loss: 0.4016 - acc: 0.8356\n",
      "Epoch 26/100\n",
      "8000/8000 [==============================] - 1s 112us/step - loss: 0.4013 - acc: 0.8355\n",
      "Epoch 27/100\n",
      "8000/8000 [==============================] - 1s 102us/step - loss: 0.4003 - acc: 0.8340\n",
      "Epoch 28/100\n",
      "8000/8000 [==============================] - 1s 97us/step - loss: 0.3999 - acc: 0.8354\n",
      "Epoch 29/100\n",
      "8000/8000 [==============================] - 1s 97us/step - loss: 0.3991 - acc: 0.8330\n",
      "Epoch 30/100\n",
      "8000/8000 [==============================] - 1s 100us/step - loss: 0.3989 - acc: 0.8350\n",
      "Epoch 31/100\n",
      "8000/8000 [==============================] - 1s 99us/step - loss: 0.3984 - acc: 0.8345\n",
      "Epoch 32/100\n",
      "8000/8000 [==============================] - 1s 98us/step - loss: 0.3978 - acc: 0.8354\n",
      "Epoch 33/100\n",
      "8000/8000 [==============================] - 1s 102us/step - loss: 0.3981 - acc: 0.8337\n",
      "Epoch 34/100\n",
      "8000/8000 [==============================] - 1s 109us/step - loss: 0.3972 - acc: 0.8339\n",
      "Epoch 35/100\n",
      "8000/8000 [==============================] - 1s 151us/step - loss: 0.3970 - acc: 0.8360\n",
      "Epoch 36/100\n",
      "8000/8000 [==============================] - 1s 102us/step - loss: 0.3974 - acc: 0.8356\n",
      "Epoch 37/100\n",
      "8000/8000 [==============================] - 1s 100us/step - loss: 0.3970 - acc: 0.8357\n",
      "Epoch 38/100\n",
      "8000/8000 [==============================] - 1s 100us/step - loss: 0.3969 - acc: 0.8369\n",
      "Epoch 39/100\n",
      "8000/8000 [==============================] - 1s 102us/step - loss: 0.3964 - acc: 0.8351\n",
      "Epoch 40/100\n",
      "8000/8000 [==============================] - 1s 99us/step - loss: 0.3966 - acc: 0.8350\n",
      "Epoch 41/100\n",
      "8000/8000 [==============================] - 1s 96us/step - loss: 0.3958 - acc: 0.8369\n",
      "Epoch 42/100\n",
      "8000/8000 [==============================] - 1s 144us/step - loss: 0.3959 - acc: 0.8355\n",
      "Epoch 43/100\n",
      "8000/8000 [==============================] - 1s 123us/step - loss: 0.3952 - acc: 0.8382\n",
      "Epoch 44/100\n",
      "8000/8000 [==============================] - 1s 97us/step - loss: 0.3957 - acc: 0.8364\n",
      "Epoch 45/100\n",
      "8000/8000 [==============================] - 1s 95us/step - loss: 0.3958 - acc: 0.8350\n",
      "Epoch 46/100\n",
      "8000/8000 [==============================] - 1s 102us/step - loss: 0.3951 - acc: 0.8362\n",
      "Epoch 47/100\n",
      "8000/8000 [==============================] - 1s 97us/step - loss: 0.3959 - acc: 0.8352\n",
      "Epoch 48/100\n",
      "8000/8000 [==============================] - 1s 113us/step - loss: 0.3949 - acc: 0.8347\n",
      "Epoch 49/100\n",
      "8000/8000 [==============================] - 1s 112us/step - loss: 0.3955 - acc: 0.8366\n",
      "Epoch 50/100\n",
      "8000/8000 [==============================] - 1s 100us/step - loss: 0.3957 - acc: 0.8347\n",
      "Epoch 51/100\n",
      "8000/8000 [==============================] - 1s 103us/step - loss: 0.3961 - acc: 0.8355\n",
      "Epoch 52/100\n",
      "8000/8000 [==============================] - 1s 102us/step - loss: 0.3950 - acc: 0.8359\n",
      "Epoch 53/100\n",
      "8000/8000 [==============================] - 1s 102us/step - loss: 0.3955 - acc: 0.8361\n",
      "Epoch 54/100\n",
      "8000/8000 [==============================] - 1s 113us/step - loss: 0.3955 - acc: 0.8369\n",
      "Epoch 55/100\n",
      "8000/8000 [==============================] - 1s 147us/step - loss: 0.3952 - acc: 0.8335\n",
      "Epoch 56/100\n",
      "8000/8000 [==============================] - 1s 120us/step - loss: 0.3944 - acc: 0.8370\n",
      "Epoch 57/100\n",
      "8000/8000 [==============================] - 1s 112us/step - loss: 0.3950 - acc: 0.8370\n",
      "Epoch 58/100\n",
      "8000/8000 [==============================] - 1s 106us/step - loss: 0.3955 - acc: 0.8350\n",
      "Epoch 59/100\n",
      "8000/8000 [==============================] - 1s 98us/step - loss: 0.3950 - acc: 0.8361\n",
      "Epoch 60/100\n",
      "8000/8000 [==============================] - 1s 109us/step - loss: 0.3952 - acc: 0.8351\n",
      "Epoch 61/100\n",
      "8000/8000 [==============================] - 1s 118us/step - loss: 0.3950 - acc: 0.8354\n",
      "Epoch 62/100\n",
      "8000/8000 [==============================] - 1s 103us/step - loss: 0.3951 - acc: 0.8356\n",
      "Epoch 63/100\n",
      "8000/8000 [==============================] - 1s 116us/step - loss: 0.3947 - acc: 0.8371\n",
      "Epoch 64/100\n",
      "8000/8000 [==============================] - 1s 129us/step - loss: 0.3951 - acc: 0.8357\n",
      "Epoch 65/100\n",
      "8000/8000 [==============================] - 1s 134us/step - loss: 0.3951 - acc: 0.8346\n",
      "Epoch 66/100\n",
      "8000/8000 [==============================] - 1s 103us/step - loss: 0.3948 - acc: 0.8364\n",
      "Epoch 67/100\n",
      "8000/8000 [==============================] - 1s 111us/step - loss: 0.3949 - acc: 0.8350\n",
      "Epoch 68/100\n",
      "8000/8000 [==============================] - 1s 106us/step - loss: 0.3950 - acc: 0.8362\n",
      "Epoch 69/100\n",
      "8000/8000 [==============================] - 1s 78us/step - loss: 0.3942 - acc: 0.8352\n",
      "Epoch 70/100\n",
      "8000/8000 [==============================] - 1s 97us/step - loss: 0.3948 - acc: 0.8346\n",
      "Epoch 71/100\n",
      "8000/8000 [==============================] - 1s 111us/step - loss: 0.3948 - acc: 0.8361\n",
      "Epoch 72/100\n",
      "8000/8000 [==============================] - 1s 110us/step - loss: 0.3944 - acc: 0.8359\n",
      "Epoch 73/100\n",
      "8000/8000 [==============================] - 1s 111us/step - loss: 0.3949 - acc: 0.8347\n",
      "Epoch 74/100\n",
      "8000/8000 [==============================] - 1s 91us/step - loss: 0.3948 - acc: 0.8336\n",
      "Epoch 75/100\n",
      "8000/8000 [==============================] - 1s 69us/step - loss: 0.3948 - acc: 0.8340\n",
      "Epoch 76/100\n",
      "8000/8000 [==============================] - 1s 69us/step - loss: 0.3940 - acc: 0.8355\n",
      "Epoch 77/100\n",
      "8000/8000 [==============================] - 1s 69us/step - loss: 0.3946 - acc: 0.8349\n",
      "Epoch 78/100\n",
      "8000/8000 [==============================] - 1s 74us/step - loss: 0.3944 - acc: 0.8359\n",
      "Epoch 79/100\n"
     ]
    },
    {
     "name": "stdout",
     "output_type": "stream",
     "text": [
      "8000/8000 [==============================] - 1s 72us/step - loss: 0.3946 - acc: 0.8355\n",
      "Epoch 80/100\n",
      "8000/8000 [==============================] - 1s 89us/step - loss: 0.3940 - acc: 0.8357\n",
      "Epoch 81/100\n",
      "8000/8000 [==============================] - 1s 84us/step - loss: 0.3943 - acc: 0.8367\n",
      "Epoch 82/100\n",
      "8000/8000 [==============================] - 1s 88us/step - loss: 0.3942 - acc: 0.8379\n",
      "Epoch 83/100\n",
      "8000/8000 [==============================] - 1s 94us/step - loss: 0.3943 - acc: 0.8379\n",
      "Epoch 84/100\n",
      "8000/8000 [==============================] - 1s 80us/step - loss: 0.3937 - acc: 0.8371\n",
      "Epoch 85/100\n",
      "8000/8000 [==============================] - 1s 100us/step - loss: 0.3944 - acc: 0.8370\n",
      "Epoch 86/100\n",
      "8000/8000 [==============================] - 1s 111us/step - loss: 0.3943 - acc: 0.8364\n",
      "Epoch 87/100\n",
      "8000/8000 [==============================] - 1s 84us/step - loss: 0.3943 - acc: 0.8360\n",
      "Epoch 88/100\n",
      "8000/8000 [==============================] - 1s 77us/step - loss: 0.3944 - acc: 0.8360\n",
      "Epoch 89/100\n",
      "8000/8000 [==============================] - 1s 71us/step - loss: 0.3943 - acc: 0.8352\n",
      "Epoch 90/100\n",
      "8000/8000 [==============================] - 1s 76us/step - loss: 0.3932 - acc: 0.8366\n",
      "Epoch 91/100\n",
      "8000/8000 [==============================] - 1s 81us/step - loss: 0.3940 - acc: 0.8370\n",
      "Epoch 92/100\n",
      "8000/8000 [==============================] - 1s 75us/step - loss: 0.3945 - acc: 0.8357\n",
      "Epoch 93/100\n",
      "8000/8000 [==============================] - 1s 72us/step - loss: 0.3937 - acc: 0.8366\n",
      "Epoch 94/100\n",
      "8000/8000 [==============================] - 1s 71us/step - loss: 0.3937 - acc: 0.8370\n",
      "Epoch 95/100\n",
      "8000/8000 [==============================] - 1s 81us/step - loss: 0.3946 - acc: 0.8365\n",
      "Epoch 96/100\n",
      "8000/8000 [==============================] - 1s 75us/step - loss: 0.3943 - acc: 0.8351\n",
      "Epoch 97/100\n",
      "8000/8000 [==============================] - 1s 75us/step - loss: 0.3939 - acc: 0.8366\n",
      "Epoch 98/100\n",
      "8000/8000 [==============================] - 1s 77us/step - loss: 0.3940 - acc: 0.8357\n",
      "Epoch 99/100\n",
      "8000/8000 [==============================] - 1s 76us/step - loss: 0.3941 - acc: 0.8359\n",
      "Epoch 100/100\n",
      "8000/8000 [==============================] - 1s 76us/step - loss: 0.3937 - acc: 0.8351\n"
     ]
    },
    {
     "data": {
      "text/plain": [
       "<keras.callbacks.History at 0x7ff1d33235c0>"
      ]
     },
     "execution_count": 8,
     "metadata": {},
     "output_type": "execute_result"
    }
   ],
   "source": [
    "# Fitting the ANN to the Training set\n",
    "classifier.fit(X_train, y_train, batch_size = 10, epochs = 100)"
   ]
  },
  {
   "cell_type": "code",
   "execution_count": 9,
   "metadata": {},
   "outputs": [],
   "source": [
    "\n",
    "# Part 3 - Making predictions and evaluating the model\n",
    "\n",
    "# Predicting the Test set results\n",
    "y_pred = classifier.predict(X_test)\n",
    "y_pred = (y_pred > 0.5)\n",
    "\n",
    "# Making the Confusion Matrix\n",
    "from sklearn.metrics import confusion_matrix\n",
    "cm = confusion_matrix(y_test, y_pred)"
   ]
  },
  {
   "cell_type": "code",
   "execution_count": 10,
   "metadata": {},
   "outputs": [
    {
     "name": "stdout",
     "output_type": "stream",
     "text": [
      "[[1548   47]\n",
      " [ 266  139]]\n"
     ]
    }
   ],
   "source": [
    "print(cm)"
   ]
  },
  {
   "cell_type": "code",
   "execution_count": 23,
   "metadata": {},
   "outputs": [],
   "source": [
    "# Initialising the second ANN\n",
    "classifier2 = Sequential()\n",
    "\n",
    "# Adding the input layer and the first hidden layer\n",
    "classifier2.add(Dense(units = 6, kernel_initializer = 'uniform', activation = 'tanh', input_dim = 11))\n",
    "\n",
    "# Adding the second hidden layer\n",
    "classifier2.add(Dense(units = 6, kernel_initializer = 'uniform', activation = 'relu'))\n",
    "\n",
    "# Adding the output layer\n",
    "classifier2.add(Dense(units = 1, kernel_initializer = 'uniform', activation = 'hard_sigmoid'))\n",
    "\n",
    "# Compiling the ANN\n",
    "classifier2.compile(optimizer = 'adam', loss = 'binary_crossentropy', metrics = ['accuracy'])"
   ]
  },
  {
   "cell_type": "code",
   "execution_count": 24,
   "metadata": {},
   "outputs": [
    {
     "name": "stdout",
     "output_type": "stream",
     "text": [
      "Epoch 1/100\n",
      "8000/8000 [==============================] - 1s 156us/step - loss: 0.5068 - acc: 0.7954\n",
      "Epoch 2/100\n",
      "8000/8000 [==============================] - 1s 133us/step - loss: 0.4331 - acc: 0.7999\n",
      "Epoch 3/100\n",
      "8000/8000 [==============================] - 1s 112us/step - loss: 0.4373 - acc: 0.8079\n",
      "Epoch 4/100\n",
      "8000/8000 [==============================] - 1s 114us/step - loss: 0.4330 - acc: 0.8066\n",
      "Epoch 5/100\n",
      "8000/8000 [==============================] - 1s 107us/step - loss: 0.4275 - acc: 0.8102\n",
      "Epoch 6/100\n",
      "8000/8000 [==============================] - 1s 112us/step - loss: 0.4270 - acc: 0.8131\n",
      "Epoch 7/100\n",
      "8000/8000 [==============================] - 1s 110us/step - loss: 0.4272 - acc: 0.8147\n",
      "Epoch 8/100\n",
      "8000/8000 [==============================] - 1s 121us/step - loss: 0.4208 - acc: 0.8165\n",
      "Epoch 9/100\n",
      "8000/8000 [==============================] - 1s 131us/step - loss: 0.4186 - acc: 0.8225\n",
      "Epoch 10/100\n",
      "8000/8000 [==============================] - 1s 164us/step - loss: 0.4099 - acc: 0.8294\n",
      "Epoch 11/100\n",
      "8000/8000 [==============================] - 1s 122us/step - loss: 0.4029 - acc: 0.8351\n",
      "Epoch 12/100\n",
      "8000/8000 [==============================] - 1s 100us/step - loss: 0.3949 - acc: 0.8366\n",
      "Epoch 13/100\n",
      "8000/8000 [==============================] - 1s 101us/step - loss: 0.3911 - acc: 0.8384\n",
      "Epoch 14/100\n",
      "8000/8000 [==============================] - 1s 89us/step - loss: 0.3848 - acc: 0.8414\n",
      "Epoch 15/100\n",
      "8000/8000 [==============================] - 1s 122us/step - loss: 0.3836 - acc: 0.8421\n",
      "Epoch 16/100\n",
      "8000/8000 [==============================] - 1s 109us/step - loss: 0.3803 - acc: 0.8421\n",
      "Epoch 17/100\n",
      "8000/8000 [==============================] - 1s 109us/step - loss: 0.3742 - acc: 0.8444\n",
      "Epoch 18/100\n",
      "8000/8000 [==============================] - 2s 195us/step - loss: 0.3714 - acc: 0.8472\n",
      "Epoch 19/100\n",
      "8000/8000 [==============================] - 2s 269us/step - loss: 0.3642 - acc: 0.8529\n",
      "Epoch 20/100\n",
      "8000/8000 [==============================] - 1s 148us/step - loss: 0.3534 - acc: 0.8524\n",
      "Epoch 21/100\n",
      "8000/8000 [==============================] - 1s 157us/step - loss: 0.3560 - acc: 0.8562\n",
      "Epoch 22/100\n",
      "8000/8000 [==============================] - 1s 117us/step - loss: 0.3529 - acc: 0.8566\n",
      "Epoch 23/100\n",
      "8000/8000 [==============================] - 1s 109us/step - loss: 0.3495 - acc: 0.8569\n",
      "Epoch 24/100\n",
      "8000/8000 [==============================] - 1s 136us/step - loss: 0.3513 - acc: 0.8554\n",
      "Epoch 25/100\n",
      "8000/8000 [==============================] - 1s 115us/step - loss: 0.3434 - acc: 0.8586\n",
      "Epoch 26/100\n",
      "8000/8000 [==============================] - 1s 99us/step - loss: 0.3457 - acc: 0.8600\n",
      "Epoch 27/100\n",
      "8000/8000 [==============================] - 1s 153us/step - loss: 0.3470 - acc: 0.8627\n",
      "Epoch 28/100\n",
      "8000/8000 [==============================] - 1s 122us/step - loss: 0.3473 - acc: 0.8606\n",
      "Epoch 29/100\n",
      "8000/8000 [==============================] - 1s 150us/step - loss: 0.3461 - acc: 0.8614\n",
      "Epoch 30/100\n",
      "8000/8000 [==============================] - 1s 87us/step - loss: 0.3509 - acc: 0.8630\n",
      "Epoch 31/100\n",
      "8000/8000 [==============================] - 1s 84us/step - loss: 0.3488 - acc: 0.8632\n",
      "Epoch 32/100\n",
      "8000/8000 [==============================] - 1s 86us/step - loss: 0.3400 - acc: 0.8610\n",
      "Epoch 33/100\n",
      "8000/8000 [==============================] - 1s 85us/step - loss: 0.3409 - acc: 0.8616\n",
      "Epoch 34/100\n",
      "8000/8000 [==============================] - 1s 86us/step - loss: 0.3417 - acc: 0.8620\n",
      "Epoch 35/100\n",
      "8000/8000 [==============================] - 1s 84us/step - loss: 0.3393 - acc: 0.8630\n",
      "Epoch 36/100\n",
      "8000/8000 [==============================] - 1s 85us/step - loss: 0.3434 - acc: 0.8616\n",
      "Epoch 37/100\n",
      "8000/8000 [==============================] - 1s 80us/step - loss: 0.3437 - acc: 0.8611\n",
      "Epoch 38/100\n",
      "8000/8000 [==============================] - 1s 86us/step - loss: 0.3418 - acc: 0.8650\n",
      "Epoch 39/100\n",
      "8000/8000 [==============================] - 1s 86us/step - loss: 0.3384 - acc: 0.8615\n",
      "Epoch 40/100\n",
      "8000/8000 [==============================] - 1s 85us/step - loss: 0.3440 - acc: 0.8622\n",
      "Epoch 41/100\n",
      "8000/8000 [==============================] - 1s 81us/step - loss: 0.3403 - acc: 0.8612\n",
      "Epoch 42/100\n",
      "8000/8000 [==============================] - 1s 83us/step - loss: 0.3435 - acc: 0.8640\n",
      "Epoch 43/100\n",
      "8000/8000 [==============================] - 1s 79us/step - loss: 0.3374 - acc: 0.8612\n",
      "Epoch 44/100\n",
      "8000/8000 [==============================] - 1s 84us/step - loss: 0.3375 - acc: 0.8630\n",
      "Epoch 45/100\n",
      "8000/8000 [==============================] - 1s 88us/step - loss: 0.3378 - acc: 0.8615\n",
      "Epoch 46/100\n",
      "8000/8000 [==============================] - 1s 119us/step - loss: 0.3401 - acc: 0.8625\n",
      "Epoch 47/100\n",
      "8000/8000 [==============================] - 1s 111us/step - loss: 0.3384 - acc: 0.8620\n",
      "Epoch 48/100\n",
      "8000/8000 [==============================] - 1s 120us/step - loss: 0.3372 - acc: 0.8637\n",
      "Epoch 49/100\n",
      "8000/8000 [==============================] - 1s 113us/step - loss: 0.3383 - acc: 0.8632\n",
      "Epoch 50/100\n",
      "8000/8000 [==============================] - 1s 84us/step - loss: 0.3413 - acc: 0.8617\n",
      "Epoch 51/100\n",
      "8000/8000 [==============================] - 1s 89us/step - loss: 0.3369 - acc: 0.8629\n",
      "Epoch 52/100\n",
      "8000/8000 [==============================] - 1s 87us/step - loss: 0.3382 - acc: 0.8625\n",
      "Epoch 53/100\n",
      "8000/8000 [==============================] - 1s 120us/step - loss: 0.3442 - acc: 0.8622\n",
      "Epoch 54/100\n",
      "8000/8000 [==============================] - 1s 89us/step - loss: 0.3359 - acc: 0.8615\n",
      "Epoch 55/100\n",
      "8000/8000 [==============================] - 1s 86us/step - loss: 0.3374 - acc: 0.8635\n",
      "Epoch 56/100\n",
      "8000/8000 [==============================] - 1s 90us/step - loss: 0.3388 - acc: 0.8614\n",
      "Epoch 57/100\n",
      "8000/8000 [==============================] - 1s 86us/step - loss: 0.3373 - acc: 0.8630\n",
      "Epoch 58/100\n",
      "8000/8000 [==============================] - 1s 97us/step - loss: 0.3398 - acc: 0.8626\n",
      "Epoch 59/100\n",
      "8000/8000 [==============================] - 1s 97us/step - loss: 0.3357 - acc: 0.8646\n",
      "Epoch 60/100\n",
      "8000/8000 [==============================] - 1s 94us/step - loss: 0.3417 - acc: 0.8610\n",
      "Epoch 61/100\n",
      "8000/8000 [==============================] - 1s 100us/step - loss: 0.3356 - acc: 0.8644\n",
      "Epoch 62/100\n",
      "8000/8000 [==============================] - 1s 85us/step - loss: 0.3355 - acc: 0.8616\n",
      "Epoch 63/100\n",
      "8000/8000 [==============================] - 1s 87us/step - loss: 0.3357 - acc: 0.8624\n",
      "Epoch 64/100\n",
      "8000/8000 [==============================] - 1s 104us/step - loss: 0.3358 - acc: 0.8602\n",
      "Epoch 65/100\n",
      "8000/8000 [==============================] - 1s 86us/step - loss: 0.3403 - acc: 0.8610\n",
      "Epoch 66/100\n",
      "8000/8000 [==============================] - 1s 97us/step - loss: 0.3370 - acc: 0.8621\n",
      "Epoch 67/100\n",
      "8000/8000 [==============================] - 1s 101us/step - loss: 0.3360 - acc: 0.8639\n",
      "Epoch 68/100\n",
      "8000/8000 [==============================] - 1s 105us/step - loss: 0.3364 - acc: 0.8644\n",
      "Epoch 69/100\n",
      "8000/8000 [==============================] - 1s 92us/step - loss: 0.3407 - acc: 0.8640\n",
      "Epoch 70/100\n",
      "8000/8000 [==============================] - 1s 86us/step - loss: 0.3340 - acc: 0.8637\n",
      "Epoch 71/100\n",
      "8000/8000 [==============================] - 1s 87us/step - loss: 0.3349 - acc: 0.8632\n",
      "Epoch 72/100\n",
      "8000/8000 [==============================] - 1s 85us/step - loss: 0.3397 - acc: 0.8639\n",
      "Epoch 73/100\n",
      "8000/8000 [==============================] - 1s 84us/step - loss: 0.3424 - acc: 0.8609\n",
      "Epoch 74/100\n",
      "8000/8000 [==============================] - 1s 96us/step - loss: 0.3346 - acc: 0.8654\n",
      "Epoch 75/100\n",
      "8000/8000 [==============================] - 1s 83us/step - loss: 0.3356 - acc: 0.8642\n",
      "Epoch 76/100\n",
      "8000/8000 [==============================] - 1s 81us/step - loss: 0.3335 - acc: 0.8630\n",
      "Epoch 77/100\n",
      "8000/8000 [==============================] - 1s 112us/step - loss: 0.3415 - acc: 0.8632\n",
      "Epoch 78/100\n",
      "8000/8000 [==============================] - 1s 113us/step - loss: 0.3359 - acc: 0.8630\n",
      "Epoch 79/100\n",
      "8000/8000 [==============================] - 1s 109us/step - loss: 0.3381 - acc: 0.8632\n",
      "Epoch 80/100\n",
      "8000/8000 [==============================] - 1s 101us/step - loss: 0.3346 - acc: 0.8646\n",
      "Epoch 81/100\n",
      "8000/8000 [==============================] - 1s 98us/step - loss: 0.3360 - acc: 0.8635\n",
      "Epoch 82/100\n"
     ]
    },
    {
     "name": "stdout",
     "output_type": "stream",
     "text": [
      "8000/8000 [==============================] - 1s 100us/step - loss: 0.3344 - acc: 0.8625\n",
      "Epoch 83/100\n",
      "8000/8000 [==============================] - 1s 108us/step - loss: 0.3340 - acc: 0.8632\n",
      "Epoch 84/100\n",
      "8000/8000 [==============================] - 1s 110us/step - loss: 0.3355 - acc: 0.8640\n",
      "Epoch 85/100\n",
      "8000/8000 [==============================] - 1s 100us/step - loss: 0.3351 - acc: 0.8639\n",
      "Epoch 86/100\n",
      "8000/8000 [==============================] - 1s 102us/step - loss: 0.3384 - acc: 0.8634\n",
      "Epoch 87/100\n",
      "8000/8000 [==============================] - 1s 119us/step - loss: 0.3410 - acc: 0.8609\n",
      "Epoch 88/100\n",
      "8000/8000 [==============================] - 1s 116us/step - loss: 0.3361 - acc: 0.8634\n",
      "Epoch 89/100\n",
      "8000/8000 [==============================] - 1s 104us/step - loss: 0.3349 - acc: 0.8625\n",
      "Epoch 90/100\n",
      "8000/8000 [==============================] - 1s 124us/step - loss: 0.3373 - acc: 0.8620\n",
      "Epoch 91/100\n",
      "8000/8000 [==============================] - 1s 104us/step - loss: 0.3342 - acc: 0.8627\n",
      "Epoch 92/100\n",
      "8000/8000 [==============================] - 1s 109us/step - loss: 0.3347 - acc: 0.8610\n",
      "Epoch 93/100\n",
      "8000/8000 [==============================] - 1s 118us/step - loss: 0.3339 - acc: 0.8621\n",
      "Epoch 94/100\n",
      "8000/8000 [==============================] - 1s 110us/step - loss: 0.3364 - acc: 0.8636\n",
      "Epoch 95/100\n",
      "8000/8000 [==============================] - 1s 109us/step - loss: 0.3404 - acc: 0.8630\n",
      "Epoch 96/100\n",
      "8000/8000 [==============================] - 1s 109us/step - loss: 0.3357 - acc: 0.8620\n",
      "Epoch 97/100\n",
      "8000/8000 [==============================] - 1s 139us/step - loss: 0.3341 - acc: 0.8627\n",
      "Epoch 98/100\n",
      "8000/8000 [==============================] - 1s 106us/step - loss: 0.3375 - acc: 0.8620\n",
      "Epoch 99/100\n",
      "8000/8000 [==============================] - 1s 102us/step - loss: 0.3332 - acc: 0.8644\n",
      "Epoch 100/100\n",
      "8000/8000 [==============================] - 1s 107us/step - loss: 0.3339 - acc: 0.8641\n"
     ]
    },
    {
     "data": {
      "text/plain": [
       "<keras.callbacks.History at 0x7ff18d9b8f28>"
      ]
     },
     "execution_count": 24,
     "metadata": {},
     "output_type": "execute_result"
    }
   ],
   "source": [
    "# Fitting the ANN to the Training set\n",
    "classifier2.fit(X_train, y_train, batch_size = 10, epochs = 100)"
   ]
  },
  {
   "cell_type": "code",
   "execution_count": 25,
   "metadata": {},
   "outputs": [],
   "source": [
    "# Part 3 - Making predictions and evaluating the model\n",
    "\n",
    "# Predicting the Test set results\n",
    "y_pred = classifier2.predict(X_test)\n",
    "y_pred = (y_pred > 0.5)\n",
    "\n",
    "# Making the Confusion Matrix\n",
    "from sklearn.metrics import confusion_matrix\n",
    "cm2 = confusion_matrix(y_test, y_pred)"
   ]
  },
  {
   "cell_type": "code",
   "execution_count": 18,
   "metadata": {},
   "outputs": [
    {
     "name": "stdout",
     "output_type": "stream",
     "text": [
      "[[1517   78]\n",
      " [ 188  217]]\n"
     ]
    }
   ],
   "source": [
    "# Result with activations (tanh, tanh, hard_sigmoid)\n",
    "print(cm2)"
   ]
  },
  {
   "cell_type": "code",
   "execution_count": 22,
   "metadata": {},
   "outputs": [
    {
     "name": "stdout",
     "output_type": "stream",
     "text": [
      "[[1526   69]\n",
      " [ 202  203]]\n"
     ]
    }
   ],
   "source": [
    "# Result with activations (relu, tanh, hard_sigmoid)\n",
    "print(cm2)"
   ]
  },
  {
   "cell_type": "code",
   "execution_count": 26,
   "metadata": {},
   "outputs": [
    {
     "name": "stdout",
     "output_type": "stream",
     "text": [
      "[[1518   77]\n",
      " [ 202  203]]\n"
     ]
    }
   ],
   "source": [
    "# Result with activations (tanh, relu, hard_sigmoid)\n",
    "print(cm2)"
   ]
  }
 ],
 "metadata": {
  "kernelspec": {
   "display_name": "Python 3",
   "language": "python",
   "name": "python3"
  },
  "language_info": {
   "codemirror_mode": {
    "name": "ipython",
    "version": 3
   },
   "file_extension": ".py",
   "mimetype": "text/x-python",
   "name": "python",
   "nbconvert_exporter": "python",
   "pygments_lexer": "ipython3",
   "version": "3.7.1"
  }
 },
 "nbformat": 4,
 "nbformat_minor": 2
}
