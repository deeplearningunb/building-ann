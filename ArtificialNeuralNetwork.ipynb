{
 "cells": [
  {
   "cell_type": "code",
   "execution_count": 1,
   "metadata": {},
   "outputs": [],
   "source": [
    "# Artificial Neural Network\n",
    "\n",
    "# Installing Theano\n",
    "# pip install --upgrade --no-deps git+git://github.com/Theano/Theano.git\n",
    "\n",
    "# Installing Tensorflow\n",
    "# pip install tensorflow\n",
    "\n",
    "# Installing Keras\n",
    "# pip install --upgrade keras\n",
    "\n",
    "# Part 1 - Data Preprocessing"
   ]
  },
  {
   "cell_type": "code",
   "execution_count": 2,
   "metadata": {},
   "outputs": [
    {
     "name": "stdout",
     "output_type": "stream",
     "text": [
      "Requirement already satisfied: tensorflow==1.13.1 in /home/marco/dl_env/lib/python3.6/site-packages (from -r requirements.txt (line 1)) (1.13.1)\n",
      "Requirement already satisfied: numpy==1.16.2 in /home/marco/dl_env/lib/python3.6/site-packages (from -r requirements.txt (line 2)) (1.16.2)\n",
      "Requirement already satisfied: pandas==0.24.2 in /home/marco/dl_env/lib/python3.6/site-packages (from -r requirements.txt (line 3)) (0.24.2)\n",
      "Requirement already satisfied: matplotlib==3.0.3 in /home/marco/dl_env/lib/python3.6/site-packages (from -r requirements.txt (line 4)) (3.0.3)\n",
      "Requirement already satisfied: Keras==2.2.4 in /home/marco/dl_env/lib/python3.6/site-packages (from -r requirements.txt (line 5)) (2.2.4)\n",
      "Collecting sklearn==0.0 (from -r requirements.txt (line 6))\n",
      "  Downloading https://files.pythonhosted.org/packages/1e/7a/dbb3be0ce9bd5c8b7e3d87328e79063f8b263b2b1bfa4774cb1147bfcd3f/sklearn-0.0.tar.gz\n",
      "Requirement already satisfied: keras-applications>=1.0.6 in /home/marco/dl_env/lib/python3.6/site-packages (from tensorflow==1.13.1->-r requirements.txt (line 1)) (1.0.7)\n",
      "Requirement already satisfied: tensorboard<1.14.0,>=1.13.0 in /home/marco/dl_env/lib/python3.6/site-packages (from tensorflow==1.13.1->-r requirements.txt (line 1)) (1.13.1)\n",
      "Requirement already satisfied: keras-preprocessing>=1.0.5 in /home/marco/dl_env/lib/python3.6/site-packages (from tensorflow==1.13.1->-r requirements.txt (line 1)) (1.0.9)\n",
      "Requirement already satisfied: protobuf>=3.6.1 in /home/marco/dl_env/lib/python3.6/site-packages (from tensorflow==1.13.1->-r requirements.txt (line 1)) (3.7.1)\n",
      "Requirement already satisfied: gast>=0.2.0 in /home/marco/dl_env/lib/python3.6/site-packages (from tensorflow==1.13.1->-r requirements.txt (line 1)) (0.2.2)\n",
      "Requirement already satisfied: absl-py>=0.1.6 in /home/marco/dl_env/lib/python3.6/site-packages (from tensorflow==1.13.1->-r requirements.txt (line 1)) (0.7.1)\n",
      "Requirement already satisfied: grpcio>=1.8.6 in /home/marco/dl_env/lib/python3.6/site-packages (from tensorflow==1.13.1->-r requirements.txt (line 1)) (1.19.0)\n",
      "Requirement already satisfied: astor>=0.6.0 in /home/marco/dl_env/lib/python3.6/site-packages (from tensorflow==1.13.1->-r requirements.txt (line 1)) (0.7.1)\n",
      "Requirement already satisfied: termcolor>=1.1.0 in /home/marco/dl_env/lib/python3.6/site-packages (from tensorflow==1.13.1->-r requirements.txt (line 1)) (1.1.0)\n",
      "Requirement already satisfied: tensorflow-estimator<1.14.0rc0,>=1.13.0 in /home/marco/dl_env/lib/python3.6/site-packages (from tensorflow==1.13.1->-r requirements.txt (line 1)) (1.13.0)\n",
      "Requirement already satisfied: six>=1.10.0 in /home/marco/dl_env/lib/python3.6/site-packages (from tensorflow==1.13.1->-r requirements.txt (line 1)) (1.12.0)\n",
      "Requirement already satisfied: wheel>=0.26 in /home/marco/dl_env/lib/python3.6/site-packages (from tensorflow==1.13.1->-r requirements.txt (line 1)) (0.33.1)\n",
      "Requirement already satisfied: pytz>=2011k in /home/marco/dl_env/lib/python3.6/site-packages (from pandas==0.24.2->-r requirements.txt (line 3)) (2018.9)\n",
      "Requirement already satisfied: python-dateutil>=2.5.0 in /home/marco/dl_env/lib/python3.6/site-packages (from pandas==0.24.2->-r requirements.txt (line 3)) (2.8.0)\n",
      "Requirement already satisfied: kiwisolver>=1.0.1 in /home/marco/dl_env/lib/python3.6/site-packages (from matplotlib==3.0.3->-r requirements.txt (line 4)) (1.0.1)\n",
      "Requirement already satisfied: pyparsing!=2.0.4,!=2.1.2,!=2.1.6,>=2.0.1 in /home/marco/dl_env/lib/python3.6/site-packages (from matplotlib==3.0.3->-r requirements.txt (line 4)) (2.3.1)\n",
      "Requirement already satisfied: cycler>=0.10 in /home/marco/dl_env/lib/python3.6/site-packages (from matplotlib==3.0.3->-r requirements.txt (line 4)) (0.10.0)\n",
      "Requirement already satisfied: h5py in /home/marco/dl_env/lib/python3.6/site-packages (from Keras==2.2.4->-r requirements.txt (line 5)) (2.9.0)\n",
      "Requirement already satisfied: scipy>=0.14 in /home/marco/dl_env/lib/python3.6/site-packages (from Keras==2.2.4->-r requirements.txt (line 5)) (1.2.1)\n",
      "Requirement already satisfied: pyyaml in /home/marco/dl_env/lib/python3.6/site-packages (from Keras==2.2.4->-r requirements.txt (line 5)) (5.1)\n",
      "Requirement already satisfied: scikit-learn in /home/marco/dl_env/lib/python3.6/site-packages (from sklearn==0.0->-r requirements.txt (line 6)) (0.20.3)\n",
      "Requirement already satisfied: werkzeug>=0.11.15 in /home/marco/dl_env/lib/python3.6/site-packages (from tensorboard<1.14.0,>=1.13.0->tensorflow==1.13.1->-r requirements.txt (line 1)) (0.15.2)\n",
      "Requirement already satisfied: markdown>=2.6.8 in /home/marco/dl_env/lib/python3.6/site-packages (from tensorboard<1.14.0,>=1.13.0->tensorflow==1.13.1->-r requirements.txt (line 1)) (3.1)\n",
      "Requirement already satisfied: setuptools in /home/marco/dl_env/lib/python3.6/site-packages (from protobuf>=3.6.1->tensorflow==1.13.1->-r requirements.txt (line 1)) (41.0.0)\n",
      "Requirement already satisfied: mock>=2.0.0 in /home/marco/dl_env/lib/python3.6/site-packages (from tensorflow-estimator<1.14.0rc0,>=1.13.0->tensorflow==1.13.1->-r requirements.txt (line 1)) (2.0.0)\n",
      "Requirement already satisfied: pbr>=0.11 in /home/marco/dl_env/lib/python3.6/site-packages (from mock>=2.0.0->tensorflow-estimator<1.14.0rc0,>=1.13.0->tensorflow==1.13.1->-r requirements.txt (line 1)) (5.1.3)\n",
      "Building wheels for collected packages: sklearn\n",
      "  Building wheel for sklearn (setup.py) ... \u001b[?25ldone\n",
      "\u001b[?25h  Stored in directory: /home/marco/.cache/pip/wheels/76/03/bb/589d421d27431bcd2c6da284d5f2286c8e3b2ea3cf1594c074\n",
      "Successfully built sklearn\n",
      "Installing collected packages: sklearn\n",
      "Successfully installed sklearn-0.0\n"
     ]
    }
   ],
   "source": [
    "!pip install -r requirements.txt"
   ]
  },
  {
   "cell_type": "code",
   "execution_count": 3,
   "metadata": {},
   "outputs": [],
   "source": [
    "# Importing the libraries\n",
    "import numpy as np\n",
    "import matplotlib.pyplot as plt\n",
    "import pandas as pd"
   ]
  },
  {
   "cell_type": "code",
   "execution_count": 4,
   "metadata": {},
   "outputs": [],
   "source": [
    "# Importing the dataset\n",
    "dataset = pd.read_csv('Churn_Modelling.csv')\n",
    "X = dataset.iloc[:, 3:13].values\n",
    "y = dataset.iloc[:, 13].values"
   ]
  },
  {
   "cell_type": "code",
   "execution_count": 5,
   "metadata": {},
   "outputs": [
    {
     "name": "stderr",
     "output_type": "stream",
     "text": [
      "/home/marco/dl_env/lib/python3.6/site-packages/sklearn/preprocessing/_encoders.py:371: FutureWarning: The handling of integer data will change in version 0.22. Currently, the categories are determined based on the range [0, max(values)], while in the future they will be determined based on the unique values.\n",
      "If you want the future behaviour and silence this warning, you can specify \"categories='auto'\".\n",
      "In case you used a LabelEncoder before this OneHotEncoder to convert the categories to integers, then you can now use the OneHotEncoder directly.\n",
      "  warnings.warn(msg, FutureWarning)\n",
      "/home/marco/dl_env/lib/python3.6/site-packages/sklearn/preprocessing/_encoders.py:392: DeprecationWarning: The 'categorical_features' keyword is deprecated in version 0.20 and will be removed in 0.22. You can use the ColumnTransformer instead.\n",
      "  \"use the ColumnTransformer instead.\", DeprecationWarning)\n"
     ]
    }
   ],
   "source": [
    "# Encoding categorical data\n",
    "from sklearn.preprocessing import LabelEncoder, OneHotEncoder\n",
    "labelencoder_X_1 = LabelEncoder()\n",
    "X[:, 1] = labelencoder_X_1.fit_transform(X[:, 1])\n",
    "labelencoder_X_2 = LabelEncoder()\n",
    "X[:, 2] = labelencoder_X_2.fit_transform(X[:, 2])\n",
    "onehotencoder = OneHotEncoder(categorical_features = [1])\n",
    "X = onehotencoder.fit_transform(X).toarray()\n",
    "X = X[:, 1:]"
   ]
  },
  {
   "cell_type": "code",
   "execution_count": 6,
   "metadata": {},
   "outputs": [],
   "source": [
    "# Splitting the dataset into the Training set and Test set\n",
    "from sklearn.model_selection import train_test_split\n",
    "X_train, X_test, y_train, y_test = train_test_split(X, y, test_size = 0.2, random_state = 0)"
   ]
  },
  {
   "cell_type": "code",
   "execution_count": 7,
   "metadata": {},
   "outputs": [],
   "source": [
    "# Feature Scaling\n",
    "from sklearn.preprocessing import StandardScaler\n",
    "sc = StandardScaler()\n",
    "X_train = sc.fit_transform(X_train)\n",
    "X_test = sc.transform(X_test)"
   ]
  },
  {
   "cell_type": "code",
   "execution_count": 8,
   "metadata": {},
   "outputs": [
    {
     "name": "stderr",
     "output_type": "stream",
     "text": [
      "Using TensorFlow backend.\n"
     ]
    }
   ],
   "source": [
    "# Part 2 - Now let's make the ANN!\n",
    "\n",
    "# Importing the Keras libraries and packages\n",
    "import keras\n",
    "from keras.models import Sequential\n",
    "from keras.layers import Dense"
   ]
  },
  {
   "cell_type": "code",
   "execution_count": 28,
   "metadata": {},
   "outputs": [],
   "source": [
    "# Initialising the ANN\n",
    "classifier = Sequential()\n",
    "\n",
    "# Adding the input layer and the first hidden layer\n",
    "classifier.add(Dense(units = 6, kernel_initializer = 'uniform', activation = 'sigmoid', input_dim = 11))\n",
    "\n",
    "# Adding the second hidden layer\n",
    "classifier.add(Dense(units = 6, kernel_initializer = 'uniform', activation = 'tanh'))\n",
    "\n",
    "# Adding the output layer\n",
    "classifier.add(Dense(units = 1, kernel_initializer = 'uniform', activation = 'sigmoid'))\n",
    "\n",
    "# Compiling the ANN\n",
    "classifier.compile(optimizer = 'adam', loss = 'binary_crossentropy', metrics = ['accuracy'])"
   ]
  },
  {
   "cell_type": "code",
   "execution_count": 29,
   "metadata": {},
   "outputs": [
    {
     "name": "stdout",
     "output_type": "stream",
     "text": [
      "Epoch 1/10\n",
      "8000/8000 [==============================] - 1s 171us/step - loss: 0.5102 - acc: 0.7947\n",
      "Epoch 2/10\n",
      "8000/8000 [==============================] - 1s 116us/step - loss: 0.4465 - acc: 0.7975\n",
      "Epoch 3/10\n",
      "8000/8000 [==============================] - 1s 127us/step - loss: 0.4314 - acc: 0.8070\n",
      "Epoch 4/10\n",
      "8000/8000 [==============================] - 1s 124us/step - loss: 0.4292 - acc: 0.8047\n",
      "Epoch 5/10\n",
      "8000/8000 [==============================] - 1s 131us/step - loss: 0.4288 - acc: 0.8055\n",
      "Epoch 6/10\n",
      "8000/8000 [==============================] - 1s 137us/step - loss: 0.4282 - acc: 0.8061\n",
      "Epoch 7/10\n",
      "8000/8000 [==============================] - 1s 138us/step - loss: 0.4270 - acc: 0.8064\n",
      "Epoch 8/10\n",
      "8000/8000 [==============================] - 1s 127us/step - loss: 0.4251 - acc: 0.8086\n",
      "Epoch 9/10\n",
      "8000/8000 [==============================] - 1s 120us/step - loss: 0.4227 - acc: 0.8145\n",
      "Epoch 10/10\n",
      "8000/8000 [==============================] - 1s 125us/step - loss: 0.4195 - acc: 0.8174\n"
     ]
    },
    {
     "data": {
      "text/plain": [
       "<keras.callbacks.History at 0x7f41bb873cc0>"
      ]
     },
     "execution_count": 29,
     "metadata": {},
     "output_type": "execute_result"
    }
   ],
   "source": [
    "# Fitting the ANN to the Training set\n",
    "classifier.fit(X_train, y_train, batch_size = 10, epochs = 10)"
   ]
  },
  {
   "cell_type": "code",
   "execution_count": 30,
   "metadata": {},
   "outputs": [],
   "source": [
    "\n",
    "# Part 3 - Making predictions and evaluating the model\n",
    "\n",
    "# Predicting the Test set results\n",
    "y_pred = classifier.predict(X_test)\n",
    "y_pred = (y_pred > 0.5)\n",
    "\n",
    "# Making the Confusion Matrix\n",
    "from sklearn.metrics import confusion_matrix\n",
    "cm = confusion_matrix(y_test, y_pred)"
   ]
  },
  {
   "cell_type": "code",
   "execution_count": 31,
   "metadata": {},
   "outputs": [
    {
     "name": "stdout",
     "output_type": "stream",
     "text": [
      "[[1532   63]\n",
      " [ 284  121]]\n"
     ]
    }
   ],
   "source": [
    "print(cm)"
   ]
  },
  {
   "cell_type": "code",
   "execution_count": null,
   "metadata": {},
   "outputs": [],
   "source": []
  }
 ],
 "metadata": {
  "kernelspec": {
   "display_name": "Python 3",
   "language": "python",
   "name": "python3"
  },
  "language_info": {
   "codemirror_mode": {
    "name": "ipython",
    "version": 3
   },
   "file_extension": ".py",
   "mimetype": "text/x-python",
   "name": "python",
   "nbconvert_exporter": "python",
   "pygments_lexer": "ipython3",
   "version": "3.6.5"
  }
 },
 "nbformat": 4,
 "nbformat_minor": 2
}
