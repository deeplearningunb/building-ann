{
  "cells": [
    {
      "cell_type": "markdown",
      "metadata": {},
      "source": [
        "# REDES NEURAIS ARTIFICIAIS\n",
        "## Evaluate Improve e Tunning"
      ]
    },
    {
      "cell_type": "markdown",
      "metadata": {},
      "source": [
        "# Parte 1 - Pré-processamento dos Dados"
      ]
    },
    {
      "cell_type": "markdown",
      "metadata": {},
      "source": [
        "### Importar as libs"
      ]
    },
    {
      "cell_type": "code",
      "execution_count": 2,
      "metadata": {
        "colab": {},
        "colab_type": "code",
        "id": "MxkJoQBkUIHC"
      },
      "outputs": [],
      "source": [
        "import numpy as np\n",
        "import pandas as pd\n",
        "import tensorflow as tf"
      ]
    },
    {
      "cell_type": "code",
      "execution_count": 3,
      "metadata": {
        "colab": {
          "base_uri": "https://localhost:8080/",
          "height": 34
        },
        "colab_type": "code",
        "id": "ZaTwK7ojXr2F",
        "outputId": "0b27a96d-d11a-43e8-ab4b-87c1f01896fe"
      },
      "outputs": [
        {
          "data": {
            "text/plain": [
              "'2.8.0'"
            ]
          },
          "execution_count": 3,
          "metadata": {},
          "output_type": "execute_result"
        }
      ],
      "source": [
        "tf.__version__"
      ]
    },
    {
      "cell_type": "markdown",
      "metadata": {},
      "source": [
        "### Importar o dataset"
      ]
    },
    {
      "cell_type": "code",
      "execution_count": 6,
      "metadata": {},
      "outputs": [
        {
          "data": {
            "text/html": [
              "<div>\n",
              "<style scoped>\n",
              "    .dataframe tbody tr th:only-of-type {\n",
              "        vertical-align: middle;\n",
              "    }\n",
              "\n",
              "    .dataframe tbody tr th {\n",
              "        vertical-align: top;\n",
              "    }\n",
              "\n",
              "    .dataframe thead th {\n",
              "        text-align: right;\n",
              "    }\n",
              "</style>\n",
              "<table border=\"1\" class=\"dataframe\">\n",
              "  <thead>\n",
              "    <tr style=\"text-align: right;\">\n",
              "      <th></th>\n",
              "      <th>RowNumber</th>\n",
              "      <th>CustomerId</th>\n",
              "      <th>Surname</th>\n",
              "      <th>CreditScore</th>\n",
              "      <th>Geography</th>\n",
              "      <th>Gender</th>\n",
              "      <th>Age</th>\n",
              "      <th>Tenure</th>\n",
              "      <th>Balance</th>\n",
              "      <th>NumOfProducts</th>\n",
              "      <th>HasCrCard</th>\n",
              "      <th>IsActiveMember</th>\n",
              "      <th>EstimatedSalary</th>\n",
              "      <th>Exited</th>\n",
              "    </tr>\n",
              "  </thead>\n",
              "  <tbody>\n",
              "    <tr>\n",
              "      <th>0</th>\n",
              "      <td>1</td>\n",
              "      <td>15634602</td>\n",
              "      <td>Hargrave</td>\n",
              "      <td>619</td>\n",
              "      <td>France</td>\n",
              "      <td>Female</td>\n",
              "      <td>42</td>\n",
              "      <td>2</td>\n",
              "      <td>0.00</td>\n",
              "      <td>1</td>\n",
              "      <td>1</td>\n",
              "      <td>1</td>\n",
              "      <td>101348.88</td>\n",
              "      <td>1</td>\n",
              "    </tr>\n",
              "    <tr>\n",
              "      <th>1</th>\n",
              "      <td>2</td>\n",
              "      <td>15647311</td>\n",
              "      <td>Hill</td>\n",
              "      <td>608</td>\n",
              "      <td>Spain</td>\n",
              "      <td>Female</td>\n",
              "      <td>41</td>\n",
              "      <td>1</td>\n",
              "      <td>83807.86</td>\n",
              "      <td>1</td>\n",
              "      <td>0</td>\n",
              "      <td>1</td>\n",
              "      <td>112542.58</td>\n",
              "      <td>0</td>\n",
              "    </tr>\n",
              "    <tr>\n",
              "      <th>2</th>\n",
              "      <td>3</td>\n",
              "      <td>15619304</td>\n",
              "      <td>Onio</td>\n",
              "      <td>502</td>\n",
              "      <td>France</td>\n",
              "      <td>Female</td>\n",
              "      <td>42</td>\n",
              "      <td>8</td>\n",
              "      <td>159660.80</td>\n",
              "      <td>3</td>\n",
              "      <td>1</td>\n",
              "      <td>0</td>\n",
              "      <td>113931.57</td>\n",
              "      <td>1</td>\n",
              "    </tr>\n",
              "    <tr>\n",
              "      <th>3</th>\n",
              "      <td>4</td>\n",
              "      <td>15701354</td>\n",
              "      <td>Boni</td>\n",
              "      <td>699</td>\n",
              "      <td>France</td>\n",
              "      <td>Female</td>\n",
              "      <td>39</td>\n",
              "      <td>1</td>\n",
              "      <td>0.00</td>\n",
              "      <td>2</td>\n",
              "      <td>0</td>\n",
              "      <td>0</td>\n",
              "      <td>93826.63</td>\n",
              "      <td>0</td>\n",
              "    </tr>\n",
              "    <tr>\n",
              "      <th>4</th>\n",
              "      <td>5</td>\n",
              "      <td>15737888</td>\n",
              "      <td>Mitchell</td>\n",
              "      <td>850</td>\n",
              "      <td>Spain</td>\n",
              "      <td>Female</td>\n",
              "      <td>43</td>\n",
              "      <td>2</td>\n",
              "      <td>125510.82</td>\n",
              "      <td>1</td>\n",
              "      <td>1</td>\n",
              "      <td>1</td>\n",
              "      <td>79084.10</td>\n",
              "      <td>0</td>\n",
              "    </tr>\n",
              "  </tbody>\n",
              "</table>\n",
              "</div>"
            ],
            "text/plain": [
              "   RowNumber  CustomerId   Surname  CreditScore Geography  Gender  Age  \\\n",
              "0          1    15634602  Hargrave          619    France  Female   42   \n",
              "1          2    15647311      Hill          608     Spain  Female   41   \n",
              "2          3    15619304      Onio          502    France  Female   42   \n",
              "3          4    15701354      Boni          699    France  Female   39   \n",
              "4          5    15737888  Mitchell          850     Spain  Female   43   \n",
              "\n",
              "   Tenure    Balance  NumOfProducts  HasCrCard  IsActiveMember  \\\n",
              "0       2       0.00              1          1               1   \n",
              "1       1   83807.86              1          0               1   \n",
              "2       8  159660.80              3          1               0   \n",
              "3       1       0.00              2          0               0   \n",
              "4       2  125510.82              1          1               1   \n",
              "\n",
              "   EstimatedSalary  Exited  \n",
              "0        101348.88       1  \n",
              "1        112542.58       0  \n",
              "2        113931.57       1  \n",
              "3         93826.63       0  \n",
              "4         79084.10       0  "
            ]
          },
          "execution_count": 6,
          "metadata": {},
          "output_type": "execute_result"
        }
      ],
      "source": [
        "dataset = pd.read_csv('./Churn_Modelling.csv')\n",
        "dataset.head()"
      ]
    },
    {
      "cell_type": "code",
      "execution_count": 7,
      "metadata": {},
      "outputs": [
        {
          "name": "stdout",
          "output_type": "stream",
          "text": [
            "X >>\n",
            " [[619 'France' 'Female' ... 1 1 101348.88]\n",
            " [608 'Spain' 'Female' ... 0 1 112542.58]\n",
            " [502 'France' 'Female' ... 1 0 113931.57]\n",
            " ...\n",
            " [709 'France' 'Female' ... 0 1 42085.58]\n",
            " [772 'Germany' 'Male' ... 1 0 92888.52]\n",
            " [792 'France' 'Female' ... 1 0 38190.78]]\n",
            "y >>\n",
            " [1 0 1 ... 1 1 0]\n"
          ]
        }
      ],
      "source": [
        "X = dataset.iloc[:, 3:13].values\n",
        "y = dataset.iloc[:, 13].values\n",
        "print(\"X >>\\n\",X)\n",
        "print(\"y >>\\n\",y)"
      ]
    },
    {
      "cell_type": "markdown",
      "metadata": {},
      "source": [
        "### Transformando os dados categóricos\n"
      ]
    },
    {
      "cell_type": "code",
      "execution_count": 8,
      "metadata": {},
      "outputs": [
        {
          "name": "stdout",
          "output_type": "stream",
          "text": [
            "[[619 'France' 0 ... 1 1 101348.88]\n",
            " [608 'Spain' 0 ... 0 1 112542.58]\n",
            " [502 'France' 0 ... 1 0 113931.57]\n",
            " ...\n",
            " [709 'France' 0 ... 0 1 42085.58]\n",
            " [772 'Germany' 1 ... 1 0 92888.52]\n",
            " [792 'France' 0 ... 1 0 38190.78]]\n",
            "[[1.0 0.0 0.0 ... 1 1 101348.88]\n",
            " [0.0 0.0 1.0 ... 0 1 112542.58]\n",
            " [1.0 0.0 0.0 ... 1 0 113931.57]\n",
            " ...\n",
            " [1.0 0.0 0.0 ... 0 1 42085.58]\n",
            " [0.0 1.0 0.0 ... 1 0 92888.52]\n",
            " [1.0 0.0 0.0 ... 1 0 38190.78]]\n"
          ]
        }
      ],
      "source": [
        "# Label Encoding the \"Gender\" column\n",
        "from sklearn.preprocessing import LabelEncoder\n",
        "le = LabelEncoder()\n",
        "X[:, 2] = le.fit_transform(X[:, 2])\n",
        "print(X)\n",
        "# One Hot Encoding the \"Geography\" column\n",
        "from sklearn.compose import ColumnTransformer\n",
        "from sklearn.preprocessing import OneHotEncoder\n",
        "ct = ColumnTransformer(transformers=[('encoder', OneHotEncoder(), [1])], remainder='passthrough')\n",
        "X = np.array(ct.fit_transform(X))\n",
        "print(X)"
      ]
    },
    {
      "cell_type": "markdown",
      "metadata": {},
      "source": [
        "# Dividindo o dataset em conjunto de treinamento e conjunto de teste"
      ]
    },
    {
      "cell_type": "code",
      "execution_count": 9,
      "metadata": {},
      "outputs": [],
      "source": [
        "from sklearn.model_selection import train_test_split\n",
        "X_train, X_test, y_train, y_test = train_test_split(X, y, test_size = 0.2, random_state = 0)"
      ]
    },
    {
      "cell_type": "markdown",
      "metadata": {},
      "source": [
        "# Feature Scaling"
      ]
    },
    {
      "cell_type": "code",
      "execution_count": 10,
      "metadata": {},
      "outputs": [],
      "source": [
        "from sklearn.preprocessing import StandardScaler\n",
        "sc = StandardScaler()\n",
        "X_train = sc.fit_transform(X_train)\n",
        "X_test = sc.transform(X_test)"
      ]
    },
    {
      "cell_type": "code",
      "execution_count": 11,
      "metadata": {},
      "outputs": [
        {
          "data": {
            "text/plain": [
              "(8000, 12)"
            ]
          },
          "execution_count": 11,
          "metadata": {},
          "output_type": "execute_result"
        }
      ],
      "source": [
        "np.shape(X_train)"
      ]
    },
    {
      "cell_type": "markdown",
      "metadata": {},
      "source": [
        "---\n",
        "# Parte 2 -Vamos construir uma ANN!\n"
      ]
    },
    {
      "cell_type": "markdown",
      "metadata": {
        "colab_type": "text",
        "id": "KvdeScabXtlB"
      },
      "source": [
        "### Initializing the ANN"
      ]
    },
    {
      "cell_type": "code",
      "execution_count": 12,
      "metadata": {
        "colab": {},
        "colab_type": "code",
        "id": "3dtrScHxXQox"
      },
      "outputs": [],
      "source": [
        "ann = tf.keras.models.Sequential()"
      ]
    },
    {
      "cell_type": "markdown",
      "metadata": {
        "colab_type": "text",
        "id": "rP6urV6SX7kS"
      },
      "source": [
        "### Adding the input layer and the first hidden layer"
      ]
    },
    {
      "cell_type": "code",
      "execution_count": 13,
      "metadata": {
        "colab": {},
        "colab_type": "code",
        "id": "bppGycBXYCQr"
      },
      "outputs": [],
      "source": [
        "ann.add(tf.keras.layers.Dense(units=6, activation='relu'))"
      ]
    },
    {
      "cell_type": "markdown",
      "metadata": {
        "colab_type": "text",
        "id": "BELWAc_8YJze"
      },
      "source": [
        "### Adding the second hidden layer"
      ]
    },
    {
      "cell_type": "code",
      "execution_count": 14,
      "metadata": {
        "colab": {},
        "colab_type": "code",
        "id": "JneR0u0sYRTd"
      },
      "outputs": [],
      "source": [
        "ann.add(tf.keras.layers.Dense(units=6, activation='relu'))"
      ]
    },
    {
      "cell_type": "markdown",
      "metadata": {
        "colab_type": "text",
        "id": "OyNEe6RXYcU4"
      },
      "source": [
        "### Adding the output layer"
      ]
    },
    {
      "cell_type": "code",
      "execution_count": 15,
      "metadata": {
        "colab": {},
        "colab_type": "code",
        "id": "Cn3x41RBYfvY"
      },
      "outputs": [],
      "source": [
        "ann.add(tf.keras.layers.Dense(units=1, activation='sigmoid'))"
      ]
    },
    {
      "cell_type": "markdown",
      "metadata": {
        "colab_type": "text",
        "id": "JT4u2S1_Y4WG"
      },
      "source": [
        "## Part 3 - Training the ANN"
      ]
    },
    {
      "cell_type": "markdown",
      "metadata": {
        "colab_type": "text",
        "id": "8GWlJChhY_ZI"
      },
      "source": [
        "### Compiling the ANN"
      ]
    },
    {
      "cell_type": "code",
      "execution_count": 16,
      "metadata": {
        "colab": {},
        "colab_type": "code",
        "id": "fG3RrwDXZEaS"
      },
      "outputs": [],
      "source": [
        "ann.compile(optimizer = 'adam', loss = 'binary_crossentropy', metrics = ['accuracy'])"
      ]
    },
    {
      "cell_type": "markdown",
      "metadata": {
        "colab_type": "text",
        "id": "0QR_G5u7ZLSM"
      },
      "source": [
        "### Training the ANN on the Training set"
      ]
    },
    {
      "cell_type": "code",
      "execution_count": 17,
      "metadata": {
        "colab": {
          "base_uri": "https://localhost:8080/",
          "height": 1000
        },
        "colab_type": "code",
        "id": "nHZ-LKv_ZRb3",
        "outputId": "718cc4b0-b5aa-40f0-9b20-d3d31730a531"
      },
      "outputs": [
        {
          "name": "stdout",
          "output_type": "stream",
          "text": [
            "Epoch 1/100\n",
            "250/250 [==============================] - 1s 1ms/step - loss: 0.5312 - accuracy: 0.7883\n",
            "Epoch 2/100\n",
            "250/250 [==============================] - 0s 1ms/step - loss: 0.4739 - accuracy: 0.7964\n",
            "Epoch 3/100\n",
            "250/250 [==============================] - 0s 1ms/step - loss: 0.4464 - accuracy: 0.7977\n",
            "Epoch 4/100\n",
            "250/250 [==============================] - 0s 1ms/step - loss: 0.4325 - accuracy: 0.8025\n",
            "Epoch 5/100\n",
            "250/250 [==============================] - 0s 1ms/step - loss: 0.4254 - accuracy: 0.8024\n",
            "Epoch 6/100\n",
            "250/250 [==============================] - 0s 1ms/step - loss: 0.4196 - accuracy: 0.8033\n",
            "Epoch 7/100\n",
            "250/250 [==============================] - 0s 2ms/step - loss: 0.4130 - accuracy: 0.8043\n",
            "Epoch 8/100\n",
            "250/250 [==============================] - 0s 1ms/step - loss: 0.4041 - accuracy: 0.8086\n",
            "Epoch 9/100\n",
            "250/250 [==============================] - 0s 1ms/step - loss: 0.3933 - accuracy: 0.8170\n",
            "Epoch 10/100\n",
            "250/250 [==============================] - 0s 1ms/step - loss: 0.3834 - accuracy: 0.8351\n",
            "Epoch 11/100\n",
            "250/250 [==============================] - 0s 1ms/step - loss: 0.3753 - accuracy: 0.8444\n",
            "Epoch 12/100\n",
            "250/250 [==============================] - 0s 1ms/step - loss: 0.3696 - accuracy: 0.8462\n",
            "Epoch 13/100\n",
            "250/250 [==============================] - 0s 1ms/step - loss: 0.3654 - accuracy: 0.8499\n",
            "Epoch 14/100\n",
            "250/250 [==============================] - 0s 1ms/step - loss: 0.3623 - accuracy: 0.8525\n",
            "Epoch 15/100\n",
            "250/250 [==============================] - 0s 1ms/step - loss: 0.3603 - accuracy: 0.8544\n",
            "Epoch 16/100\n",
            "250/250 [==============================] - 0s 1ms/step - loss: 0.3585 - accuracy: 0.8553\n",
            "Epoch 17/100\n",
            "250/250 [==============================] - 0s 1ms/step - loss: 0.3572 - accuracy: 0.8564\n",
            "Epoch 18/100\n",
            "250/250 [==============================] - 0s 1ms/step - loss: 0.3561 - accuracy: 0.8575\n",
            "Epoch 19/100\n",
            "250/250 [==============================] - 0s 1ms/step - loss: 0.3552 - accuracy: 0.8579\n",
            "Epoch 20/100\n",
            "250/250 [==============================] - 0s 1ms/step - loss: 0.3543 - accuracy: 0.8584\n",
            "Epoch 21/100\n",
            "250/250 [==============================] - 0s 1ms/step - loss: 0.3533 - accuracy: 0.8585\n",
            "Epoch 22/100\n",
            "250/250 [==============================] - 0s 1ms/step - loss: 0.3525 - accuracy: 0.8566\n",
            "Epoch 23/100\n",
            "250/250 [==============================] - 0s 1ms/step - loss: 0.3515 - accuracy: 0.8585\n",
            "Epoch 24/100\n",
            "250/250 [==============================] - 0s 1ms/step - loss: 0.3509 - accuracy: 0.8587\n",
            "Epoch 25/100\n",
            "250/250 [==============================] - 0s 996us/step - loss: 0.3504 - accuracy: 0.8589\n",
            "Epoch 26/100\n",
            "250/250 [==============================] - 0s 1ms/step - loss: 0.3497 - accuracy: 0.8594\n",
            "Epoch 27/100\n",
            "250/250 [==============================] - 0s 2ms/step - loss: 0.3491 - accuracy: 0.8581\n",
            "Epoch 28/100\n",
            "250/250 [==============================] - 0s 1ms/step - loss: 0.3484 - accuracy: 0.8604\n",
            "Epoch 29/100\n",
            "250/250 [==============================] - 0s 1ms/step - loss: 0.3481 - accuracy: 0.8595\n",
            "Epoch 30/100\n",
            "250/250 [==============================] - 0s 1ms/step - loss: 0.3475 - accuracy: 0.8595\n",
            "Epoch 31/100\n",
            "250/250 [==============================] - 0s 1ms/step - loss: 0.3473 - accuracy: 0.8602\n",
            "Epoch 32/100\n",
            "250/250 [==============================] - 0s 1ms/step - loss: 0.3467 - accuracy: 0.8611\n",
            "Epoch 33/100\n",
            "250/250 [==============================] - 0s 1ms/step - loss: 0.3462 - accuracy: 0.8610\n",
            "Epoch 34/100\n",
            "250/250 [==============================] - 0s 1ms/step - loss: 0.3461 - accuracy: 0.8619\n",
            "Epoch 35/100\n",
            "250/250 [==============================] - 0s 1ms/step - loss: 0.3455 - accuracy: 0.8614\n",
            "Epoch 36/100\n",
            "250/250 [==============================] - 0s 1ms/step - loss: 0.3456 - accuracy: 0.8604\n",
            "Epoch 37/100\n",
            "250/250 [==============================] - 0s 1ms/step - loss: 0.3453 - accuracy: 0.8604\n",
            "Epoch 38/100\n",
            "250/250 [==============================] - 0s 1ms/step - loss: 0.3450 - accuracy: 0.8612\n",
            "Epoch 39/100\n",
            "250/250 [==============================] - 0s 1ms/step - loss: 0.3444 - accuracy: 0.8602\n",
            "Epoch 40/100\n",
            "250/250 [==============================] - 0s 1ms/step - loss: 0.3441 - accuracy: 0.8611\n",
            "Epoch 41/100\n",
            "250/250 [==============================] - 0s 992us/step - loss: 0.3439 - accuracy: 0.8622\n",
            "Epoch 42/100\n",
            "250/250 [==============================] - 0s 1ms/step - loss: 0.3440 - accuracy: 0.8616\n",
            "Epoch 43/100\n",
            "250/250 [==============================] - 0s 1ms/step - loss: 0.3437 - accuracy: 0.8615\n",
            "Epoch 44/100\n",
            "250/250 [==============================] - 0s 936us/step - loss: 0.3431 - accuracy: 0.8619\n",
            "Epoch 45/100\n",
            "250/250 [==============================] - 0s 1ms/step - loss: 0.3432 - accuracy: 0.8633\n",
            "Epoch 46/100\n",
            "250/250 [==============================] - 0s 1ms/step - loss: 0.3429 - accuracy: 0.8618\n",
            "Epoch 47/100\n",
            "250/250 [==============================] - 0s 1ms/step - loss: 0.3427 - accuracy: 0.8614\n",
            "Epoch 48/100\n",
            "250/250 [==============================] - 0s 932us/step - loss: 0.3426 - accuracy: 0.8630\n",
            "Epoch 49/100\n",
            "250/250 [==============================] - 0s 1ms/step - loss: 0.3425 - accuracy: 0.8620\n",
            "Epoch 50/100\n",
            "250/250 [==============================] - 0s 1ms/step - loss: 0.3425 - accuracy: 0.8620\n",
            "Epoch 51/100\n",
            "250/250 [==============================] - 0s 1ms/step - loss: 0.3422 - accuracy: 0.8618\n",
            "Epoch 52/100\n",
            "250/250 [==============================] - 0s 1ms/step - loss: 0.3420 - accuracy: 0.8619\n",
            "Epoch 53/100\n",
            "250/250 [==============================] - 0s 1ms/step - loss: 0.3420 - accuracy: 0.8616\n",
            "Epoch 54/100\n",
            "250/250 [==============================] - 0s 1ms/step - loss: 0.3420 - accuracy: 0.8626\n",
            "Epoch 55/100\n",
            "250/250 [==============================] - 0s 920us/step - loss: 0.3417 - accuracy: 0.8615\n",
            "Epoch 56/100\n",
            "250/250 [==============================] - 0s 912us/step - loss: 0.3418 - accuracy: 0.8621\n",
            "Epoch 57/100\n",
            "250/250 [==============================] - 0s 992us/step - loss: 0.3414 - accuracy: 0.8637\n",
            "Epoch 58/100\n",
            "250/250 [==============================] - 0s 1ms/step - loss: 0.3415 - accuracy: 0.8622\n",
            "Epoch 59/100\n",
            "250/250 [==============================] - 0s 847us/step - loss: 0.3415 - accuracy: 0.8614\n",
            "Epoch 60/100\n",
            "250/250 [==============================] - 0s 1ms/step - loss: 0.3412 - accuracy: 0.8612\n",
            "Epoch 61/100\n",
            "250/250 [==============================] - 0s 1ms/step - loss: 0.3411 - accuracy: 0.8631\n",
            "Epoch 62/100\n",
            "250/250 [==============================] - 0s 884us/step - loss: 0.3412 - accuracy: 0.8624\n",
            "Epoch 63/100\n",
            "250/250 [==============================] - 0s 831us/step - loss: 0.3410 - accuracy: 0.8619\n",
            "Epoch 64/100\n",
            "250/250 [==============================] - 0s 1ms/step - loss: 0.3407 - accuracy: 0.8625\n",
            "Epoch 65/100\n",
            "250/250 [==============================] - 0s 1ms/step - loss: 0.3400 - accuracy: 0.8622\n",
            "Epoch 66/100\n",
            "250/250 [==============================] - 0s 1ms/step - loss: 0.3406 - accuracy: 0.8625\n",
            "Epoch 67/100\n",
            "250/250 [==============================] - 0s 1ms/step - loss: 0.3404 - accuracy: 0.8633\n",
            "Epoch 68/100\n",
            "250/250 [==============================] - 0s 1ms/step - loss: 0.3403 - accuracy: 0.8620\n",
            "Epoch 69/100\n",
            "250/250 [==============================] - 0s 884us/step - loss: 0.3402 - accuracy: 0.8618\n",
            "Epoch 70/100\n",
            "250/250 [==============================] - 0s 968us/step - loss: 0.3404 - accuracy: 0.8614\n",
            "Epoch 71/100\n",
            "250/250 [==============================] - 0s 1ms/step - loss: 0.3401 - accuracy: 0.8643\n",
            "Epoch 72/100\n",
            "250/250 [==============================] - 0s 1ms/step - loss: 0.3400 - accuracy: 0.8636\n",
            "Epoch 73/100\n",
            "250/250 [==============================] - 0s 924us/step - loss: 0.3400 - accuracy: 0.8621\n",
            "Epoch 74/100\n",
            "250/250 [==============================] - 0s 1ms/step - loss: 0.3401 - accuracy: 0.8616\n",
            "Epoch 75/100\n",
            "250/250 [==============================] - 0s 1ms/step - loss: 0.3397 - accuracy: 0.8626\n",
            "Epoch 76/100\n",
            "250/250 [==============================] - 0s 940us/step - loss: 0.3395 - accuracy: 0.8637\n",
            "Epoch 77/100\n",
            "250/250 [==============================] - 0s 1ms/step - loss: 0.3398 - accuracy: 0.8637\n",
            "Epoch 78/100\n",
            "250/250 [==============================] - 0s 1ms/step - loss: 0.3394 - accuracy: 0.8636\n",
            "Epoch 79/100\n",
            "250/250 [==============================] - 0s 976us/step - loss: 0.3395 - accuracy: 0.8620\n",
            "Epoch 80/100\n",
            "250/250 [==============================] - 0s 1ms/step - loss: 0.3391 - accuracy: 0.8629\n",
            "Epoch 81/100\n",
            "250/250 [==============================] - 0s 1ms/step - loss: 0.3392 - accuracy: 0.8620\n",
            "Epoch 82/100\n",
            "250/250 [==============================] - 0s 1ms/step - loss: 0.3389 - accuracy: 0.8619\n",
            "Epoch 83/100\n",
            "250/250 [==============================] - 0s 1ms/step - loss: 0.3391 - accuracy: 0.8636\n",
            "Epoch 84/100\n",
            "250/250 [==============================] - 0s 1ms/step - loss: 0.3388 - accuracy: 0.8636\n",
            "Epoch 85/100\n",
            "250/250 [==============================] - 0s 1ms/step - loss: 0.3388 - accuracy: 0.8612\n",
            "Epoch 86/100\n",
            "250/250 [==============================] - 0s 1ms/step - loss: 0.3385 - accuracy: 0.8626\n",
            "Epoch 87/100\n",
            "250/250 [==============================] - 0s 2ms/step - loss: 0.3386 - accuracy: 0.8635\n",
            "Epoch 88/100\n",
            "250/250 [==============================] - 0s 1ms/step - loss: 0.3385 - accuracy: 0.8626\n",
            "Epoch 89/100\n",
            "250/250 [==============================] - 0s 1ms/step - loss: 0.3383 - accuracy: 0.8635\n",
            "Epoch 90/100\n",
            "250/250 [==============================] - 0s 1ms/step - loss: 0.3382 - accuracy: 0.8636\n",
            "Epoch 91/100\n",
            "250/250 [==============================] - 0s 2ms/step - loss: 0.3381 - accuracy: 0.8639\n",
            "Epoch 92/100\n",
            "250/250 [==============================] - 0s 1ms/step - loss: 0.3380 - accuracy: 0.8627\n",
            "Epoch 93/100\n",
            "250/250 [==============================] - 0s 1ms/step - loss: 0.3382 - accuracy: 0.8612\n",
            "Epoch 94/100\n",
            "250/250 [==============================] - 0s 1ms/step - loss: 0.3377 - accuracy: 0.8622\n",
            "Epoch 95/100\n",
            "250/250 [==============================] - 0s 1ms/step - loss: 0.3376 - accuracy: 0.8622\n",
            "Epoch 96/100\n",
            "250/250 [==============================] - 0s 896us/step - loss: 0.3377 - accuracy: 0.8635\n",
            "Epoch 97/100\n",
            "250/250 [==============================] - 0s 1ms/step - loss: 0.3377 - accuracy: 0.8624\n",
            "Epoch 98/100\n",
            "250/250 [==============================] - 0s 1ms/step - loss: 0.3372 - accuracy: 0.8622\n",
            "Epoch 99/100\n",
            "250/250 [==============================] - 0s 1ms/step - loss: 0.3375 - accuracy: 0.8635\n",
            "Epoch 100/100\n",
            "250/250 [==============================] - 0s 1ms/step - loss: 0.3372 - accuracy: 0.8625\n"
          ]
        },
        {
          "data": {
            "text/plain": [
              "<keras.callbacks.History at 0x21d67572f70>"
            ]
          },
          "execution_count": 17,
          "metadata": {},
          "output_type": "execute_result"
        }
      ],
      "source": [
        "ann.fit(X_train, y_train, batch_size = 32, epochs = 100)"
      ]
    },
    {
      "cell_type": "markdown",
      "metadata": {},
      "source": [
        "# Parte 3 - Fazendo predições e avaliando o modelo\n",
        "\n",
        "## Prevendo os resultados com o conjunto de testes"
      ]
    },
    {
      "cell_type": "code",
      "execution_count": 18,
      "metadata": {},
      "outputs": [
        {
          "data": {
            "text/plain": [
              "array([[0.3753002 ],\n",
              "       [0.35925257],\n",
              "       [0.16091153],\n",
              "       ...,\n",
              "       [0.23412839],\n",
              "       [0.22700325],\n",
              "       [0.17543966]], dtype=float32)"
            ]
          },
          "execution_count": 18,
          "metadata": {},
          "output_type": "execute_result"
        }
      ],
      "source": [
        "y_pred = ann.predict(X_test)\n",
        "y_pred"
      ]
    },
    {
      "cell_type": "code",
      "execution_count": 19,
      "metadata": {},
      "outputs": [
        {
          "data": {
            "text/plain": [
              "array([[False],\n",
              "       [False],\n",
              "       [False],\n",
              "       ...,\n",
              "       [False],\n",
              "       [False],\n",
              "       [False]])"
            ]
          },
          "execution_count": 19,
          "metadata": {},
          "output_type": "execute_result"
        }
      ],
      "source": [
        "y_pred = (y_pred > 0.5)\n",
        "y_pred"
      ]
    },
    {
      "cell_type": "markdown",
      "metadata": {},
      "source": [
        "# Criando uma Confusion Matrix"
      ]
    },
    {
      "cell_type": "code",
      "execution_count": 20,
      "metadata": {},
      "outputs": [
        {
          "name": "stdout",
          "output_type": "stream",
          "text": [
            "[[1504   91]\n",
            " [ 195  210]]\n"
          ]
        }
      ],
      "source": [
        "from sklearn.metrics import confusion_matrix\n",
        "cm = confusion_matrix(y_test, y_pred)\n",
        "print(cm)"
      ]
    },
    {
      "cell_type": "markdown",
      "metadata": {},
      "source": [
        "---\n",
        "# Avaliando o Modelo"
      ]
    },
    {
      "cell_type": "code",
      "execution_count": 21,
      "metadata": {},
      "outputs": [],
      "source": [
        "# Evaluating the ANN\n",
        "from tensorflow.keras.wrappers.scikit_learn import KerasClassifier\n",
        "from sklearn.model_selection import cross_val_score\n",
        "from tensorflow.keras.models import Sequential\n",
        "from tensorflow.keras.layers import Dense"
      ]
    },
    {
      "cell_type": "code",
      "execution_count": 22,
      "metadata": {},
      "outputs": [],
      "source": [
        "def build_classifier():\n",
        "    classifier = Sequential()\n",
        "    classifier.add(Dense(units = 6, kernel_initializer = 'uniform', activation = 'relu', input_dim = 12))\n",
        "    classifier.add(Dense(units = 6, kernel_initializer = 'uniform', activation = 'relu'))\n",
        "    classifier.add(Dense(units = 1, kernel_initializer = 'uniform', activation = 'sigmoid'))\n",
        "    classifier.compile(optimizer = 'adam', loss = 'binary_crossentropy', metrics = ['accuracy'])\n",
        "    return classifier"
      ]
    },
    {
      "cell_type": "code",
      "execution_count": 23,
      "metadata": {},
      "outputs": [
        {
          "name": "stderr",
          "output_type": "stream",
          "text": [
            "C:\\Users\\samue\\AppData\\Local\\Temp\\ipykernel_37564\\1297209367.py:1: DeprecationWarning: KerasClassifier is deprecated, use Sci-Keras (https://github.com/adriangb/scikeras) instead. See https://www.adriangb.com/scikeras/stable/migration.html for help migrating.\n",
            "  classifier = KerasClassifier(build_fn = build_classifier, batch_size = 10, epochs = 10)\n"
          ]
        }
      ],
      "source": [
        "classifier = KerasClassifier(build_fn = build_classifier, batch_size = 10, epochs = 10)\n",
        "accuracies = cross_val_score(estimator = classifier, X = X_train, y = y_train, cv = 10, n_jobs = -1)\n",
        "mean = accuracies.mean()\n",
        "variance = accuracies.std()"
      ]
    },
    {
      "cell_type": "code",
      "execution_count": 24,
      "metadata": {},
      "outputs": [
        {
          "name": "stdout",
          "output_type": "stream",
          "text": [
            "0.83299999833107 0.011141141924974203\n"
          ]
        }
      ],
      "source": [
        "print(mean,variance)"
      ]
    },
    {
      "cell_type": "markdown",
      "metadata": {},
      "source": [
        "# Melhorando o modelo"
      ]
    },
    {
      "cell_type": "code",
      "execution_count": 25,
      "metadata": {},
      "outputs": [],
      "source": [
        "# Improving the ANN\n",
        "# Dropout Regularization to reduce overfitting if needed\n",
        "from tensorflow.keras.layers import Dropout\n",
        "\n",
        "def build_classifier():\n",
        "    classifier = Sequential()\n",
        "    classifier.add(Dense(units = 6, kernel_initializer = 'uniform', activation = 'relu', input_dim = 12))\n",
        "    classifier.add(Dropout(rate = 0.1))\n",
        "    classifier.add(Dense(units = 6, kernel_initializer = 'uniform', activation = 'relu'))\n",
        "    classifier.add(Dropout(rate = 0.1))\n",
        "    classifier.add(Dense(units = 1, kernel_initializer = 'uniform', activation = 'sigmoid'))\n",
        "    classifier.compile(optimizer = 'adam', loss = 'binary_crossentropy', metrics = ['accuracy'])\n",
        "    return classifier"
      ]
    },
    {
      "cell_type": "code",
      "execution_count": 26,
      "metadata": {},
      "outputs": [
        {
          "name": "stderr",
          "output_type": "stream",
          "text": [
            "C:\\Users\\samue\\AppData\\Local\\Temp\\ipykernel_37564\\1297209367.py:1: DeprecationWarning: KerasClassifier is deprecated, use Sci-Keras (https://github.com/adriangb/scikeras) instead. See https://www.adriangb.com/scikeras/stable/migration.html for help migrating.\n",
            "  classifier = KerasClassifier(build_fn = build_classifier, batch_size = 10, epochs = 10)\n"
          ]
        }
      ],
      "source": [
        "classifier = KerasClassifier(build_fn = build_classifier, batch_size = 10, epochs = 10)\n",
        "accuracies = cross_val_score(estimator = classifier, X = X_train, y = y_train, cv = 10, n_jobs = -1)\n",
        "mean = accuracies.mean()\n",
        "variance = accuracies.std()"
      ]
    },
    {
      "cell_type": "code",
      "execution_count": 27,
      "metadata": {},
      "outputs": [
        {
          "name": "stdout",
          "output_type": "stream",
          "text": [
            "0.8276250064373016 0.0073622713039046914\n"
          ]
        }
      ],
      "source": [
        "print(mean,variance)"
      ]
    },
    {
      "cell_type": "markdown",
      "metadata": {},
      "source": [
        "# Tuning the ANN"
      ]
    },
    {
      "cell_type": "code",
      "execution_count": null,
      "metadata": {},
      "outputs": [
        {
          "name": "stderr",
          "output_type": "stream",
          "text": [
            "C:\\Users\\samue\\AppData\\Local\\Temp\\ipykernel_37564\\1527070368.py:16: DeprecationWarning: KerasClassifier is deprecated, use Sci-Keras (https://github.com/adriangb/scikeras) instead. See https://www.adriangb.com/scikeras/stable/migration.html for help migrating.\n",
            "  classifier = KerasClassifier(build_fn = build_classifier)\n"
          ]
        }
      ],
      "source": [
        "from tensorflow.keras.wrappers.scikit_learn import KerasClassifier\n",
        "from sklearn.model_selection import GridSearchCV\n",
        "from tensorflow.keras.models import Sequential\n",
        "from tensorflow.keras.layers import Dense\n",
        "\n",
        "def build_classifier(optimizer):\n",
        "    classifier = Sequential()\n",
        "    classifier.add(Dense(units = 6, kernel_initializer = 'uniform', activation = 'tanh', input_dim = 12))\n",
        "    classifier.add(Dropout(rate = 0.1))\n",
        "    classifier.add(Dense(units = 6, kernel_initializer = 'uniform', activation = 'tanh'))\n",
        "    classifier.add(Dropout(rate = 0.1))\n",
        "    classifier.add(Dense(units = 1, kernel_initializer = 'uniform', activation = 'sigmoid'))\n",
        "    classifier.compile(optimizer = optimizer, loss = 'binary_crossentropy', metrics = ['accuracy'])\n",
        "    return classifier\n",
        "\n",
        "classifier = KerasClassifier(build_fn = build_classifier)\n",
        "\n",
        "parameters = {\n",
        "    'batch_size': [10, 25, 32],\n",
        "    'epochs': [1, 1],\n",
        "    'optimizer': ['adam', 'rmsprop']\n",
        "}\n",
        "\n",
        "grid_search = GridSearchCV(estimator = classifier,\n",
        "                           scoring = 'accuracy',\n",
        "                           param_grid = parameters,\n",
        "                           cv = 1)"
      ]
    },
    {
      "cell_type": "code",
      "execution_count": 48,
      "metadata": {},
      "outputs": [
        {
          "name": "stdout",
          "output_type": "stream",
          "text": [
            "720/720 [==============================] - 1s 2ms/step - loss: 0.4829 - accuracy: 0.8090\n",
            "720/720 [==============================] - 1s 1ms/step - loss: 0.4917 - accuracy: 0.8062\n",
            "720/720 [==============================] - 1s 1ms/step - loss: 0.4917 - accuracy: 0.8043\n",
            "720/720 [==============================] - 2s 2ms/step - loss: 0.4852 - accuracy: 0.8043\n",
            "720/720 [==============================] - 1s 1ms/step - loss: 0.4892 - accuracy: 0.8067\n",
            "720/720 [==============================] - 1s 2ms/step - loss: 0.4909 - accuracy: 0.8046\n",
            "720/720 [==============================] - 1s 1ms/step - loss: 0.4900 - accuracy: 0.8056\n",
            "720/720 [==============================] - 1s 1ms/step - loss: 0.4819 - accuracy: 0.8054\n",
            "720/720 [==============================] - 1s 2ms/step - loss: 0.4840 - accuracy: 0.8071\n",
            "720/720 [==============================] - 1s 1ms/step - loss: 0.4877 - accuracy: 0.8061\n",
            "720/720 [==============================] - 2s 2ms/step - loss: 0.4950 - accuracy: 0.8053\n",
            "720/720 [==============================] - 2s 2ms/step - loss: 0.4966 - accuracy: 0.8043\n",
            "720/720 [==============================] - 3s 3ms/step - loss: 0.4970 - accuracy: 0.8051\n",
            "720/720 [==============================] - 2s 864us/step - loss: 0.4953 - accuracy: 0.8050\n",
            "720/720 [==============================] - 2s 3ms/step - loss: 0.5025 - accuracy: 0.7997\n",
            "720/720 [==============================] - 1s 1ms/step - loss: 0.5032 - accuracy: 0.8000\n",
            "720/720 [==============================] - 2s 2ms/step - loss: 0.5001 - accuracy: 0.8024\n",
            "720/720 [==============================] - 1s 983us/step - loss: 0.4967 - accuracy: 0.8050\n",
            "720/720 [==============================] - 2s 1ms/step - loss: 0.4973 - accuracy: 0.8033\n",
            "720/720 [==============================] - 2s 1ms/step - loss: 0.5018 - accuracy: 0.8032\n",
            "720/720 [==============================] - 2s 2ms/step - loss: 0.4915 - accuracy: 0.8081\n",
            "720/720 [==============================] - 2s 2ms/step - loss: 0.4874 - accuracy: 0.8065\n",
            "720/720 [==============================] - 2s 2ms/step - loss: 0.4919 - accuracy: 0.7997\n",
            "720/720 [==============================] - 1s 1ms/step - loss: 0.4902 - accuracy: 0.8094\n",
            "720/720 [==============================] - 2s 2ms/step - loss: 0.4891 - accuracy: 0.8031\n",
            "720/720 [==============================] - 2s 2ms/step - loss: 0.4908 - accuracy: 0.8061\n",
            "720/720 [==============================] - 2s 2ms/step - loss: 0.4913 - accuracy: 0.8074\n",
            "720/720 [==============================] - 2s 2ms/step - loss: 0.4895 - accuracy: 0.8085\n",
            "720/720 [==============================] - 2s 2ms/step - loss: 0.4871 - accuracy: 0.8075\n",
            "720/720 [==============================] - 1s 1ms/step - loss: 0.4921 - accuracy: 0.8049\n",
            "720/720 [==============================] - 1s 882us/step - loss: 0.4948 - accuracy: 0.8067\n",
            "720/720 [==============================] - 2s 2ms/step - loss: 0.4998 - accuracy: 0.8033\n",
            "720/720 [==============================] - 3s 3ms/step - loss: 0.4958 - accuracy: 0.8011\n",
            "720/720 [==============================] - 2s 2ms/step - loss: 0.4976 - accuracy: 0.8078\n",
            "720/720 [==============================] - 2s 2ms/step - loss: 0.5057 - accuracy: 0.8021\n",
            "720/720 [==============================] - 2s 2ms/step - loss: 0.5002 - accuracy: 0.8012\n",
            "720/720 [==============================] - 2s 2ms/step - loss: 0.4959 - accuracy: 0.8049\n",
            "720/720 [==============================] - 2s 2ms/step - loss: 0.4983 - accuracy: 0.8039\n",
            "720/720 [==============================] - 2s 2ms/step - loss: 0.4994 - accuracy: 0.8047\n",
            "720/720 [==============================] - 2s 2ms/step - loss: 0.5021 - accuracy: 0.7996\n",
            "288/288 [==============================] - 1s 1ms/step - loss: 0.5497 - accuracy: 0.8037\n",
            "288/288 [==============================] - 1s 1ms/step - loss: 0.5518 - accuracy: 0.8046\n",
            "288/288 [==============================] - 1s 1ms/step - loss: 0.5515 - accuracy: 0.8024\n",
            "288/288 [==============================] - 1s 1ms/step - loss: 0.5512 - accuracy: 0.8044\n",
            "288/288 [==============================] - 1s 1ms/step - loss: 0.5519 - accuracy: 0.7996\n",
            "288/288 [==============================] - 1s 1ms/step - loss: 0.5482 - accuracy: 0.8007\n",
            "288/288 [==============================] - 1s 1ms/step - loss: 0.5474 - accuracy: 0.7999\n",
            "288/288 [==============================] - 1s 1ms/step - loss: 0.5497 - accuracy: 0.8046\n",
            "288/288 [==============================] - 1s 1ms/step - loss: 0.5521 - accuracy: 0.8014\n",
            "288/288 [==============================] - 1s 1ms/step - loss: 0.5499 - accuracy: 0.8021\n",
            "288/288 [==============================] - 1s 1ms/step - loss: 0.5603 - accuracy: 0.8039\n",
            "288/288 [==============================] - 1s 1ms/step - loss: 0.5641 - accuracy: 0.8006\n",
            "288/288 [==============================] - 1s 2ms/step - loss: 0.5648 - accuracy: 0.7996\n",
            "288/288 [==============================] - 1s 1ms/step - loss: 0.5633 - accuracy: 0.8025\n",
            "288/288 [==============================] - 1s 993us/step - loss: 0.5694 - accuracy: 0.8000\n",
            "288/288 [==============================] - 1s 1ms/step - loss: 0.5600 - accuracy: 0.8007\n",
            "288/288 [==============================] - 1s 2ms/step - loss: 0.5632 - accuracy: 0.7992\n",
            "288/288 [==============================] - 1s 2ms/step - loss: 0.5598 - accuracy: 0.8004\n",
            "288/288 [==============================] - 1s 2ms/step - loss: 0.5665 - accuracy: 0.8001\n",
            "288/288 [==============================] - 1s 2ms/step - loss: 0.5668 - accuracy: 0.8021\n",
            "288/288 [==============================] - 1s 2ms/step - loss: 0.5489 - accuracy: 0.8021\n",
            "288/288 [==============================] - 1s 2ms/step - loss: 0.5497 - accuracy: 0.8026\n",
            "288/288 [==============================] - 1s 2ms/step - loss: 0.5546 - accuracy: 0.7990\n",
            "288/288 [==============================] - 1s 2ms/step - loss: 0.5475 - accuracy: 0.8018\n",
            "288/288 [==============================] - 1s 2ms/step - loss: 0.5476 - accuracy: 0.8025\n",
            "288/288 [==============================] - 1s 1ms/step - loss: 0.5503 - accuracy: 0.8025\n",
            "288/288 [==============================] - 1s 2ms/step - loss: 0.5527 - accuracy: 0.8021\n",
            "288/288 [==============================] - 1s 2ms/step - loss: 0.5493 - accuracy: 0.8036\n",
            "288/288 [==============================] - 1s 2ms/step - loss: 0.5525 - accuracy: 0.8015\n",
            "288/288 [==============================] - 1s 1ms/step - loss: 0.5523 - accuracy: 0.7990\n",
            "288/288 [==============================] - 1s 1ms/step - loss: 0.5600 - accuracy: 0.8035\n",
            "288/288 [==============================] - 1s 1ms/step - loss: 0.5634 - accuracy: 0.8037\n",
            "288/288 [==============================] - 1s 2ms/step - loss: 0.5632 - accuracy: 0.7985\n",
            "288/288 [==============================] - 1s 2ms/step - loss: 0.5646 - accuracy: 0.8031\n",
            "288/288 [==============================] - 1s 2ms/step - loss: 0.5660 - accuracy: 0.7982\n",
            "288/288 [==============================] - 1s 2ms/step - loss: 0.5653 - accuracy: 0.7999\n",
            "288/288 [==============================] - 1s 1ms/step - loss: 0.5654 - accuracy: 0.7999\n",
            "288/288 [==============================] - 1s 1ms/step - loss: 0.5637 - accuracy: 0.8012\n",
            "288/288 [==============================] - 1s 1ms/step - loss: 0.5629 - accuracy: 0.8021\n",
            "288/288 [==============================] - 1s 1ms/step - loss: 0.5617 - accuracy: 0.8022\n",
            "225/225 [==============================] - 1s 996us/step - loss: 0.5795 - accuracy: 0.8044\n",
            "225/225 [==============================] - 1s 1ms/step - loss: 0.5762 - accuracy: 0.8018\n",
            "225/225 [==============================] - 1s 2ms/step - loss: 0.5779 - accuracy: 0.8007\n",
            "225/225 [==============================] - 1s 1ms/step - loss: 0.5737 - accuracy: 0.8019\n",
            "225/225 [==============================] - 1s 1ms/step - loss: 0.5777 - accuracy: 0.7969\n",
            "225/225 [==============================] - 1s 2ms/step - loss: 0.5781 - accuracy: 0.7978\n",
            "225/225 [==============================] - 1s 2ms/step - loss: 0.5801 - accuracy: 0.7990\n",
            "225/225 [==============================] - 1s 2ms/step - loss: 0.5769 - accuracy: 0.8022\n",
            "225/225 [==============================] - 1s 3ms/step - loss: 0.5767 - accuracy: 0.7975\n",
            "225/225 [==============================] - 1s 2ms/step - loss: 0.5750 - accuracy: 0.7987\n",
            "225/225 [==============================] - 1s 1ms/step - loss: 0.5883 - accuracy: 0.8008\n",
            "225/225 [==============================] - 1s 2ms/step - loss: 0.5900 - accuracy: 0.7985\n",
            "225/225 [==============================] - 1s 2ms/step - loss: 0.5866 - accuracy: 0.7997\n",
            "225/225 [==============================] - 1s 1ms/step - loss: 0.5901 - accuracy: 0.8018\n",
            "225/225 [==============================] - 1s 2ms/step - loss: 0.5901 - accuracy: 0.7990\n",
            "225/225 [==============================] - 1s 1ms/step - loss: 0.5873 - accuracy: 0.7982\n",
            "225/225 [==============================] - 1s 1ms/step - loss: 0.5851 - accuracy: 0.8008\n",
            "225/225 [==============================] - 1s 969us/step - loss: 0.5882 - accuracy: 0.8025\n",
            "225/225 [==============================] - 1s 941us/step - loss: 0.5858 - accuracy: 0.8004\n",
            "225/225 [==============================] - 1s 978us/step - loss: 0.5864 - accuracy: 0.7990\n",
            "225/225 [==============================] - 1s 1ms/step - loss: 0.5740 - accuracy: 0.8044\n",
            "225/225 [==============================] - 1s 1ms/step - loss: 0.5790 - accuracy: 0.8007\n",
            "225/225 [==============================] - 1s 1ms/step - loss: 0.5770 - accuracy: 0.8019\n",
            "225/225 [==============================] - 1s 2ms/step - loss: 0.5755 - accuracy: 0.8051\n",
            "225/225 [==============================] - 1s 2ms/step - loss: 0.5759 - accuracy: 0.8014\n",
            "225/225 [==============================] - 1s 1ms/step - loss: 0.5772 - accuracy: 0.7993\n",
            "225/225 [==============================] - 1s 1ms/step - loss: 0.5808 - accuracy: 0.8012\n",
            "225/225 [==============================] - 1s 1ms/step - loss: 0.5767 - accuracy: 0.8024\n",
            "225/225 [==============================] - 1s 1ms/step - loss: 0.5732 - accuracy: 0.8017\n",
            "225/225 [==============================] - 1s 2ms/step - loss: 0.5776 - accuracy: 0.8017\n",
            "225/225 [==============================] - 1s 2ms/step - loss: 0.5879 - accuracy: 0.8007\n",
            "225/225 [==============================] - 1s 2ms/step - loss: 0.5862 - accuracy: 0.8036\n",
            "225/225 [==============================] - 1s 1ms/step - loss: 0.5925 - accuracy: 0.8000\n",
            "225/225 [==============================] - 1s 2ms/step - loss: 0.5891 - accuracy: 0.8042\n",
            "225/225 [==============================] - 1s 2ms/step - loss: 0.5913 - accuracy: 0.7981\n",
            "225/225 [==============================] - 1s 2ms/step - loss: 0.5887 - accuracy: 0.7971\n",
            "225/225 [==============================] - 1s 2ms/step - loss: 0.5885 - accuracy: 0.8024\n",
            "225/225 [==============================] - 1s 2ms/step - loss: 0.5908 - accuracy: 0.8017\n",
            "225/225 [==============================] - 1s 2ms/step - loss: 0.5903 - accuracy: 0.8011\n",
            "225/225 [==============================] - 1s 1ms/step - loss: 0.5885 - accuracy: 0.7989\n",
            "320/320 [==============================] - 1s 1ms/step - loss: 0.5506 - accuracy: 0.8026\n",
            "CPU times: total: 3min 12s\n",
            "Wall time: 2min 43s\n"
          ]
        }
      ],
      "source": [
        "%%time\n",
        "\n",
        "grid_search = grid_search.fit(X_train, y_train)"
      ]
    },
    {
      "cell_type": "code",
      "execution_count": 49,
      "metadata": {},
      "outputs": [
        {
          "name": "stdout",
          "output_type": "stream",
          "text": [
            "Best params:\n",
            " {'batch_size': 25, 'epochs': 1, 'optimizer': 'rmsprop'} \n",
            "Best accuracy:\n",
            " 0.8106249999999999\n"
          ]
        }
      ],
      "source": [
        "print('Best params:\\n',grid_search.best_params_,'\\nBest accuracy:\\n',grid_search.best_score_)"
      ]
    },
    {
      "cell_type": "markdown",
      "metadata": {},
      "source": [
        "# Halving Grid Search"
      ]
    },
    {
      "cell_type": "code",
      "execution_count": null,
      "metadata": {},
      "outputs": [],
      "source": [
        "from tensorflow.keras.wrappers.scikit_learn import KerasClassifier\n",
        "from tensorflow.keras.models import Sequential\n",
        "from tensorflow.keras.layers import Dense\n",
        "from sklearn.experimental import enable_halving_search_cv\n",
        "from sklearn.model_selection import HalvingGridSearchCV\n",
        "\n",
        "def build_classifier(optimizer):\n",
        "    classifier = Sequential()\n",
        "    classifier.add(Dense(units = 6, kernel_initializer = 'uniform', activation = 'relu', input_dim = 12))\n",
        "    classifier.add(Dropout(rate = 0.1))\n",
        "    classifier.add(Dense(units = 6, kernel_initializer = 'uniform', activation = 'relu'))\n",
        "    classifier.add(Dropout(rate = 0.1))\n",
        "    classifier.add(Dense(units = 1, kernel_initializer = 'uniform', activation = 'sigmoid'))\n",
        "    classifier.compile(optimizer = optimizer, loss = 'binary_crossentropy', metrics = ['accuracy'])\n",
        "    return classifier\n",
        "\n",
        "classifier = KerasClassifier(build_fn = build_classifier)\n",
        "\n",
        "parameters = {\n",
        "    'batch_size': [10, 25, 32],\n",
        "    'epochs': [1, 1],\n",
        "    'optimizer': ['adam', 'rmsprop']\n",
        "}\n",
        "\n",
        "halving_cv = HalvingGridSearchCV(estimator = classifier,\n",
        "                                  param_grid = parameters,\n",
        "                                  scoring=\"accuracy\", \n",
        "                                  n_jobs=-1, \n",
        "                                  min_resources=\"exhaust\", \n",
        "                                  factor=3,\n",
        "                                  cv = 10)"
      ]
    },
    {
      "cell_type": "code",
      "execution_count": null,
      "metadata": {},
      "outputs": [
        {
          "name": "stdout",
          "output_type": "stream",
          "text": [
            "Epoch 1/100\n",
            "800/800 [==============================] - 2s 1ms/step - loss: 0.5946 - accuracy: 0.7885\n",
            "Epoch 2/100\n",
            "800/800 [==============================] - 1s 1ms/step - loss: 0.4398 - accuracy: 0.7998\n",
            "Epoch 3/100\n",
            "800/800 [==============================] - 1s 1ms/step - loss: 0.4418 - accuracy: 0.7957\n",
            "Epoch 4/100\n",
            "800/800 [==============================] - 1s 1ms/step - loss: 0.4419 - accuracy: 0.7951\n",
            "Epoch 5/100\n",
            "800/800 [==============================] - 1s 1ms/step - loss: 0.4271 - accuracy: 0.8002\n",
            "Epoch 6/100\n",
            "800/800 [==============================] - 1s 1ms/step - loss: 0.4255 - accuracy: 0.8023: 0s - loss: 0.4204 - \n",
            "Epoch 7/100\n",
            "800/800 [==============================] - 1s 1ms/step - loss: 0.4353 - accuracy: 0.7938\n",
            "Epoch 8/100\n",
            "800/800 [==============================] - 1s 1ms/step - loss: 0.4432 - accuracy: 0.7897\n",
            "Epoch 9/100\n",
            "800/800 [==============================] - 1s 1ms/step - loss: 0.4534 - accuracy: 0.7873\n",
            "Epoch 10/100\n",
            "800/800 [==============================] - 1s 1ms/step - loss: 0.4359 - accuracy: 0.7918\n",
            "Epoch 11/100\n",
            "800/800 [==============================] - 1s 1ms/step - loss: 0.4202 - accuracy: 0.8066\n",
            "Epoch 12/100\n",
            "800/800 [==============================] - 1s 1ms/step - loss: 0.4368 - accuracy: 0.7957\n",
            "Epoch 13/100\n",
            "800/800 [==============================] - 1s 1ms/step - loss: 0.4262 - accuracy: 0.7996\n",
            "Epoch 14/100\n",
            "800/800 [==============================] - 1s 1ms/step - loss: 0.4347 - accuracy: 0.7967\n",
            "Epoch 15/100\n",
            "800/800 [==============================] - 1s 1ms/step - loss: 0.4318 - accuracy: 0.7995\n",
            "Epoch 16/100\n",
            "800/800 [==============================] - 1s 2ms/step - loss: 0.4292 - accuracy: 0.8178\n",
            "Epoch 17/100\n",
            "800/800 [==============================] - 1s 2ms/step - loss: 0.4365 - accuracy: 0.8114\n",
            "Epoch 18/100\n",
            "800/800 [==============================] - 1s 1ms/step - loss: 0.4368 - accuracy: 0.8184\n",
            "Epoch 19/100\n",
            "800/800 [==============================] - 1s 1ms/step - loss: 0.4350 - accuracy: 0.8155\n",
            "Epoch 20/100\n",
            "800/800 [==============================] - 1s 1ms/step - loss: 0.4367 - accuracy: 0.8152\n",
            "Epoch 21/100\n",
            "800/800 [==============================] - 1s 1ms/step - loss: 0.4267 - accuracy: 0.8203\n",
            "Epoch 22/100\n",
            "800/800 [==============================] - 1s 1ms/step - loss: 0.4337 - accuracy: 0.8157\n",
            "Epoch 23/100\n",
            "800/800 [==============================] - 1s 1ms/step - loss: 0.4232 - accuracy: 0.8227\n",
            "Epoch 24/100\n",
            "800/800 [==============================] - 1s 1ms/step - loss: 0.4348 - accuracy: 0.8197\n",
            "Epoch 25/100\n",
            "800/800 [==============================] - 1s 1ms/step - loss: 0.4286 - accuracy: 0.8223\n",
            "Epoch 26/100\n",
            "800/800 [==============================] - 1s 2ms/step - loss: 0.4350 - accuracy: 0.8159\n",
            "Epoch 27/100\n",
            "800/800 [==============================] - 1s 1ms/step - loss: 0.4206 - accuracy: 0.8221\n",
            "Epoch 28/100\n",
            "800/800 [==============================] - 1s 1ms/step - loss: 0.4330 - accuracy: 0.8222\n",
            "Epoch 29/100\n",
            "800/800 [==============================] - 1s 1ms/step - loss: 0.4253 - accuracy: 0.8230\n",
            "Epoch 30/100\n",
            "800/800 [==============================] - 1s 1ms/step - loss: 0.4360 - accuracy: 0.8228\n",
            "Epoch 31/100\n",
            "800/800 [==============================] - 1s 1ms/step - loss: 0.4399 - accuracy: 0.8188\n",
            "Epoch 32/100\n",
            "800/800 [==============================] - 1s 1ms/step - loss: 0.4326 - accuracy: 0.8252\n",
            "Epoch 33/100\n",
            "800/800 [==============================] - 1s 1ms/step - loss: 0.4248 - accuracy: 0.8253\n",
            "Epoch 34/100\n",
            "800/800 [==============================] - 1s 2ms/step - loss: 0.4443 - accuracy: 0.8197\n",
            "Epoch 35/100\n",
            "800/800 [==============================] - 1s 1ms/step - loss: 0.4230 - accuracy: 0.8282\n",
            "Epoch 36/100\n",
            "800/800 [==============================] - 1s 1ms/step - loss: 0.4403 - accuracy: 0.8146\n",
            "Epoch 37/100\n",
            "800/800 [==============================] - 1s 1ms/step - loss: 0.4287 - accuracy: 0.8203\n",
            "Epoch 38/100\n",
            "800/800 [==============================] - 1s 1ms/step - loss: 0.4188 - accuracy: 0.8247\n",
            "Epoch 39/100\n",
            "800/800 [==============================] - 1s 1ms/step - loss: 0.4290 - accuracy: 0.8274\n",
            "Epoch 40/100\n",
            "800/800 [==============================] - 1s 1ms/step - loss: 0.4269 - accuracy: 0.8244\n",
            "Epoch 41/100\n",
            "800/800 [==============================] - 1s 1ms/step - loss: 0.4387 - accuracy: 0.8217\n",
            "Epoch 42/100\n",
            "800/800 [==============================] - 1s 1ms/step - loss: 0.4326 - accuracy: 0.8198: 0s - loss: 0.4332 - \n",
            "Epoch 43/100\n",
            "800/800 [==============================] - 1s 1ms/step - loss: 0.4283 - accuracy: 0.8243\n",
            "Epoch 44/100\n",
            "800/800 [==============================] - 1s 1ms/step - loss: 0.4315 - accuracy: 0.8226\n",
            "Epoch 45/100\n",
            "800/800 [==============================] - 1s 1ms/step - loss: 0.4221 - accuracy: 0.8261\n",
            "Epoch 46/100\n",
            "800/800 [==============================] - 1s 1ms/step - loss: 0.4202 - accuracy: 0.8329\n",
            "Epoch 47/100\n",
            "800/800 [==============================] - 1s 1ms/step - loss: 0.4303 - accuracy: 0.8189\n",
            "Epoch 48/100\n",
            "800/800 [==============================] - 1s 1ms/step - loss: 0.4338 - accuracy: 0.8217\n",
            "Epoch 49/100\n",
            "800/800 [==============================] - 1s 1ms/step - loss: 0.4329 - accuracy: 0.8204\n",
            "Epoch 50/100\n",
            "800/800 [==============================] - 1s 1ms/step - loss: 0.4326 - accuracy: 0.8170\n",
            "Epoch 51/100\n",
            "800/800 [==============================] - 1s 2ms/step - loss: 0.4283 - accuracy: 0.8260\n",
            "Epoch 52/100\n",
            "800/800 [==============================] - 1s 1ms/step - loss: 0.4196 - accuracy: 0.8302\n",
            "Epoch 53/100\n",
            "800/800 [==============================] - 1s 1ms/step - loss: 0.4263 - accuracy: 0.8283\n",
            "Epoch 54/100\n",
            "800/800 [==============================] - 1s 2ms/step - loss: 0.4310 - accuracy: 0.8275\n",
            "Epoch 55/100\n",
            "800/800 [==============================] - 1s 2ms/step - loss: 0.4210 - accuracy: 0.8262\n",
            "Epoch 56/100\n",
            "800/800 [==============================] - 1s 1ms/step - loss: 0.4288 - accuracy: 0.8228: 0s - loss: 0.4275 - ac\n",
            "Epoch 57/100\n",
            "800/800 [==============================] - 1s 1ms/step - loss: 0.4254 - accuracy: 0.8236\n",
            "Epoch 58/100\n",
            "800/800 [==============================] - 1s 1ms/step - loss: 0.4276 - accuracy: 0.8225\n",
            "Epoch 59/100\n",
            "800/800 [==============================] - 1s 1ms/step - loss: 0.4365 - accuracy: 0.8172\n",
            "Epoch 60/100\n",
            "800/800 [==============================] - 1s 1ms/step - loss: 0.4249 - accuracy: 0.8199\n",
            "Epoch 61/100\n",
            "800/800 [==============================] - 1s 1ms/step - loss: 0.4232 - accuracy: 0.8276\n",
            "Epoch 62/100\n",
            "800/800 [==============================] - 1s 1ms/step - loss: 0.4194 - accuracy: 0.8277\n",
            "Epoch 63/100\n",
            "800/800 [==============================] - 1s 1ms/step - loss: 0.4369 - accuracy: 0.8209\n",
            "Epoch 64/100\n",
            "800/800 [==============================] - 1s 1ms/step - loss: 0.4211 - accuracy: 0.8260\n",
            "Epoch 65/100\n",
            "800/800 [==============================] - 1s 1ms/step - loss: 0.4226 - accuracy: 0.8248\n",
            "Epoch 66/100\n",
            "800/800 [==============================] - 1s 1ms/step - loss: 0.4280 - accuracy: 0.8202\n",
            "Epoch 67/100\n",
            "800/800 [==============================] - 1s 1ms/step - loss: 0.4298 - accuracy: 0.8278\n",
            "Epoch 68/100\n",
            "800/800 [==============================] - 1s 2ms/step - loss: 0.4274 - accuracy: 0.8238\n",
            "Epoch 69/100\n",
            "800/800 [==============================] - 1s 1ms/step - loss: 0.4330 - accuracy: 0.8217\n",
            "Epoch 70/100\n",
            "800/800 [==============================] - 1s 1ms/step - loss: 0.4302 - accuracy: 0.8213\n",
            "Epoch 71/100\n",
            "800/800 [==============================] - 1s 2ms/step - loss: 0.4349 - accuracy: 0.8219\n",
            "Epoch 72/100\n",
            "800/800 [==============================] - 1s 2ms/step - loss: 0.4260 - accuracy: 0.8237\n",
            "Epoch 73/100\n",
            "800/800 [==============================] - 2s 3ms/step - loss: 0.4254 - accuracy: 0.8296\n",
            "Epoch 74/100\n",
            "800/800 [==============================] - 3s 4ms/step - loss: 0.4300 - accuracy: 0.8229\n",
            "Epoch 75/100\n",
            "800/800 [==============================] - 2s 2ms/step - loss: 0.4371 - accuracy: 0.8141\n",
            "Epoch 76/100\n",
            "800/800 [==============================] - 1s 2ms/step - loss: 0.4164 - accuracy: 0.8332\n",
            "Epoch 77/100\n",
            "800/800 [==============================] - 1s 1ms/step - loss: 0.4428 - accuracy: 0.8175\n",
            "Epoch 78/100\n",
            "800/800 [==============================] - 1s 1ms/step - loss: 0.4232 - accuracy: 0.8243\n",
            "Epoch 79/100\n",
            "800/800 [==============================] - 1s 1ms/step - loss: 0.4267 - accuracy: 0.8237\n",
            "Epoch 80/100\n",
            "800/800 [==============================] - 1s 2ms/step - loss: 0.4278 - accuracy: 0.8182\n",
            "Epoch 81/100\n",
            "800/800 [==============================] - 1s 1ms/step - loss: 0.4373 - accuracy: 0.8171\n",
            "Epoch 82/100\n",
            "800/800 [==============================] - 1s 1ms/step - loss: 0.4341 - accuracy: 0.8222\n",
            "Epoch 83/100\n",
            "800/800 [==============================] - 1s 2ms/step - loss: 0.4325 - accuracy: 0.8164: 0s - loss: 0.432\n",
            "Epoch 84/100\n",
            "800/800 [==============================] - 1s 2ms/step - loss: 0.4372 - accuracy: 0.8217\n",
            "Epoch 85/100\n",
            "800/800 [==============================] - 1s 2ms/step - loss: 0.4400 - accuracy: 0.8179\n",
            "Epoch 86/100\n",
            "800/800 [==============================] - 1s 2ms/step - loss: 0.4311 - accuracy: 0.8262\n",
            "Epoch 87/100\n",
            "800/800 [==============================] - 1s 2ms/step - loss: 0.4294 - accuracy: 0.8250\n",
            "Epoch 88/100\n",
            "800/800 [==============================] - 1s 1ms/step - loss: 0.4355 - accuracy: 0.8235\n",
            "Epoch 89/100\n",
            "800/800 [==============================] - 1s 2ms/step - loss: 0.4276 - accuracy: 0.8190: 0s - loss: 0.4272 - accuracy\n",
            "Epoch 90/100\n",
            "800/800 [==============================] - 1s 1ms/step - loss: 0.4390 - accuracy: 0.8149\n",
            "Epoch 91/100\n",
            "800/800 [==============================] - 1s 1ms/step - loss: 0.4260 - accuracy: 0.8240\n",
            "Epoch 92/100\n",
            "800/800 [==============================] - 1s 1ms/step - loss: 0.4346 - accuracy: 0.8229\n",
            "Epoch 93/100\n",
            "800/800 [==============================] - 1s 1ms/step - loss: 0.4272 - accuracy: 0.8317\n",
            "Epoch 94/100\n",
            "800/800 [==============================] - 1s 1ms/step - loss: 0.4242 - accuracy: 0.8288\n",
            "Epoch 95/100\n",
            "800/800 [==============================] - 1s 1ms/step - loss: 0.4289 - accuracy: 0.8265\n",
            "Epoch 96/100\n",
            "800/800 [==============================] - 1s 1ms/step - loss: 0.4304 - accuracy: 0.8200\n",
            "Epoch 97/100\n",
            "800/800 [==============================] - 1s 1ms/step - loss: 0.4251 - accuracy: 0.8243\n",
            "Epoch 98/100\n",
            "800/800 [==============================] - 1s 1ms/step - loss: 0.4365 - accuracy: 0.8191\n",
            "Epoch 99/100\n",
            "800/800 [==============================] - 1s 1ms/step - loss: 0.4290 - accuracy: 0.8215\n",
            "Epoch 100/100\n",
            "800/800 [==============================] - 1s 1ms/step - loss: 0.4262 - accuracy: 0.8257\n",
            "CPU times: user 2min 6s, sys: 15.2 s, total: 2min 21s\n",
            "Wall time: 28min 8s\n"
          ]
        }
      ],
      "source": [
        "%%time\n",
        "halving_cv = halving_cv.fit(X_train, y_train)"
      ]
    },
    {
      "cell_type": "code",
      "execution_count": null,
      "metadata": {},
      "outputs": [
        {
          "name": "stdout",
          "output_type": "stream",
          "text": [
            "Best params:\n",
            " {'batch_size': 10, 'epochs': 100, 'optimizer': 'rmsprop'} \n",
            "Best accuracy:\n",
            " 0.8346683354192741\n"
          ]
        }
      ],
      "source": [
        "print('Best params:\\n',halving_cv.best_params_,'\\nBest accuracy:\\n',halving_cv.best_score_)"
      ]
    },
    {
      "cell_type": "markdown",
      "metadata": {},
      "source": [
        "# FIM"
      ]
    },
    {
      "cell_type": "markdown",
      "metadata": {},
      "source": [
        "> Professor Diego Dorgam  \n",
        "> [@diegodorgam](https://twitter.com/diegodorgam)"
      ]
    }
  ],
  "metadata": {
    "kernelspec": {
      "display_name": "Python 3",
      "language": "python",
      "name": "python3"
    },
    "language_info": {
      "codemirror_mode": {
        "name": "ipython",
        "version": 3
      },
      "file_extension": ".py",
      "mimetype": "text/x-python",
      "name": "python",
      "nbconvert_exporter": "python",
      "pygments_lexer": "ipython3",
      "version": "3.9.6"
    }
  },
  "nbformat": 4,
  "nbformat_minor": 4
}
