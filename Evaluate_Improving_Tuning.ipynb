{
 "cells": [
  {
   "cell_type": "markdown",
   "metadata": {},
   "source": [
    "# REDES NEURAIS ARTIFICIAIS\n",
    "## Evaluate Improve e Tunning"
   ]
  },
  {
   "cell_type": "markdown",
   "metadata": {},
   "source": [
    "# Parte 1 - Pré-processamento dos Dados"
   ]
  },
  {
   "cell_type": "markdown",
   "metadata": {},
   "source": [
    "### Importar as libs"
   ]
  },
  {
   "cell_type": "code",
   "execution_count": 1,
   "metadata": {
    "colab": {},
    "colab_type": "code",
    "id": "MxkJoQBkUIHC"
   },
   "outputs": [],
   "source": [
    "import numpy as np\n",
    "import pandas as pd\n",
    "import tensorflow as tf"
   ]
  },
  {
   "cell_type": "code",
   "execution_count": 2,
   "metadata": {
    "colab": {
     "base_uri": "https://localhost:8080/",
     "height": 34
    },
    "colab_type": "code",
    "id": "ZaTwK7ojXr2F",
    "outputId": "0b27a96d-d11a-43e8-ab4b-87c1f01896fe"
   },
   "outputs": [
    {
     "data": {
      "text/plain": [
       "'2.8.0'"
      ]
     },
     "execution_count": 2,
     "metadata": {},
     "output_type": "execute_result"
    }
   ],
   "source": [
    "tf.__version__"
   ]
  },
  {
   "cell_type": "markdown",
   "metadata": {},
   "source": [
    "### Importar o dataset"
   ]
  },
  {
   "cell_type": "code",
   "execution_count": 3,
   "metadata": {},
   "outputs": [
    {
     "data": {
      "text/html": [
       "<div>\n",
       "<style scoped>\n",
       "    .dataframe tbody tr th:only-of-type {\n",
       "        vertical-align: middle;\n",
       "    }\n",
       "\n",
       "    .dataframe tbody tr th {\n",
       "        vertical-align: top;\n",
       "    }\n",
       "\n",
       "    .dataframe thead th {\n",
       "        text-align: right;\n",
       "    }\n",
       "</style>\n",
       "<table border=\"1\" class=\"dataframe\">\n",
       "  <thead>\n",
       "    <tr style=\"text-align: right;\">\n",
       "      <th></th>\n",
       "      <th>RowNumber</th>\n",
       "      <th>CustomerId</th>\n",
       "      <th>Surname</th>\n",
       "      <th>CreditScore</th>\n",
       "      <th>Geography</th>\n",
       "      <th>Gender</th>\n",
       "      <th>Age</th>\n",
       "      <th>Tenure</th>\n",
       "      <th>Balance</th>\n",
       "      <th>NumOfProducts</th>\n",
       "      <th>HasCrCard</th>\n",
       "      <th>IsActiveMember</th>\n",
       "      <th>EstimatedSalary</th>\n",
       "      <th>Exited</th>\n",
       "    </tr>\n",
       "  </thead>\n",
       "  <tbody>\n",
       "    <tr>\n",
       "      <th>0</th>\n",
       "      <td>1</td>\n",
       "      <td>15634602</td>\n",
       "      <td>Hargrave</td>\n",
       "      <td>619</td>\n",
       "      <td>France</td>\n",
       "      <td>Female</td>\n",
       "      <td>42</td>\n",
       "      <td>2</td>\n",
       "      <td>0.00</td>\n",
       "      <td>1</td>\n",
       "      <td>1</td>\n",
       "      <td>1</td>\n",
       "      <td>101348.88</td>\n",
       "      <td>1</td>\n",
       "    </tr>\n",
       "    <tr>\n",
       "      <th>1</th>\n",
       "      <td>2</td>\n",
       "      <td>15647311</td>\n",
       "      <td>Hill</td>\n",
       "      <td>608</td>\n",
       "      <td>Spain</td>\n",
       "      <td>Female</td>\n",
       "      <td>41</td>\n",
       "      <td>1</td>\n",
       "      <td>83807.86</td>\n",
       "      <td>1</td>\n",
       "      <td>0</td>\n",
       "      <td>1</td>\n",
       "      <td>112542.58</td>\n",
       "      <td>0</td>\n",
       "    </tr>\n",
       "    <tr>\n",
       "      <th>2</th>\n",
       "      <td>3</td>\n",
       "      <td>15619304</td>\n",
       "      <td>Onio</td>\n",
       "      <td>502</td>\n",
       "      <td>France</td>\n",
       "      <td>Female</td>\n",
       "      <td>42</td>\n",
       "      <td>8</td>\n",
       "      <td>159660.80</td>\n",
       "      <td>3</td>\n",
       "      <td>1</td>\n",
       "      <td>0</td>\n",
       "      <td>113931.57</td>\n",
       "      <td>1</td>\n",
       "    </tr>\n",
       "    <tr>\n",
       "      <th>3</th>\n",
       "      <td>4</td>\n",
       "      <td>15701354</td>\n",
       "      <td>Boni</td>\n",
       "      <td>699</td>\n",
       "      <td>France</td>\n",
       "      <td>Female</td>\n",
       "      <td>39</td>\n",
       "      <td>1</td>\n",
       "      <td>0.00</td>\n",
       "      <td>2</td>\n",
       "      <td>0</td>\n",
       "      <td>0</td>\n",
       "      <td>93826.63</td>\n",
       "      <td>0</td>\n",
       "    </tr>\n",
       "    <tr>\n",
       "      <th>4</th>\n",
       "      <td>5</td>\n",
       "      <td>15737888</td>\n",
       "      <td>Mitchell</td>\n",
       "      <td>850</td>\n",
       "      <td>Spain</td>\n",
       "      <td>Female</td>\n",
       "      <td>43</td>\n",
       "      <td>2</td>\n",
       "      <td>125510.82</td>\n",
       "      <td>1</td>\n",
       "      <td>1</td>\n",
       "      <td>1</td>\n",
       "      <td>79084.10</td>\n",
       "      <td>0</td>\n",
       "    </tr>\n",
       "  </tbody>\n",
       "</table>\n",
       "</div>"
      ],
      "text/plain": [
       "   RowNumber  CustomerId   Surname  CreditScore Geography  Gender  Age  \\\n",
       "0          1    15634602  Hargrave          619    France  Female   42   \n",
       "1          2    15647311      Hill          608     Spain  Female   41   \n",
       "2          3    15619304      Onio          502    France  Female   42   \n",
       "3          4    15701354      Boni          699    France  Female   39   \n",
       "4          5    15737888  Mitchell          850     Spain  Female   43   \n",
       "\n",
       "   Tenure    Balance  NumOfProducts  HasCrCard  IsActiveMember  \\\n",
       "0       2       0.00              1          1               1   \n",
       "1       1   83807.86              1          0               1   \n",
       "2       8  159660.80              3          1               0   \n",
       "3       1       0.00              2          0               0   \n",
       "4       2  125510.82              1          1               1   \n",
       "\n",
       "   EstimatedSalary  Exited  \n",
       "0        101348.88       1  \n",
       "1        112542.58       0  \n",
       "2        113931.57       1  \n",
       "3         93826.63       0  \n",
       "4         79084.10       0  "
      ]
     },
     "execution_count": 3,
     "metadata": {},
     "output_type": "execute_result"
    }
   ],
   "source": [
    "dataset = pd.read_csv('Churn_Modelling.csv')\n",
    "dataset.head()"
   ]
  },
  {
   "cell_type": "code",
   "execution_count": 4,
   "metadata": {},
   "outputs": [
    {
     "name": "stdout",
     "output_type": "stream",
     "text": [
      "X >>\n",
      " [[619 'France' 'Female' ... 1 1 101348.88]\n",
      " [608 'Spain' 'Female' ... 0 1 112542.58]\n",
      " [502 'France' 'Female' ... 1 0 113931.57]\n",
      " ...\n",
      " [709 'France' 'Female' ... 0 1 42085.58]\n",
      " [772 'Germany' 'Male' ... 1 0 92888.52]\n",
      " [792 'France' 'Female' ... 1 0 38190.78]]\n",
      "y >>\n",
      " [1 0 1 ... 1 1 0]\n"
     ]
    }
   ],
   "source": [
    "X = dataset.iloc[:, 3:13].values\n",
    "y = dataset.iloc[:, 13].values\n",
    "print(\"X >>\\n\",X)\n",
    "print(\"y >>\\n\",y)"
   ]
  },
  {
   "cell_type": "markdown",
   "metadata": {},
   "source": [
    "### Transformando os dados categóricos\n"
   ]
  },
  {
   "cell_type": "code",
   "execution_count": 5,
   "metadata": {},
   "outputs": [
    {
     "name": "stdout",
     "output_type": "stream",
     "text": [
      "[[619 'France' 0 ... 1 1 101348.88]\n",
      " [608 'Spain' 0 ... 0 1 112542.58]\n",
      " [502 'France' 0 ... 1 0 113931.57]\n",
      " ...\n",
      " [709 'France' 0 ... 0 1 42085.58]\n",
      " [772 'Germany' 1 ... 1 0 92888.52]\n",
      " [792 'France' 0 ... 1 0 38190.78]]\n",
      "[[1.0 0.0 0.0 ... 1 1 101348.88]\n",
      " [0.0 0.0 1.0 ... 0 1 112542.58]\n",
      " [1.0 0.0 0.0 ... 1 0 113931.57]\n",
      " ...\n",
      " [1.0 0.0 0.0 ... 0 1 42085.58]\n",
      " [0.0 1.0 0.0 ... 1 0 92888.52]\n",
      " [1.0 0.0 0.0 ... 1 0 38190.78]]\n"
     ]
    }
   ],
   "source": [
    "# Label Encoding the \"Gender\" column\n",
    "from sklearn.preprocessing import LabelEncoder\n",
    "le = LabelEncoder()\n",
    "X[:, 2] = le.fit_transform(X[:, 2])\n",
    "print(X)\n",
    "# One Hot Encoding the \"Geography\" column\n",
    "from sklearn.compose import ColumnTransformer\n",
    "from sklearn.preprocessing import OneHotEncoder\n",
    "ct = ColumnTransformer(transformers=[('encoder', OneHotEncoder(), [1])], remainder='passthrough')\n",
    "X = np.array(ct.fit_transform(X))\n",
    "print(X)"
   ]
  },
  {
   "cell_type": "markdown",
   "metadata": {},
   "source": [
    "# Dividindo o dataset em conjunto de treinamento e conjunto de teste"
   ]
  },
  {
   "cell_type": "code",
   "execution_count": 6,
   "metadata": {},
   "outputs": [],
   "source": [
    "from sklearn.model_selection import train_test_split\n",
    "X_train, X_test, y_train, y_test = train_test_split(X, y, test_size = 0.2, random_state = 0)"
   ]
  },
  {
   "cell_type": "markdown",
   "metadata": {},
   "source": [
    "# Feature Scaling"
   ]
  },
  {
   "cell_type": "code",
   "execution_count": 7,
   "metadata": {},
   "outputs": [],
   "source": [
    "from sklearn.preprocessing import StandardScaler\n",
    "sc = StandardScaler()\n",
    "X_train = sc.fit_transform(X_train)\n",
    "X_test = sc.transform(X_test)"
   ]
  },
  {
   "cell_type": "code",
   "execution_count": 8,
   "metadata": {},
   "outputs": [
    {
     "data": {
      "text/plain": [
       "(8000, 12)"
      ]
     },
     "execution_count": 8,
     "metadata": {},
     "output_type": "execute_result"
    }
   ],
   "source": [
    "np.shape(X_train)"
   ]
  },
  {
   "cell_type": "markdown",
   "metadata": {},
   "source": [
    "---\n",
    "# Parte 2 -Vamos construir uma ANN!\n"
   ]
  },
  {
   "cell_type": "markdown",
   "metadata": {
    "colab_type": "text",
    "id": "KvdeScabXtlB"
   },
   "source": [
    "### Initializing the ANN"
   ]
  },
  {
   "cell_type": "code",
   "execution_count": 9,
   "metadata": {
    "colab": {},
    "colab_type": "code",
    "id": "3dtrScHxXQox"
   },
   "outputs": [],
   "source": [
    "ann = tf.keras.models.Sequential()"
   ]
  },
  {
   "cell_type": "markdown",
   "metadata": {
    "colab_type": "text",
    "id": "rP6urV6SX7kS"
   },
   "source": [
    "### Adding the input layer and the first hidden layer"
   ]
  },
  {
   "cell_type": "code",
   "execution_count": 10,
   "metadata": {
    "colab": {},
    "colab_type": "code",
    "id": "bppGycBXYCQr"
   },
   "outputs": [],
   "source": [
    "ann.add(tf.keras.layers.Dense(units=6, activation='elu'))"
   ]
  },
  {
   "cell_type": "markdown",
   "metadata": {
    "colab_type": "text",
    "id": "BELWAc_8YJze"
   },
   "source": [
    "### Adding the second hidden layer"
   ]
  },
  {
   "cell_type": "code",
   "execution_count": 11,
   "metadata": {
    "colab": {},
    "colab_type": "code",
    "id": "JneR0u0sYRTd"
   },
   "outputs": [],
   "source": [
    "ann.add(tf.keras.layers.Dense(units=3, activation='tanh'))"
   ]
  },
  {
   "cell_type": "markdown",
   "metadata": {},
   "source": [
    "### Adding the second hidden layer"
   ]
  },
  {
   "cell_type": "code",
   "execution_count": 12,
   "metadata": {},
   "outputs": [],
   "source": [
    "ann.add(tf.keras.layers.Dense(units=2, activation='selu'))"
   ]
  },
  {
   "cell_type": "markdown",
   "metadata": {
    "colab_type": "text",
    "id": "OyNEe6RXYcU4"
   },
   "source": [
    "### Adding the output layer"
   ]
  },
  {
   "cell_type": "code",
   "execution_count": 13,
   "metadata": {
    "colab": {},
    "colab_type": "code",
    "id": "Cn3x41RBYfvY"
   },
   "outputs": [],
   "source": [
    "ann.add(tf.keras.layers.Dense(units=1, activation='sigmoid'))"
   ]
  },
  {
   "cell_type": "markdown",
   "metadata": {
    "colab_type": "text",
    "id": "JT4u2S1_Y4WG"
   },
   "source": [
    "## Part 3 - Training the ANN"
   ]
  },
  {
   "cell_type": "markdown",
   "metadata": {
    "colab_type": "text",
    "id": "8GWlJChhY_ZI"
   },
   "source": [
    "### Compiling the ANN"
   ]
  },
  {
   "cell_type": "code",
   "execution_count": 14,
   "metadata": {
    "colab": {},
    "colab_type": "code",
    "id": "fG3RrwDXZEaS"
   },
   "outputs": [],
   "source": [
    "ann.compile(optimizer = 'adam', loss = 'binary_crossentropy', metrics = ['accuracy'])"
   ]
  },
  {
   "cell_type": "markdown",
   "metadata": {
    "colab_type": "text",
    "id": "0QR_G5u7ZLSM"
   },
   "source": [
    "### Training the ANN on the Training set"
   ]
  },
  {
   "cell_type": "code",
   "execution_count": 15,
   "metadata": {
    "colab": {
     "base_uri": "https://localhost:8080/",
     "height": 1000
    },
    "colab_type": "code",
    "id": "nHZ-LKv_ZRb3",
    "outputId": "718cc4b0-b5aa-40f0-9b20-d3d31730a531"
   },
   "outputs": [
    {
     "name": "stdout",
     "output_type": "stream",
     "text": [
      "Epoch 1/100\n",
      "250/250 [==============================] - 1s 1ms/step - loss: 0.6458 - accuracy: 0.6670\n",
      "Epoch 2/100\n",
      "250/250 [==============================] - 0s 1ms/step - loss: 0.4740 - accuracy: 0.7916\n",
      "Epoch 3/100\n",
      "250/250 [==============================] - 0s 1ms/step - loss: 0.4422 - accuracy: 0.8040\n",
      "Epoch 4/100\n",
      "250/250 [==============================] - 0s 1ms/step - loss: 0.4305 - accuracy: 0.8140\n",
      "Epoch 5/100\n",
      "250/250 [==============================] - 0s 1ms/step - loss: 0.4254 - accuracy: 0.8175\n",
      "Epoch 6/100\n",
      "250/250 [==============================] - 0s 1ms/step - loss: 0.4211 - accuracy: 0.8188\n",
      "Epoch 7/100\n",
      "250/250 [==============================] - 0s 952us/step - loss: 0.4168 - accuracy: 0.8219\n",
      "Epoch 8/100\n",
      "250/250 [==============================] - 0s 980us/step - loss: 0.4125 - accuracy: 0.8238\n",
      "Epoch 9/100\n",
      "250/250 [==============================] - 0s 952us/step - loss: 0.4079 - accuracy: 0.8256\n",
      "Epoch 10/100\n",
      "250/250 [==============================] - 0s 847us/step - loss: 0.4027 - accuracy: 0.8280\n",
      "Epoch 11/100\n",
      "250/250 [==============================] - 0s 847us/step - loss: 0.3978 - accuracy: 0.8320\n",
      "Epoch 12/100\n",
      "250/250 [==============================] - 0s 996us/step - loss: 0.3928 - accuracy: 0.8349\n",
      "Epoch 13/100\n",
      "250/250 [==============================] - 0s 1ms/step - loss: 0.3880 - accuracy: 0.8385\n",
      "Epoch 14/100\n",
      "250/250 [==============================] - 0s 996us/step - loss: 0.3837 - accuracy: 0.8414\n",
      "Epoch 15/100\n",
      "250/250 [==============================] - 0s 972us/step - loss: 0.3792 - accuracy: 0.8429\n",
      "Epoch 16/100\n",
      "250/250 [==============================] - 0s 1ms/step - loss: 0.3750 - accuracy: 0.8434\n",
      "Epoch 17/100\n",
      "250/250 [==============================] - 0s 964us/step - loss: 0.3718 - accuracy: 0.8451\n",
      "Epoch 18/100\n",
      "250/250 [==============================] - 0s 952us/step - loss: 0.3691 - accuracy: 0.8479\n",
      "Epoch 19/100\n",
      "250/250 [==============================] - 0s 972us/step - loss: 0.3658 - accuracy: 0.8495\n",
      "Epoch 20/100\n",
      "250/250 [==============================] - 0s 900us/step - loss: 0.3634 - accuracy: 0.8508\n",
      "Epoch 21/100\n",
      "250/250 [==============================] - 0s 851us/step - loss: 0.3602 - accuracy: 0.8509\n",
      "Epoch 22/100\n",
      "250/250 [==============================] - 0s 1ms/step - loss: 0.3585 - accuracy: 0.8525\n",
      "Epoch 23/100\n",
      "250/250 [==============================] - 0s 1ms/step - loss: 0.3564 - accuracy: 0.8530\n",
      "Epoch 24/100\n",
      "250/250 [==============================] - 0s 1ms/step - loss: 0.3550 - accuracy: 0.8534\n",
      "Epoch 25/100\n",
      "250/250 [==============================] - 0s 1ms/step - loss: 0.3530 - accuracy: 0.8540\n",
      "Epoch 26/100\n",
      "250/250 [==============================] - 0s 964us/step - loss: 0.3520 - accuracy: 0.8549\n",
      "Epoch 27/100\n",
      "250/250 [==============================] - 0s 928us/step - loss: 0.3504 - accuracy: 0.8569\n",
      "Epoch 28/100\n",
      "250/250 [==============================] - 0s 940us/step - loss: 0.3488 - accuracy: 0.8569\n",
      "Epoch 29/100\n",
      "250/250 [==============================] - 0s 944us/step - loss: 0.3489 - accuracy: 0.8575\n",
      "Epoch 30/100\n",
      "250/250 [==============================] - 0s 924us/step - loss: 0.3476 - accuracy: 0.8575\n",
      "Epoch 31/100\n",
      "250/250 [==============================] - 0s 855us/step - loss: 0.3466 - accuracy: 0.8569\n",
      "Epoch 32/100\n",
      "250/250 [==============================] - 0s 855us/step - loss: 0.3454 - accuracy: 0.8587\n",
      "Epoch 33/100\n",
      "250/250 [==============================] - 0s 1ms/step - loss: 0.3453 - accuracy: 0.8591\n",
      "Epoch 34/100\n",
      "250/250 [==============================] - 0s 956us/step - loss: 0.3453 - accuracy: 0.8566\n",
      "Epoch 35/100\n",
      "250/250 [==============================] - 0s 952us/step - loss: 0.3443 - accuracy: 0.8571\n",
      "Epoch 36/100\n",
      "250/250 [==============================] - 0s 896us/step - loss: 0.3443 - accuracy: 0.8585\n",
      "Epoch 37/100\n",
      "250/250 [==============================] - 0s 944us/step - loss: 0.3433 - accuracy: 0.8581\n",
      "Epoch 38/100\n",
      "250/250 [==============================] - 0s 992us/step - loss: 0.3427 - accuracy: 0.8591\n",
      "Epoch 39/100\n",
      "250/250 [==============================] - 0s 944us/step - loss: 0.3422 - accuracy: 0.8614\n",
      "Epoch 40/100\n",
      "250/250 [==============================] - 0s 1ms/step - loss: 0.3425 - accuracy: 0.8593\n",
      "Epoch 41/100\n",
      "250/250 [==============================] - 0s 980us/step - loss: 0.3429 - accuracy: 0.8580\n",
      "Epoch 42/100\n",
      "250/250 [==============================] - 0s 972us/step - loss: 0.3419 - accuracy: 0.8574\n",
      "Epoch 43/100\n",
      "250/250 [==============================] - 0s 976us/step - loss: 0.3411 - accuracy: 0.8604\n",
      "Epoch 44/100\n",
      "250/250 [==============================] - 0s 1ms/step - loss: 0.3418 - accuracy: 0.8600\n",
      "Epoch 45/100\n",
      "250/250 [==============================] - 0s 1ms/step - loss: 0.3405 - accuracy: 0.8595\n",
      "Epoch 46/100\n",
      "250/250 [==============================] - 0s 976us/step - loss: 0.3403 - accuracy: 0.8625\n",
      "Epoch 47/100\n",
      "250/250 [==============================] - 0s 1ms/step - loss: 0.3405 - accuracy: 0.8599\n",
      "Epoch 48/100\n",
      "250/250 [==============================] - 0s 1ms/step - loss: 0.3401 - accuracy: 0.8605\n",
      "Epoch 49/100\n",
      "250/250 [==============================] - 0s 964us/step - loss: 0.3403 - accuracy: 0.8611\n",
      "Epoch 50/100\n",
      "250/250 [==============================] - 0s 1ms/step - loss: 0.3399 - accuracy: 0.8620\n",
      "Epoch 51/100\n",
      "250/250 [==============================] - 0s 988us/step - loss: 0.3399 - accuracy: 0.8614\n",
      "Epoch 52/100\n",
      "250/250 [==============================] - 0s 944us/step - loss: 0.3395 - accuracy: 0.8610\n",
      "Epoch 53/100\n",
      "250/250 [==============================] - 0s 952us/step - loss: 0.3393 - accuracy: 0.8615\n",
      "Epoch 54/100\n",
      "250/250 [==============================] - 0s 956us/step - loss: 0.3394 - accuracy: 0.8621\n",
      "Epoch 55/100\n",
      "250/250 [==============================] - 0s 1ms/step - loss: 0.3390 - accuracy: 0.8612\n",
      "Epoch 56/100\n",
      "250/250 [==============================] - 0s 988us/step - loss: 0.3396 - accuracy: 0.8620\n",
      "Epoch 57/100\n",
      "250/250 [==============================] - 0s 972us/step - loss: 0.3386 - accuracy: 0.8629\n",
      "Epoch 58/100\n",
      "250/250 [==============================] - 0s 984us/step - loss: 0.3376 - accuracy: 0.8633\n",
      "Epoch 59/100\n",
      "250/250 [==============================] - 0s 972us/step - loss: 0.3390 - accuracy: 0.8609\n",
      "Epoch 60/100\n",
      "250/250 [==============================] - 0s 940us/step - loss: 0.3389 - accuracy: 0.8626\n",
      "Epoch 61/100\n",
      "250/250 [==============================] - 0s 956us/step - loss: 0.3386 - accuracy: 0.8622\n",
      "Epoch 62/100\n",
      "250/250 [==============================] - 0s 1ms/step - loss: 0.3381 - accuracy: 0.8629\n",
      "Epoch 63/100\n",
      "250/250 [==============================] - 0s 984us/step - loss: 0.3376 - accuracy: 0.8612\n",
      "Epoch 64/100\n",
      "250/250 [==============================] - 0s 960us/step - loss: 0.3381 - accuracy: 0.8631\n",
      "Epoch 65/100\n",
      "250/250 [==============================] - 0s 1ms/step - loss: 0.3383 - accuracy: 0.8616\n",
      "Epoch 66/100\n",
      "250/250 [==============================] - 0s 988us/step - loss: 0.3375 - accuracy: 0.8600\n",
      "Epoch 67/100\n",
      "250/250 [==============================] - 0s 968us/step - loss: 0.3385 - accuracy: 0.8635\n",
      "Epoch 68/100\n",
      "250/250 [==============================] - 0s 1ms/step - loss: 0.3378 - accuracy: 0.8606\n",
      "Epoch 69/100\n",
      "250/250 [==============================] - 0s 992us/step - loss: 0.3373 - accuracy: 0.8625\n",
      "Epoch 70/100\n",
      "250/250 [==============================] - 0s 952us/step - loss: 0.3378 - accuracy: 0.8618\n",
      "Epoch 71/100\n",
      "250/250 [==============================] - 0s 1ms/step - loss: 0.3375 - accuracy: 0.8615\n",
      "Epoch 72/100\n",
      "250/250 [==============================] - 0s 1ms/step - loss: 0.3377 - accuracy: 0.8619\n",
      "Epoch 73/100\n",
      "250/250 [==============================] - 0s 859us/step - loss: 0.3369 - accuracy: 0.8627\n",
      "Epoch 74/100\n",
      "250/250 [==============================] - 0s 859us/step - loss: 0.3367 - accuracy: 0.8646\n",
      "Epoch 75/100\n",
      "250/250 [==============================] - 0s 1ms/step - loss: 0.3368 - accuracy: 0.8615\n",
      "Epoch 76/100\n",
      "250/250 [==============================] - 0s 944us/step - loss: 0.3375 - accuracy: 0.8635\n",
      "Epoch 77/100\n",
      "250/250 [==============================] - 0s 968us/step - loss: 0.3364 - accuracy: 0.8641\n",
      "Epoch 78/100\n",
      "250/250 [==============================] - 0s 956us/step - loss: 0.3372 - accuracy: 0.8618\n",
      "Epoch 79/100\n",
      "250/250 [==============================] - 0s 980us/step - loss: 0.3369 - accuracy: 0.8646\n",
      "Epoch 80/100\n",
      "250/250 [==============================] - 0s 964us/step - loss: 0.3374 - accuracy: 0.8641\n",
      "Epoch 81/100\n",
      "250/250 [==============================] - 0s 855us/step - loss: 0.3370 - accuracy: 0.8625\n",
      "Epoch 82/100\n",
      "250/250 [==============================] - 0s 843us/step - loss: 0.3372 - accuracy: 0.8621\n",
      "Epoch 83/100\n",
      "250/250 [==============================] - 0s 900us/step - loss: 0.3373 - accuracy: 0.8637\n",
      "Epoch 84/100\n",
      "250/250 [==============================] - 0s 1ms/step - loss: 0.3378 - accuracy: 0.8615\n",
      "Epoch 85/100\n",
      "250/250 [==============================] - 0s 1ms/step - loss: 0.3373 - accuracy: 0.8631\n",
      "Epoch 86/100\n",
      "250/250 [==============================] - 0s 988us/step - loss: 0.3369 - accuracy: 0.8637\n",
      "Epoch 87/100\n",
      "250/250 [==============================] - 0s 972us/step - loss: 0.3369 - accuracy: 0.8618\n",
      "Epoch 88/100\n",
      "250/250 [==============================] - 0s 1ms/step - loss: 0.3365 - accuracy: 0.8625\n",
      "Epoch 89/100\n",
      "250/250 [==============================] - 0s 1ms/step - loss: 0.3376 - accuracy: 0.8637\n",
      "Epoch 90/100\n",
      "250/250 [==============================] - 0s 984us/step - loss: 0.3370 - accuracy: 0.8619\n",
      "Epoch 91/100\n",
      "250/250 [==============================] - 0s 972us/step - loss: 0.3366 - accuracy: 0.8596\n",
      "Epoch 92/100\n",
      "250/250 [==============================] - 0s 960us/step - loss: 0.3372 - accuracy: 0.8621\n",
      "Epoch 93/100\n",
      "250/250 [==============================] - 0s 960us/step - loss: 0.3366 - accuracy: 0.8635\n",
      "Epoch 94/100\n",
      "250/250 [==============================] - 0s 964us/step - loss: 0.3367 - accuracy: 0.8631\n",
      "Epoch 95/100\n",
      "250/250 [==============================] - 0s 960us/step - loss: 0.3360 - accuracy: 0.8648\n",
      "Epoch 96/100\n",
      "250/250 [==============================] - 0s 976us/step - loss: 0.3371 - accuracy: 0.8621\n",
      "Epoch 97/100\n",
      "250/250 [==============================] - 0s 968us/step - loss: 0.3364 - accuracy: 0.8619\n",
      "Epoch 98/100\n",
      "250/250 [==============================] - 0s 964us/step - loss: 0.3367 - accuracy: 0.8615\n",
      "Epoch 99/100\n",
      "250/250 [==============================] - 0s 1ms/step - loss: 0.3365 - accuracy: 0.8618\n",
      "Epoch 100/100\n",
      "250/250 [==============================] - 0s 1ms/step - loss: 0.3363 - accuracy: 0.8633\n"
     ]
    },
    {
     "data": {
      "text/plain": [
       "<keras.callbacks.History at 0x24a7a23ef70>"
      ]
     },
     "execution_count": 15,
     "metadata": {},
     "output_type": "execute_result"
    }
   ],
   "source": [
    "ann.fit(X_train, y_train, batch_size = 32, epochs = 100)"
   ]
  },
  {
   "cell_type": "markdown",
   "metadata": {},
   "source": [
    "# Parte 3 - Fazendo predições e avaliando o modelo\n",
    "\n",
    "## Prevendo os resultados com o conjunto de testes"
   ]
  },
  {
   "cell_type": "code",
   "execution_count": 16,
   "metadata": {},
   "outputs": [
    {
     "data": {
      "text/plain": [
       "array([[0.18241286],\n",
       "       [0.31976306],\n",
       "       [0.13594317],\n",
       "       ...,\n",
       "       [0.09315467],\n",
       "       [0.10722584],\n",
       "       [0.16854975]], dtype=float32)"
      ]
     },
     "execution_count": 16,
     "metadata": {},
     "output_type": "execute_result"
    }
   ],
   "source": [
    "y_pred = ann.predict(X_test)\n",
    "y_pred"
   ]
  },
  {
   "cell_type": "code",
   "execution_count": 17,
   "metadata": {},
   "outputs": [
    {
     "data": {
      "text/plain": [
       "array([[False],\n",
       "       [False],\n",
       "       [False],\n",
       "       ...,\n",
       "       [False],\n",
       "       [False],\n",
       "       [False]])"
      ]
     },
     "execution_count": 17,
     "metadata": {},
     "output_type": "execute_result"
    }
   ],
   "source": [
    "y_pred = (y_pred > 0.5)\n",
    "y_pred"
   ]
  },
  {
   "cell_type": "markdown",
   "metadata": {},
   "source": [
    "# Criando uma Confusion Matrix"
   ]
  },
  {
   "cell_type": "code",
   "execution_count": 18,
   "metadata": {},
   "outputs": [
    {
     "name": "stdout",
     "output_type": "stream",
     "text": [
      "[[1538   57]\n",
      " [ 211  194]]\n"
     ]
    }
   ],
   "source": [
    "from sklearn.metrics import confusion_matrix\n",
    "cm = confusion_matrix(y_test, y_pred)\n",
    "print(cm)"
   ]
  },
  {
   "cell_type": "markdown",
   "metadata": {},
   "source": [
    "---\n",
    "# Avaliando o Modelo"
   ]
  },
  {
   "cell_type": "code",
   "execution_count": 19,
   "metadata": {},
   "outputs": [],
   "source": [
    "# Evaluating the ANN\n",
    "from tensorflow.keras.wrappers.scikit_learn import KerasClassifier\n",
    "from sklearn.model_selection import cross_val_score\n",
    "from tensorflow.keras.models import Sequential\n",
    "from tensorflow.keras.layers import Dense"
   ]
  },
  {
   "cell_type": "code",
   "execution_count": 20,
   "metadata": {},
   "outputs": [],
   "source": [
    "def build_classifier():\n",
    "    classifier = Sequential()\n",
    "    classifier.add(Dense(units = 6, kernel_initializer = 'uniform', activation = 'elu', input_dim = 12))\n",
    "    classifier.add(Dense(units = 3, kernel_initializer = 'uniform', activation = 'tanh'))\n",
    "    classifier.add(Dense(units = 2, kernel_initializer = 'uniform', activation = 'selu'))\n",
    "    classifier.add(Dense(units = 1, kernel_initializer = 'uniform', activation = 'sigmoid'))\n",
    "    classifier.compile(optimizer = 'adam', loss = 'binary_crossentropy', metrics = ['accuracy'])\n",
    "    return classifier"
   ]
  },
  {
   "cell_type": "code",
   "execution_count": 21,
   "metadata": {},
   "outputs": [
    {
     "name": "stderr",
     "output_type": "stream",
     "text": [
      "C:\\Users\\samue\\AppData\\Local\\Temp/ipykernel_9276/1297209367.py:1: DeprecationWarning: KerasClassifier is deprecated, use Sci-Keras (https://github.com/adriangb/scikeras) instead. See https://www.adriangb.com/scikeras/stable/migration.html for help migrating.\n",
      "  classifier = KerasClassifier(build_fn = build_classifier, batch_size = 10, epochs = 10)\n"
     ]
    }
   ],
   "source": [
    "classifier = KerasClassifier(build_fn = build_classifier, batch_size = 10, epochs = 10)\n",
    "accuracies = cross_val_score(estimator = classifier, X = X_train, y = y_train, cv = 10, n_jobs = -1)\n",
    "mean = accuracies.mean()\n",
    "variance = accuracies.std()"
   ]
  },
  {
   "cell_type": "code",
   "execution_count": 22,
   "metadata": {},
   "outputs": [
    {
     "name": "stdout",
     "output_type": "stream",
     "text": [
      "0.8481249928474426 0.010174264337171264\n"
     ]
    }
   ],
   "source": [
    "print(mean,variance)"
   ]
  },
  {
   "cell_type": "markdown",
   "metadata": {},
   "source": [
    "# Melhorando o modelo"
   ]
  },
  {
   "cell_type": "code",
   "execution_count": 23,
   "metadata": {},
   "outputs": [],
   "source": [
    "# Improving the ANN\n",
    "# Dropout Regularization to reduce overfitting if needed\n",
    "from tensorflow.keras.layers import Dropout\n",
    "\n",
    "def build_classifier():\n",
    "    classifier = Sequential()\n",
    "    classifier.add(Dense(units = 6, kernel_initializer = 'uniform', activation = 'elu', input_dim = 12))\n",
    "    classifier.add(Dropout(rate = 0.1))\n",
    "    classifier.add(Dense(units = 3, kernel_initializer = 'uniform', activation = 'tanh'))\n",
    "    classifier.add(Dropout(rate = 0.1))\n",
    "    classifier.add(Dense(units = 2, kernel_initializer = 'uniform', activation = 'selu'))\n",
    "    classifier.add(Dropout(rate = 0.1))\n",
    "    classifier.add(Dense(units = 1, kernel_initializer = 'uniform', activation = 'sigmoid'))\n",
    "    classifier.compile(optimizer = 'adam', loss = 'binary_crossentropy', metrics = ['accuracy'])\n",
    "    return classifier"
   ]
  },
  {
   "cell_type": "code",
   "execution_count": 24,
   "metadata": {},
   "outputs": [
    {
     "name": "stderr",
     "output_type": "stream",
     "text": [
      "C:\\Users\\samue\\AppData\\Local\\Temp/ipykernel_9276/1297209367.py:1: DeprecationWarning: KerasClassifier is deprecated, use Sci-Keras (https://github.com/adriangb/scikeras) instead. See https://www.adriangb.com/scikeras/stable/migration.html for help migrating.\n",
      "  classifier = KerasClassifier(build_fn = build_classifier, batch_size = 10, epochs = 10)\n"
     ]
    }
   ],
   "source": [
    "classifier = KerasClassifier(build_fn = build_classifier, batch_size = 10, epochs = 10)\n",
    "accuracies = cross_val_score(estimator = classifier, X = X_train, y = y_train, cv = 10, n_jobs = -1)\n",
    "mean = accuracies.mean()\n",
    "variance = accuracies.std()"
   ]
  },
  {
   "cell_type": "code",
   "execution_count": 25,
   "metadata": {},
   "outputs": [
    {
     "name": "stdout",
     "output_type": "stream",
     "text": [
      "0.8336250066757203 0.013924458517691158\n"
     ]
    }
   ],
   "source": [
    "print(mean,variance)"
   ]
  },
  {
   "cell_type": "markdown",
   "metadata": {},
   "source": [
    "# Halving Grid Search"
   ]
  },
  {
   "cell_type": "code",
   "execution_count": 26,
   "metadata": {},
   "outputs": [
    {
     "name": "stderr",
     "output_type": "stream",
     "text": [
      "C:\\Users\\samue\\AppData\\Local\\Temp/ipykernel_9276/404084583.py:19: DeprecationWarning: KerasClassifier is deprecated, use Sci-Keras (https://github.com/adriangb/scikeras) instead. See https://www.adriangb.com/scikeras/stable/migration.html for help migrating.\n",
      "  classifier = KerasClassifier(build_fn = build_classifier)\n"
     ]
    }
   ],
   "source": [
    "from tensorflow.keras.wrappers.scikit_learn import KerasClassifier\n",
    "from tensorflow.keras.models import Sequential\n",
    "from tensorflow.keras.layers import Dense\n",
    "from sklearn.experimental import enable_halving_search_cv\n",
    "from sklearn.model_selection import HalvingGridSearchCV\n",
    "\n",
    "def build_classifier(optimizer):\n",
    "    classifier = Sequential()\n",
    "    classifier.add(Dense(units = 6, kernel_initializer = 'uniform', activation = 'elu', input_dim = 12))\n",
    "    classifier.add(Dropout(rate = 0.1))\n",
    "    classifier.add(Dense(units = 3, kernel_initializer = 'uniform', activation = 'tanh'))\n",
    "    classifier.add(Dropout(rate = 0.1))\n",
    "    classifier.add(Dense(units = 2, kernel_initializer = 'uniform', activation = 'selu'))\n",
    "    classifier.add(Dropout(rate = 0.1))\n",
    "    classifier.add(Dense(units = 1, kernel_initializer = 'uniform', activation = 'sigmoid'))\n",
    "    classifier.compile(optimizer = optimizer, loss = 'binary_crossentropy', metrics = ['accuracy'])\n",
    "    return classifier\n",
    "\n",
    "classifier = KerasClassifier(build_fn = build_classifier)\n",
    "\n",
    "parameters = {\n",
    "    'batch_size': [10, 25, 32],\n",
    "    'epochs': [50, 100],\n",
    "    'optimizer': ['adam', 'rmsprop', 'nadam']\n",
    "}\n",
    "\n",
    "halving_cv = HalvingGridSearchCV(estimator = classifier,\n",
    "                                  param_grid = parameters,\n",
    "                                  scoring=\"accuracy\", \n",
    "                                  n_jobs=-1, \n",
    "                                  min_resources=\"exhaust\", \n",
    "                                  factor=3,\n",
    "                                  cv = 10)"
   ]
  },
  {
   "cell_type": "code",
   "execution_count": 27,
   "metadata": {},
   "outputs": [
    {
     "name": "stdout",
     "output_type": "stream",
     "text": [
      "Epoch 1/100\n",
      "800/800 [==============================] - 1s 820us/step - loss: 0.5151 - accuracy: 0.7987\n",
      "Epoch 2/100\n",
      "800/800 [==============================] - 1s 829us/step - loss: 0.4447 - accuracy: 0.8073\n",
      "Epoch 3/100\n",
      "800/800 [==============================] - 1s 821us/step - loss: 0.4381 - accuracy: 0.8104\n",
      "Epoch 4/100\n",
      "800/800 [==============================] - 1s 830us/step - loss: 0.4393 - accuracy: 0.8077\n",
      "Epoch 5/100\n",
      "800/800 [==============================] - 1s 836us/step - loss: 0.4391 - accuracy: 0.8085\n",
      "Epoch 6/100\n",
      "800/800 [==============================] - 1s 820us/step - loss: 0.4318 - accuracy: 0.8133\n",
      "Epoch 7/100\n",
      "800/800 [==============================] - 1s 812us/step - loss: 0.4322 - accuracy: 0.8148\n",
      "Epoch 8/100\n",
      "800/800 [==============================] - 1s 835us/step - loss: 0.4270 - accuracy: 0.8164\n",
      "Epoch 9/100\n",
      "800/800 [==============================] - 1s 809us/step - loss: 0.4193 - accuracy: 0.8185\n",
      "Epoch 10/100\n",
      "800/800 [==============================] - 1s 809us/step - loss: 0.4183 - accuracy: 0.8255\n",
      "Epoch 11/100\n",
      "800/800 [==============================] - 1s 817us/step - loss: 0.4106 - accuracy: 0.8269\n",
      "Epoch 12/100\n",
      "800/800 [==============================] - 1s 816us/step - loss: 0.4072 - accuracy: 0.8299\n",
      "Epoch 13/100\n",
      "800/800 [==============================] - 1s 827us/step - loss: 0.4028 - accuracy: 0.8331\n",
      "Epoch 14/100\n",
      "800/800 [==============================] - 1s 822us/step - loss: 0.4035 - accuracy: 0.8296\n",
      "Epoch 15/100\n",
      "800/800 [==============================] - 1s 814us/step - loss: 0.3961 - accuracy: 0.8360\n",
      "Epoch 16/100\n",
      "800/800 [==============================] - 1s 814us/step - loss: 0.4010 - accuracy: 0.8339\n",
      "Epoch 17/100\n",
      "800/800 [==============================] - 1s 815us/step - loss: 0.3967 - accuracy: 0.8360\n",
      "Epoch 18/100\n",
      "800/800 [==============================] - 1s 830us/step - loss: 0.3927 - accuracy: 0.8338\n",
      "Epoch 19/100\n",
      "800/800 [==============================] - 1s 820us/step - loss: 0.3989 - accuracy: 0.8363\n",
      "Epoch 20/100\n",
      "800/800 [==============================] - 1s 824us/step - loss: 0.3898 - accuracy: 0.8420\n",
      "Epoch 21/100\n",
      "800/800 [==============================] - 1s 846us/step - loss: 0.3906 - accuracy: 0.8379\n",
      "Epoch 22/100\n",
      "800/800 [==============================] - 1s 860us/step - loss: 0.3920 - accuracy: 0.8359\n",
      "Epoch 23/100\n",
      "800/800 [==============================] - 1s 849us/step - loss: 0.3933 - accuracy: 0.8371\n",
      "Epoch 24/100\n",
      "800/800 [==============================] - 1s 836us/step - loss: 0.3923 - accuracy: 0.8363\n",
      "Epoch 25/100\n",
      "800/800 [==============================] - 1s 827us/step - loss: 0.3899 - accuracy: 0.8393\n",
      "Epoch 26/100\n",
      "800/800 [==============================] - 1s 861us/step - loss: 0.3947 - accuracy: 0.8371\n",
      "Epoch 27/100\n",
      "800/800 [==============================] - 1s 862us/step - loss: 0.3918 - accuracy: 0.8365\n",
      "Epoch 28/100\n",
      "800/800 [==============================] - 1s 849us/step - loss: 0.3913 - accuracy: 0.8365\n",
      "Epoch 29/100\n",
      "800/800 [==============================] - 1s 826us/step - loss: 0.3971 - accuracy: 0.8319\n",
      "Epoch 30/100\n",
      "800/800 [==============================] - 1s 816us/step - loss: 0.3921 - accuracy: 0.8380\n",
      "Epoch 31/100\n",
      "800/800 [==============================] - 1s 825us/step - loss: 0.3852 - accuracy: 0.8457\n",
      "Epoch 32/100\n",
      "800/800 [==============================] - 1s 821us/step - loss: 0.3937 - accuracy: 0.8344\n",
      "Epoch 33/100\n",
      "800/800 [==============================] - 1s 809us/step - loss: 0.3932 - accuracy: 0.8351\n",
      "Epoch 34/100\n",
      "800/800 [==============================] - 1s 826us/step - loss: 0.3903 - accuracy: 0.8378\n",
      "Epoch 35/100\n",
      "800/800 [==============================] - 1s 815us/step - loss: 0.3950 - accuracy: 0.8378\n",
      "Epoch 36/100\n",
      "800/800 [==============================] - 1s 827us/step - loss: 0.3936 - accuracy: 0.8330\n",
      "Epoch 37/100\n",
      "800/800 [==============================] - 1s 819us/step - loss: 0.3903 - accuracy: 0.8381\n",
      "Epoch 38/100\n",
      "800/800 [==============================] - 1s 835us/step - loss: 0.3934 - accuracy: 0.8366\n",
      "Epoch 39/100\n",
      "800/800 [==============================] - 1s 820us/step - loss: 0.3906 - accuracy: 0.8364\n",
      "Epoch 40/100\n",
      "800/800 [==============================] - 1s 866us/step - loss: 0.3888 - accuracy: 0.8390\n",
      "Epoch 41/100\n",
      "800/800 [==============================] - 1s 841us/step - loss: 0.3902 - accuracy: 0.8404\n",
      "Epoch 42/100\n",
      "800/800 [==============================] - 1s 841us/step - loss: 0.3909 - accuracy: 0.8388\n",
      "Epoch 43/100\n",
      "800/800 [==============================] - 1s 817us/step - loss: 0.3881 - accuracy: 0.8371\n",
      "Epoch 44/100\n",
      "800/800 [==============================] - 1s 820us/step - loss: 0.3892 - accuracy: 0.8363\n",
      "Epoch 45/100\n",
      "800/800 [==============================] - 1s 831us/step - loss: 0.3883 - accuracy: 0.8409\n",
      "Epoch 46/100\n",
      "800/800 [==============================] - 1s 819us/step - loss: 0.3921 - accuracy: 0.8397\n",
      "Epoch 47/100\n",
      "800/800 [==============================] - 1s 840us/step - loss: 0.3905 - accuracy: 0.8359\n",
      "Epoch 48/100\n",
      "800/800 [==============================] - 1s 837us/step - loss: 0.3901 - accuracy: 0.8378\n",
      "Epoch 49/100\n",
      "800/800 [==============================] - 1s 860us/step - loss: 0.3900 - accuracy: 0.8341\n",
      "Epoch 50/100\n",
      "800/800 [==============================] - 1s 862us/step - loss: 0.3887 - accuracy: 0.8413\n",
      "Epoch 51/100\n",
      "800/800 [==============================] - 1s 849us/step - loss: 0.3862 - accuracy: 0.8359\n",
      "Epoch 52/100\n",
      "800/800 [==============================] - 1s 827us/step - loss: 0.3874 - accuracy: 0.8364\n",
      "Epoch 53/100\n",
      "800/800 [==============================] - 1s 851us/step - loss: 0.3905 - accuracy: 0.8372\n",
      "Epoch 54/100\n",
      "800/800 [==============================] - 1s 851us/step - loss: 0.3854 - accuracy: 0.8400\n",
      "Epoch 55/100\n",
      "800/800 [==============================] - 1s 812us/step - loss: 0.3850 - accuracy: 0.8382\n",
      "Epoch 56/100\n",
      "800/800 [==============================] - 1s 825us/step - loss: 0.3865 - accuracy: 0.8396\n",
      "Epoch 57/100\n",
      "800/800 [==============================] - 1s 819us/step - loss: 0.3879 - accuracy: 0.8381\n",
      "Epoch 58/100\n",
      "800/800 [==============================] - 1s 811us/step - loss: 0.3846 - accuracy: 0.8400\n",
      "Epoch 59/100\n",
      "800/800 [==============================] - 1s 834us/step - loss: 0.3844 - accuracy: 0.8394\n",
      "Epoch 60/100\n",
      "800/800 [==============================] - 1s 811us/step - loss: 0.3853 - accuracy: 0.8367\n",
      "Epoch 61/100\n",
      "800/800 [==============================] - 1s 810us/step - loss: 0.3867 - accuracy: 0.8414\n",
      "Epoch 62/100\n",
      "800/800 [==============================] - 1s 824us/step - loss: 0.3856 - accuracy: 0.8411\n",
      "Epoch 63/100\n",
      "800/800 [==============================] - 1s 851us/step - loss: 0.3850 - accuracy: 0.8393\n",
      "Epoch 64/100\n",
      "800/800 [==============================] - 1s 827us/step - loss: 0.3834 - accuracy: 0.8409\n",
      "Epoch 65/100\n",
      "800/800 [==============================] - 1s 830us/step - loss: 0.3825 - accuracy: 0.8414\n",
      "Epoch 66/100\n",
      "800/800 [==============================] - 1s 839us/step - loss: 0.3836 - accuracy: 0.8465\n",
      "Epoch 67/100\n",
      "800/800 [==============================] - 1s 914us/step - loss: 0.3842 - accuracy: 0.8425\n",
      "Epoch 68/100\n",
      "800/800 [==============================] - 1s 876us/step - loss: 0.3827 - accuracy: 0.8445\n",
      "Epoch 69/100\n",
      "800/800 [==============================] - 1s 857us/step - loss: 0.3825 - accuracy: 0.8451\n",
      "Epoch 70/100\n",
      "800/800 [==============================] - 1s 817us/step - loss: 0.3798 - accuracy: 0.8429\n",
      "Epoch 71/100\n",
      "800/800 [==============================] - 1s 821us/step - loss: 0.3830 - accuracy: 0.8404\n",
      "Epoch 72/100\n",
      "800/800 [==============================] - 1s 832us/step - loss: 0.3820 - accuracy: 0.8426\n",
      "Epoch 73/100\n",
      "800/800 [==============================] - 1s 809us/step - loss: 0.3792 - accuracy: 0.8469\n",
      "Epoch 74/100\n",
      "800/800 [==============================] - 1s 824us/step - loss: 0.3801 - accuracy: 0.8422\n",
      "Epoch 75/100\n",
      "800/800 [==============================] - 1s 821us/step - loss: 0.3782 - accuracy: 0.8461\n",
      "Epoch 76/100\n",
      "800/800 [==============================] - 1s 812us/step - loss: 0.3816 - accuracy: 0.8431\n",
      "Epoch 77/100\n",
      "800/800 [==============================] - 1s 832us/step - loss: 0.3835 - accuracy: 0.8404\n",
      "Epoch 78/100\n",
      "800/800 [==============================] - 1s 810us/step - loss: 0.3829 - accuracy: 0.8430\n",
      "Epoch 79/100\n",
      "800/800 [==============================] - 1s 820us/step - loss: 0.3823 - accuracy: 0.8425\n",
      "Epoch 80/100\n",
      "800/800 [==============================] - 1s 829us/step - loss: 0.3780 - accuracy: 0.8470\n",
      "Epoch 81/100\n",
      "800/800 [==============================] - 1s 817us/step - loss: 0.3746 - accuracy: 0.8472\n",
      "Epoch 82/100\n",
      "800/800 [==============================] - 1s 834us/step - loss: 0.3741 - accuracy: 0.8464\n",
      "Epoch 83/100\n",
      "800/800 [==============================] - 1s 825us/step - loss: 0.3757 - accuracy: 0.8484\n",
      "Epoch 84/100\n",
      "800/800 [==============================] - 1s 824us/step - loss: 0.3738 - accuracy: 0.8474\n",
      "Epoch 85/100\n",
      "800/800 [==============================] - 1s 816us/step - loss: 0.3772 - accuracy: 0.8435\n",
      "Epoch 86/100\n",
      "800/800 [==============================] - 1s 837us/step - loss: 0.3751 - accuracy: 0.8466\n",
      "Epoch 87/100\n",
      "800/800 [==============================] - 1s 827us/step - loss: 0.3818 - accuracy: 0.8440\n",
      "Epoch 88/100\n",
      "800/800 [==============================] - 1s 810us/step - loss: 0.3790 - accuracy: 0.8454\n",
      "Epoch 89/100\n",
      "800/800 [==============================] - 1s 831us/step - loss: 0.3790 - accuracy: 0.8464\n",
      "Epoch 90/100\n",
      "800/800 [==============================] - 1s 821us/step - loss: 0.3748 - accuracy: 0.8481\n",
      "Epoch 91/100\n",
      "800/800 [==============================] - 1s 830us/step - loss: 0.3768 - accuracy: 0.8449\n",
      "Epoch 92/100\n",
      "800/800 [==============================] - 1s 821us/step - loss: 0.3777 - accuracy: 0.8466\n",
      "Epoch 93/100\n",
      "800/800 [==============================] - 1s 812us/step - loss: 0.3787 - accuracy: 0.8443\n",
      "Epoch 94/100\n",
      "800/800 [==============================] - 1s 816us/step - loss: 0.3744 - accuracy: 0.8455\n",
      "Epoch 95/100\n",
      "800/800 [==============================] - 1s 837us/step - loss: 0.3769 - accuracy: 0.8434\n",
      "Epoch 96/100\n",
      "800/800 [==============================] - 1s 834us/step - loss: 0.3759 - accuracy: 0.8470\n",
      "Epoch 97/100\n",
      "800/800 [==============================] - 1s 812us/step - loss: 0.3734 - accuracy: 0.8434\n",
      "Epoch 98/100\n",
      "800/800 [==============================] - 1s 819us/step - loss: 0.3737 - accuracy: 0.8465\n",
      "Epoch 99/100\n",
      "800/800 [==============================] - 1s 830us/step - loss: 0.3762 - accuracy: 0.8447\n",
      "Epoch 100/100\n",
      "800/800 [==============================] - 1s 827us/step - loss: 0.3734 - accuracy: 0.8486\n",
      "Wall time: 24min 53s\n"
     ]
    }
   ],
   "source": [
    "%%time\n",
    "halving_cv = halving_cv.fit(X_train, y_train)"
   ]
  },
  {
   "cell_type": "code",
   "execution_count": 28,
   "metadata": {},
   "outputs": [
    {
     "name": "stdout",
     "output_type": "stream",
     "text": [
      "Best params:\n",
      " {'batch_size': 10, 'epochs': 100, 'optimizer': 'rmsprop'} \n",
      "Best accuracy:\n",
      " 0.8576971214017522\n"
     ]
    }
   ],
   "source": [
    "print('Best params:\\n',halving_cv.best_params_,'\\nBest accuracy:\\n',halving_cv.best_score_)"
   ]
  },
  {
   "cell_type": "markdown",
   "metadata": {},
   "source": [
    "# FIM"
   ]
  },
  {
   "cell_type": "markdown",
   "metadata": {},
   "source": [
    "> Professor Diego Dorgam  \n",
    "> [@diegodorgam](https://twitter.com/diegodorgam)"
   ]
  }
 ],
 "metadata": {
  "kernelspec": {
   "display_name": "Python 3 (ipykernel)",
   "language": "python",
   "name": "python3"
  },
  "language_info": {
   "codemirror_mode": {
    "name": "ipython",
    "version": 3
   },
   "file_extension": ".py",
   "mimetype": "text/x-python",
   "name": "python",
   "nbconvert_exporter": "python",
   "pygments_lexer": "ipython3",
   "version": "3.9.6"
  }
 },
 "nbformat": 4,
 "nbformat_minor": 4
}
