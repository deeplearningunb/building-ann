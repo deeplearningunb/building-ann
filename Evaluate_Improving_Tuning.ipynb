{
 "cells": [
  {
   "cell_type": "markdown",
   "metadata": {},
   "source": [
    "# REDES NEURAIS ARTIFICIAIS\n",
    "## Evaluate Improve e Tunning"
   ]
  },
  {
   "cell_type": "markdown",
   "metadata": {},
   "source": [
    "# Parte 1 - Pré-processamento dos Dados"
   ]
  },
  {
   "cell_type": "markdown",
   "metadata": {},
   "source": [
    "### Importar as libs"
   ]
  },
  {
   "cell_type": "code",
   "execution_count": 1,
   "metadata": {
    "colab": {},
    "colab_type": "code",
    "id": "MxkJoQBkUIHC"
   },
   "outputs": [],
   "source": [
    "import numpy as np\n",
    "import pandas as pd\n",
    "import tensorflow as tf"
   ]
  },
  {
   "cell_type": "code",
   "execution_count": 2,
   "metadata": {
    "colab": {
     "base_uri": "https://localhost:8080/",
     "height": 34
    },
    "colab_type": "code",
    "id": "ZaTwK7ojXr2F",
    "outputId": "0b27a96d-d11a-43e8-ab4b-87c1f01896fe"
   },
   "outputs": [
    {
     "data": {
      "text/plain": [
       "'2.8.0'"
      ]
     },
     "execution_count": 2,
     "metadata": {},
     "output_type": "execute_result"
    }
   ],
   "source": [
    "tf.__version__"
   ]
  },
  {
   "cell_type": "markdown",
   "metadata": {},
   "source": [
    "### Importar o dataset"
   ]
  },
  {
   "cell_type": "code",
   "execution_count": 3,
   "metadata": {},
   "outputs": [
    {
     "data": {
      "text/html": [
       "<div>\n",
       "<style scoped>\n",
       "    .dataframe tbody tr th:only-of-type {\n",
       "        vertical-align: middle;\n",
       "    }\n",
       "\n",
       "    .dataframe tbody tr th {\n",
       "        vertical-align: top;\n",
       "    }\n",
       "\n",
       "    .dataframe thead th {\n",
       "        text-align: right;\n",
       "    }\n",
       "</style>\n",
       "<table border=\"1\" class=\"dataframe\">\n",
       "  <thead>\n",
       "    <tr style=\"text-align: right;\">\n",
       "      <th></th>\n",
       "      <th>RowNumber</th>\n",
       "      <th>CustomerId</th>\n",
       "      <th>Surname</th>\n",
       "      <th>CreditScore</th>\n",
       "      <th>Geography</th>\n",
       "      <th>Gender</th>\n",
       "      <th>Age</th>\n",
       "      <th>Tenure</th>\n",
       "      <th>Balance</th>\n",
       "      <th>NumOfProducts</th>\n",
       "      <th>HasCrCard</th>\n",
       "      <th>IsActiveMember</th>\n",
       "      <th>EstimatedSalary</th>\n",
       "      <th>Exited</th>\n",
       "    </tr>\n",
       "  </thead>\n",
       "  <tbody>\n",
       "    <tr>\n",
       "      <th>0</th>\n",
       "      <td>1</td>\n",
       "      <td>15634602</td>\n",
       "      <td>Hargrave</td>\n",
       "      <td>619</td>\n",
       "      <td>France</td>\n",
       "      <td>Female</td>\n",
       "      <td>42</td>\n",
       "      <td>2</td>\n",
       "      <td>0.00</td>\n",
       "      <td>1</td>\n",
       "      <td>1</td>\n",
       "      <td>1</td>\n",
       "      <td>101348.88</td>\n",
       "      <td>1</td>\n",
       "    </tr>\n",
       "    <tr>\n",
       "      <th>1</th>\n",
       "      <td>2</td>\n",
       "      <td>15647311</td>\n",
       "      <td>Hill</td>\n",
       "      <td>608</td>\n",
       "      <td>Spain</td>\n",
       "      <td>Female</td>\n",
       "      <td>41</td>\n",
       "      <td>1</td>\n",
       "      <td>83807.86</td>\n",
       "      <td>1</td>\n",
       "      <td>0</td>\n",
       "      <td>1</td>\n",
       "      <td>112542.58</td>\n",
       "      <td>0</td>\n",
       "    </tr>\n",
       "    <tr>\n",
       "      <th>2</th>\n",
       "      <td>3</td>\n",
       "      <td>15619304</td>\n",
       "      <td>Onio</td>\n",
       "      <td>502</td>\n",
       "      <td>France</td>\n",
       "      <td>Female</td>\n",
       "      <td>42</td>\n",
       "      <td>8</td>\n",
       "      <td>159660.80</td>\n",
       "      <td>3</td>\n",
       "      <td>1</td>\n",
       "      <td>0</td>\n",
       "      <td>113931.57</td>\n",
       "      <td>1</td>\n",
       "    </tr>\n",
       "    <tr>\n",
       "      <th>3</th>\n",
       "      <td>4</td>\n",
       "      <td>15701354</td>\n",
       "      <td>Boni</td>\n",
       "      <td>699</td>\n",
       "      <td>France</td>\n",
       "      <td>Female</td>\n",
       "      <td>39</td>\n",
       "      <td>1</td>\n",
       "      <td>0.00</td>\n",
       "      <td>2</td>\n",
       "      <td>0</td>\n",
       "      <td>0</td>\n",
       "      <td>93826.63</td>\n",
       "      <td>0</td>\n",
       "    </tr>\n",
       "    <tr>\n",
       "      <th>4</th>\n",
       "      <td>5</td>\n",
       "      <td>15737888</td>\n",
       "      <td>Mitchell</td>\n",
       "      <td>850</td>\n",
       "      <td>Spain</td>\n",
       "      <td>Female</td>\n",
       "      <td>43</td>\n",
       "      <td>2</td>\n",
       "      <td>125510.82</td>\n",
       "      <td>1</td>\n",
       "      <td>1</td>\n",
       "      <td>1</td>\n",
       "      <td>79084.10</td>\n",
       "      <td>0</td>\n",
       "    </tr>\n",
       "  </tbody>\n",
       "</table>\n",
       "</div>"
      ],
      "text/plain": [
       "   RowNumber  CustomerId   Surname  CreditScore Geography  Gender  Age  \\\n",
       "0          1    15634602  Hargrave          619    France  Female   42   \n",
       "1          2    15647311      Hill          608     Spain  Female   41   \n",
       "2          3    15619304      Onio          502    France  Female   42   \n",
       "3          4    15701354      Boni          699    France  Female   39   \n",
       "4          5    15737888  Mitchell          850     Spain  Female   43   \n",
       "\n",
       "   Tenure    Balance  NumOfProducts  HasCrCard  IsActiveMember  \\\n",
       "0       2       0.00              1          1               1   \n",
       "1       1   83807.86              1          0               1   \n",
       "2       8  159660.80              3          1               0   \n",
       "3       1       0.00              2          0               0   \n",
       "4       2  125510.82              1          1               1   \n",
       "\n",
       "   EstimatedSalary  Exited  \n",
       "0        101348.88       1  \n",
       "1        112542.58       0  \n",
       "2        113931.57       1  \n",
       "3         93826.63       0  \n",
       "4         79084.10       0  "
      ]
     },
     "execution_count": 3,
     "metadata": {},
     "output_type": "execute_result"
    }
   ],
   "source": [
    "dataset = pd.read_csv('Churn_Modelling.csv')\n",
    "dataset.head()"
   ]
  },
  {
   "cell_type": "code",
   "execution_count": 4,
   "metadata": {},
   "outputs": [
    {
     "name": "stdout",
     "output_type": "stream",
     "text": [
      "X >>\n",
      " [[619 'France' 'Female' ... 1 1 101348.88]\n",
      " [608 'Spain' 'Female' ... 0 1 112542.58]\n",
      " [502 'France' 'Female' ... 1 0 113931.57]\n",
      " ...\n",
      " [709 'France' 'Female' ... 0 1 42085.58]\n",
      " [772 'Germany' 'Male' ... 1 0 92888.52]\n",
      " [792 'France' 'Female' ... 1 0 38190.78]]\n",
      "y >>\n",
      " [1 0 1 ... 1 1 0]\n"
     ]
    }
   ],
   "source": [
    "X = dataset.iloc[:, 3:13].values\n",
    "y = dataset.iloc[:, 13].values\n",
    "print(\"X >>\\n\",X)\n",
    "print(\"y >>\\n\",y)"
   ]
  },
  {
   "cell_type": "markdown",
   "metadata": {},
   "source": [
    "### Transformando os dados categóricos\n"
   ]
  },
  {
   "cell_type": "code",
   "execution_count": 5,
   "metadata": {},
   "outputs": [
    {
     "name": "stdout",
     "output_type": "stream",
     "text": [
      "[[619 'France' 0 ... 1 1 101348.88]\n",
      " [608 'Spain' 0 ... 0 1 112542.58]\n",
      " [502 'France' 0 ... 1 0 113931.57]\n",
      " ...\n",
      " [709 'France' 0 ... 0 1 42085.58]\n",
      " [772 'Germany' 1 ... 1 0 92888.52]\n",
      " [792 'France' 0 ... 1 0 38190.78]]\n",
      "[[1.0 0.0 0.0 ... 1 1 101348.88]\n",
      " [0.0 0.0 1.0 ... 0 1 112542.58]\n",
      " [1.0 0.0 0.0 ... 1 0 113931.57]\n",
      " ...\n",
      " [1.0 0.0 0.0 ... 0 1 42085.58]\n",
      " [0.0 1.0 0.0 ... 1 0 92888.52]\n",
      " [1.0 0.0 0.0 ... 1 0 38190.78]]\n"
     ]
    }
   ],
   "source": [
    "# Label Encoding the \"Gender\" column\n",
    "from sklearn.preprocessing import LabelEncoder\n",
    "le = LabelEncoder()\n",
    "X[:, 2] = le.fit_transform(X[:, 2])\n",
    "print(X)\n",
    "# One Hot Encoding the \"Geography\" column\n",
    "from sklearn.compose import ColumnTransformer\n",
    "from sklearn.preprocessing import OneHotEncoder\n",
    "ct = ColumnTransformer(transformers=[('encoder', OneHotEncoder(), [1])], remainder='passthrough')\n",
    "X = np.array(ct.fit_transform(X))\n",
    "print(X)"
   ]
  },
  {
   "cell_type": "markdown",
   "metadata": {},
   "source": [
    "# Dividindo o dataset em conjunto de treinamento e conjunto de teste"
   ]
  },
  {
   "cell_type": "code",
   "execution_count": 6,
   "metadata": {},
   "outputs": [],
   "source": [
    "from sklearn.model_selection import train_test_split\n",
    "X_train, X_test, y_train, y_test = train_test_split(X, y, test_size = 0.2, random_state = 0)"
   ]
  },
  {
   "cell_type": "markdown",
   "metadata": {},
   "source": [
    "# Feature Scaling"
   ]
  },
  {
   "cell_type": "code",
   "execution_count": 7,
   "metadata": {},
   "outputs": [],
   "source": [
    "from sklearn.preprocessing import StandardScaler\n",
    "sc = StandardScaler()\n",
    "X_train = sc.fit_transform(X_train)\n",
    "X_test = sc.transform(X_test)"
   ]
  },
  {
   "cell_type": "code",
   "execution_count": 8,
   "metadata": {},
   "outputs": [
    {
     "data": {
      "text/plain": [
       "(8000, 12)"
      ]
     },
     "execution_count": 8,
     "metadata": {},
     "output_type": "execute_result"
    }
   ],
   "source": [
    "np.shape(X_train)"
   ]
  },
  {
   "cell_type": "markdown",
   "metadata": {},
   "source": [
    "---\n",
    "# Parte 2 -Vamos construir uma ANN!\n"
   ]
  },
  {
   "cell_type": "markdown",
   "metadata": {
    "colab_type": "text",
    "id": "KvdeScabXtlB"
   },
   "source": [
    "### Initializing the ANN"
   ]
  },
  {
   "cell_type": "code",
   "execution_count": 41,
   "metadata": {
    "colab": {},
    "colab_type": "code",
    "id": "3dtrScHxXQox"
   },
   "outputs": [],
   "source": [
    "ann = tf.keras.models.Sequential()"
   ]
  },
  {
   "cell_type": "markdown",
   "metadata": {
    "colab_type": "text",
    "id": "rP6urV6SX7kS"
   },
   "source": [
    "### Adding the input layer and the first hidden layer"
   ]
  },
  {
   "cell_type": "code",
   "execution_count": 42,
   "metadata": {
    "colab": {},
    "colab_type": "code",
    "id": "bppGycBXYCQr"
   },
   "outputs": [],
   "source": [
    "ann.add(tf.keras.layers.Dense(units=6, activation='relu'))"
   ]
  },
  {
   "cell_type": "markdown",
   "metadata": {
    "colab_type": "text",
    "id": "BELWAc_8YJze"
   },
   "source": [
    "### Adding the second hidden layer"
   ]
  },
  {
   "cell_type": "code",
   "execution_count": 43,
   "metadata": {
    "colab": {},
    "colab_type": "code",
    "id": "JneR0u0sYRTd"
   },
   "outputs": [],
   "source": [
    "ann.add(tf.keras.layers.Dense(units=6, activation='tanh'))"
   ]
  },
  {
   "cell_type": "markdown",
   "metadata": {},
   "source": [
    "### Adding the third hidden layer"
   ]
  },
  {
   "cell_type": "code",
   "execution_count": 44,
   "metadata": {},
   "outputs": [],
   "source": [
    "ann.add(tf.keras.layers.Dense(units=4, activation='tanh'))"
   ]
  },
  {
   "cell_type": "markdown",
   "metadata": {
    "colab_type": "text",
    "id": "OyNEe6RXYcU4"
   },
   "source": [
    "### Adding the output layer"
   ]
  },
  {
   "cell_type": "code",
   "execution_count": 45,
   "metadata": {
    "colab": {},
    "colab_type": "code",
    "id": "Cn3x41RBYfvY"
   },
   "outputs": [],
   "source": [
    "ann.add(tf.keras.layers.Dense(units=1, activation='sigmoid'))"
   ]
  },
  {
   "cell_type": "markdown",
   "metadata": {
    "colab_type": "text",
    "id": "JT4u2S1_Y4WG"
   },
   "source": [
    "## Part 3 - Training the ANN"
   ]
  },
  {
   "cell_type": "markdown",
   "metadata": {
    "colab_type": "text",
    "id": "8GWlJChhY_ZI"
   },
   "source": [
    "### Compiling the ANN"
   ]
  },
  {
   "cell_type": "code",
   "execution_count": 46,
   "metadata": {
    "colab": {},
    "colab_type": "code",
    "id": "fG3RrwDXZEaS"
   },
   "outputs": [],
   "source": [
    "ann.compile(optimizer = 'adam', loss = 'binary_crossentropy', metrics = ['accuracy'])"
   ]
  },
  {
   "cell_type": "markdown",
   "metadata": {
    "colab_type": "text",
    "id": "0QR_G5u7ZLSM"
   },
   "source": [
    "### Training the ANN on the Training set"
   ]
  },
  {
   "cell_type": "code",
   "execution_count": 47,
   "metadata": {
    "colab": {
     "base_uri": "https://localhost:8080/",
     "height": 1000
    },
    "colab_type": "code",
    "id": "nHZ-LKv_ZRb3",
    "outputId": "718cc4b0-b5aa-40f0-9b20-d3d31730a531"
   },
   "outputs": [
    {
     "name": "stdout",
     "output_type": "stream",
     "text": [
      "Epoch 1/100\n",
      "250/250 [==============================] - 1s 961us/step - loss: 0.5049 - accuracy: 0.7879\n",
      "Epoch 2/100\n",
      "250/250 [==============================] - 0s 952us/step - loss: 0.4625 - accuracy: 0.7964\n",
      "Epoch 3/100\n",
      "250/250 [==============================] - 0s 982us/step - loss: 0.4399 - accuracy: 0.8049\n",
      "Epoch 4/100\n",
      "250/250 [==============================] - 0s 972us/step - loss: 0.4264 - accuracy: 0.8142\n",
      "Epoch 5/100\n",
      "250/250 [==============================] - 0s 949us/step - loss: 0.4161 - accuracy: 0.8201\n",
      "Epoch 6/100\n",
      "250/250 [==============================] - 0s 977us/step - loss: 0.4077 - accuracy: 0.8265\n",
      "Epoch 7/100\n",
      "250/250 [==============================] - 0s 951us/step - loss: 0.4002 - accuracy: 0.8328\n",
      "Epoch 8/100\n",
      "250/250 [==============================] - 0s 948us/step - loss: 0.3937 - accuracy: 0.8385\n",
      "Epoch 9/100\n",
      "250/250 [==============================] - 0s 944us/step - loss: 0.3877 - accuracy: 0.8434\n",
      "Epoch 10/100\n",
      "250/250 [==============================] - 0s 951us/step - loss: 0.3822 - accuracy: 0.8451\n",
      "Epoch 11/100\n",
      "250/250 [==============================] - 0s 948us/step - loss: 0.3776 - accuracy: 0.8455\n",
      "Epoch 12/100\n",
      "250/250 [==============================] - 0s 952us/step - loss: 0.3736 - accuracy: 0.8500\n",
      "Epoch 13/100\n",
      "250/250 [==============================] - 0s 960us/step - loss: 0.3699 - accuracy: 0.8514\n",
      "Epoch 14/100\n",
      "250/250 [==============================] - 0s 952us/step - loss: 0.3675 - accuracy: 0.8528\n",
      "Epoch 15/100\n",
      "250/250 [==============================] - 0s 997us/step - loss: 0.3648 - accuracy: 0.8522\n",
      "Epoch 16/100\n",
      "250/250 [==============================] - 0s 977us/step - loss: 0.3627 - accuracy: 0.8559\n",
      "Epoch 17/100\n",
      "250/250 [==============================] - 0s 1ms/step - loss: 0.3605 - accuracy: 0.8549\n",
      "Epoch 18/100\n",
      "250/250 [==============================] - 0s 1ms/step - loss: 0.3590 - accuracy: 0.8555\n",
      "Epoch 19/100\n",
      "250/250 [==============================] - 0s 1ms/step - loss: 0.3575 - accuracy: 0.8562\n",
      "Epoch 20/100\n",
      "250/250 [==============================] - 0s 992us/step - loss: 0.3566 - accuracy: 0.8562\n",
      "Epoch 21/100\n",
      "250/250 [==============================] - 0s 969us/step - loss: 0.3549 - accuracy: 0.8547\n",
      "Epoch 22/100\n",
      "250/250 [==============================] - 0s 959us/step - loss: 0.3541 - accuracy: 0.8568\n",
      "Epoch 23/100\n",
      "250/250 [==============================] - 0s 988us/step - loss: 0.3530 - accuracy: 0.8572\n",
      "Epoch 24/100\n",
      "250/250 [==============================] - 0s 993us/step - loss: 0.3519 - accuracy: 0.8580\n",
      "Epoch 25/100\n",
      "250/250 [==============================] - 0s 1ms/step - loss: 0.3509 - accuracy: 0.8587\n",
      "Epoch 26/100\n",
      "250/250 [==============================] - 0s 1ms/step - loss: 0.3495 - accuracy: 0.8589\n",
      "Epoch 27/100\n",
      "250/250 [==============================] - 0s 958us/step - loss: 0.3486 - accuracy: 0.8576\n",
      "Epoch 28/100\n",
      "250/250 [==============================] - 0s 1ms/step - loss: 0.3477 - accuracy: 0.8606\n",
      "Epoch 29/100\n",
      "250/250 [==============================] - 0s 1ms/step - loss: 0.3470 - accuracy: 0.8601\n",
      "Epoch 30/100\n",
      "250/250 [==============================] - 0s 1ms/step - loss: 0.3458 - accuracy: 0.8602\n",
      "Epoch 31/100\n",
      "250/250 [==============================] - 0s 1ms/step - loss: 0.3452 - accuracy: 0.8594\n",
      "Epoch 32/100\n",
      "250/250 [==============================] - 0s 956us/step - loss: 0.3447 - accuracy: 0.8622\n",
      "Epoch 33/100\n",
      "250/250 [==============================] - 0s 1ms/step - loss: 0.3439 - accuracy: 0.8608\n",
      "Epoch 34/100\n",
      "250/250 [==============================] - 0s 951us/step - loss: 0.3430 - accuracy: 0.8624\n",
      "Epoch 35/100\n",
      "250/250 [==============================] - 0s 983us/step - loss: 0.3429 - accuracy: 0.8622\n",
      "Epoch 36/100\n",
      "250/250 [==============================] - 0s 969us/step - loss: 0.3425 - accuracy: 0.8612\n",
      "Epoch 37/100\n",
      "250/250 [==============================] - 0s 951us/step - loss: 0.3421 - accuracy: 0.8625\n",
      "Epoch 38/100\n",
      "250/250 [==============================] - 0s 957us/step - loss: 0.3417 - accuracy: 0.8602\n",
      "Epoch 39/100\n",
      "250/250 [==============================] - 0s 1ms/step - loss: 0.3417 - accuracy: 0.8621\n",
      "Epoch 40/100\n",
      "250/250 [==============================] - 0s 954us/step - loss: 0.3413 - accuracy: 0.8618\n",
      "Epoch 41/100\n",
      "250/250 [==============================] - 0s 946us/step - loss: 0.3413 - accuracy: 0.8620\n",
      "Epoch 42/100\n",
      "250/250 [==============================] - 0s 1ms/step - loss: 0.3405 - accuracy: 0.8612\n",
      "Epoch 43/100\n",
      "250/250 [==============================] - 0s 1ms/step - loss: 0.3403 - accuracy: 0.8633\n",
      "Epoch 44/100\n",
      "250/250 [==============================] - 0s 1ms/step - loss: 0.3401 - accuracy: 0.8614\n",
      "Epoch 45/100\n",
      "250/250 [==============================] - 0s 957us/step - loss: 0.3402 - accuracy: 0.8597\n",
      "Epoch 46/100\n",
      "250/250 [==============================] - 0s 961us/step - loss: 0.3394 - accuracy: 0.8633\n",
      "Epoch 47/100\n",
      "250/250 [==============================] - 0s 1ms/step - loss: 0.3395 - accuracy: 0.8609\n",
      "Epoch 48/100\n",
      "250/250 [==============================] - 0s 957us/step - loss: 0.3390 - accuracy: 0.8630\n",
      "Epoch 49/100\n",
      "250/250 [==============================] - 0s 961us/step - loss: 0.3391 - accuracy: 0.8621\n",
      "Epoch 50/100\n",
      "250/250 [==============================] - 0s 963us/step - loss: 0.3384 - accuracy: 0.8622\n",
      "Epoch 51/100\n",
      "250/250 [==============================] - 0s 974us/step - loss: 0.3382 - accuracy: 0.8636\n",
      "Epoch 52/100\n",
      "250/250 [==============================] - 0s 948us/step - loss: 0.3385 - accuracy: 0.8616\n",
      "Epoch 53/100\n",
      "250/250 [==============================] - 0s 936us/step - loss: 0.3376 - accuracy: 0.8619\n",
      "Epoch 54/100\n",
      "250/250 [==============================] - 0s 955us/step - loss: 0.3373 - accuracy: 0.8630\n",
      "Epoch 55/100\n",
      "250/250 [==============================] - 0s 977us/step - loss: 0.3376 - accuracy: 0.8630\n",
      "Epoch 56/100\n",
      "250/250 [==============================] - 0s 976us/step - loss: 0.3375 - accuracy: 0.8637\n",
      "Epoch 57/100\n",
      "250/250 [==============================] - 0s 1ms/step - loss: 0.3372 - accuracy: 0.8627\n",
      "Epoch 58/100\n",
      "250/250 [==============================] - 0s 965us/step - loss: 0.3366 - accuracy: 0.8631\n",
      "Epoch 59/100\n",
      "250/250 [==============================] - 0s 951us/step - loss: 0.3365 - accuracy: 0.8608\n",
      "Epoch 60/100\n",
      "250/250 [==============================] - 0s 992us/step - loss: 0.3364 - accuracy: 0.8629\n",
      "Epoch 61/100\n",
      "250/250 [==============================] - 0s 970us/step - loss: 0.3366 - accuracy: 0.8651\n",
      "Epoch 62/100\n",
      "250/250 [==============================] - 0s 1ms/step - loss: 0.3362 - accuracy: 0.8625\n",
      "Epoch 63/100\n",
      "250/250 [==============================] - 0s 1ms/step - loss: 0.3360 - accuracy: 0.8626\n",
      "Epoch 64/100\n",
      "250/250 [==============================] - 0s 1ms/step - loss: 0.3359 - accuracy: 0.8626\n",
      "Epoch 65/100\n",
      "250/250 [==============================] - 0s 1ms/step - loss: 0.3359 - accuracy: 0.8615\n",
      "Epoch 66/100\n",
      "250/250 [==============================] - 0s 967us/step - loss: 0.3354 - accuracy: 0.8625\n",
      "Epoch 67/100\n",
      "250/250 [==============================] - 0s 951us/step - loss: 0.3354 - accuracy: 0.8625\n",
      "Epoch 68/100\n",
      "250/250 [==============================] - 0s 952us/step - loss: 0.3359 - accuracy: 0.8621\n",
      "Epoch 69/100\n",
      "250/250 [==============================] - 0s 952us/step - loss: 0.3353 - accuracy: 0.8621\n",
      "Epoch 70/100\n",
      "250/250 [==============================] - 0s 954us/step - loss: 0.3345 - accuracy: 0.8625\n",
      "Epoch 71/100\n",
      "250/250 [==============================] - 0s 1ms/step - loss: 0.3348 - accuracy: 0.8627\n",
      "Epoch 72/100\n",
      "250/250 [==============================] - 0s 991us/step - loss: 0.3347 - accuracy: 0.8611\n",
      "Epoch 73/100\n",
      "250/250 [==============================] - 0s 1ms/step - loss: 0.3344 - accuracy: 0.8629\n",
      "Epoch 74/100\n",
      "250/250 [==============================] - 0s 974us/step - loss: 0.3344 - accuracy: 0.8621\n",
      "Epoch 75/100\n",
      "250/250 [==============================] - 0s 952us/step - loss: 0.3345 - accuracy: 0.8609\n",
      "Epoch 76/100\n",
      "250/250 [==============================] - 0s 944us/step - loss: 0.3337 - accuracy: 0.8634\n",
      "Epoch 77/100\n",
      "250/250 [==============================] - 0s 1ms/step - loss: 0.3341 - accuracy: 0.8626\n",
      "Epoch 78/100\n",
      "250/250 [==============================] - 0s 957us/step - loss: 0.3333 - accuracy: 0.8637\n",
      "Epoch 79/100\n",
      "250/250 [==============================] - 0s 1ms/step - loss: 0.3342 - accuracy: 0.8601\n",
      "Epoch 80/100\n"
     ]
    },
    {
     "name": "stdout",
     "output_type": "stream",
     "text": [
      "250/250 [==============================] - 0s 939us/step - loss: 0.3334 - accuracy: 0.8618\n",
      "Epoch 81/100\n",
      "250/250 [==============================] - 0s 936us/step - loss: 0.3331 - accuracy: 0.8625\n",
      "Epoch 82/100\n",
      "250/250 [==============================] - 0s 952us/step - loss: 0.3331 - accuracy: 0.8615\n",
      "Epoch 83/100\n",
      "250/250 [==============================] - 0s 990us/step - loss: 0.3328 - accuracy: 0.8625\n",
      "Epoch 84/100\n",
      "250/250 [==============================] - 0s 945us/step - loss: 0.3329 - accuracy: 0.8635\n",
      "Epoch 85/100\n",
      "250/250 [==============================] - 0s 969us/step - loss: 0.3328 - accuracy: 0.8625\n",
      "Epoch 86/100\n",
      "250/250 [==============================] - 0s 968us/step - loss: 0.3327 - accuracy: 0.8618\n",
      "Epoch 87/100\n",
      "250/250 [==============================] - 0s 935us/step - loss: 0.3325 - accuracy: 0.8618\n",
      "Epoch 88/100\n",
      "250/250 [==============================] - 0s 999us/step - loss: 0.3326 - accuracy: 0.8619\n",
      "Epoch 89/100\n",
      "250/250 [==============================] - 0s 960us/step - loss: 0.3318 - accuracy: 0.8621\n",
      "Epoch 90/100\n",
      "250/250 [==============================] - 0s 980us/step - loss: 0.3318 - accuracy: 0.8630\n",
      "Epoch 91/100\n",
      "250/250 [==============================] - 0s 946us/step - loss: 0.3321 - accuracy: 0.8631\n",
      "Epoch 92/100\n",
      "250/250 [==============================] - 0s 993us/step - loss: 0.3316 - accuracy: 0.8643\n",
      "Epoch 93/100\n",
      "250/250 [==============================] - 0s 941us/step - loss: 0.3317 - accuracy: 0.8625\n",
      "Epoch 94/100\n",
      "250/250 [==============================] - 0s 1ms/step - loss: 0.3316 - accuracy: 0.8625\n",
      "Epoch 95/100\n",
      "250/250 [==============================] - 0s 932us/step - loss: 0.3314 - accuracy: 0.8639\n",
      "Epoch 96/100\n",
      "250/250 [==============================] - 0s 998us/step - loss: 0.3312 - accuracy: 0.8624\n",
      "Epoch 97/100\n",
      "250/250 [==============================] - 0s 945us/step - loss: 0.3317 - accuracy: 0.8624\n",
      "Epoch 98/100\n",
      "250/250 [==============================] - 0s 948us/step - loss: 0.3318 - accuracy: 0.8636\n",
      "Epoch 99/100\n",
      "250/250 [==============================] - 0s 980us/step - loss: 0.3313 - accuracy: 0.8621\n",
      "Epoch 100/100\n",
      "250/250 [==============================] - 0s 1ms/step - loss: 0.3313 - accuracy: 0.8631\n"
     ]
    },
    {
     "data": {
      "text/plain": [
       "<keras.callbacks.History at 0x152b05e70d0>"
      ]
     },
     "execution_count": 47,
     "metadata": {},
     "output_type": "execute_result"
    }
   ],
   "source": [
    "ann.fit(X_train, y_train, batch_size = 32, epochs = 100)"
   ]
  },
  {
   "cell_type": "markdown",
   "metadata": {},
   "source": [
    "# Parte 3 - Fazendo predições e avaliando o modelo\n",
    "\n",
    "## Prevendo os resultados com o conjunto de testes"
   ]
  },
  {
   "cell_type": "code",
   "execution_count": 48,
   "metadata": {},
   "outputs": [
    {
     "data": {
      "text/plain": [
       "array([[0.2718653 ],\n",
       "       [0.32311898],\n",
       "       [0.07407507],\n",
       "       ...,\n",
       "       [0.15312126],\n",
       "       [0.20273384],\n",
       "       [0.21292049]], dtype=float32)"
      ]
     },
     "execution_count": 48,
     "metadata": {},
     "output_type": "execute_result"
    }
   ],
   "source": [
    "y_pred = ann.predict(X_test)\n",
    "y_pred"
   ]
  },
  {
   "cell_type": "code",
   "execution_count": 49,
   "metadata": {},
   "outputs": [
    {
     "data": {
      "text/plain": [
       "array([[False],\n",
       "       [False],\n",
       "       [False],\n",
       "       ...,\n",
       "       [False],\n",
       "       [False],\n",
       "       [False]])"
      ]
     },
     "execution_count": 49,
     "metadata": {},
     "output_type": "execute_result"
    }
   ],
   "source": [
    "y_pred = (y_pred > 0.5)\n",
    "y_pred"
   ]
  },
  {
   "cell_type": "markdown",
   "metadata": {},
   "source": [
    "# Criando uma Confusion Matrix"
   ]
  },
  {
   "cell_type": "code",
   "execution_count": 50,
   "metadata": {},
   "outputs": [
    {
     "name": "stdout",
     "output_type": "stream",
     "text": [
      "[[1508   87]\n",
      " [ 193  212]]\n"
     ]
    }
   ],
   "source": [
    "from sklearn.metrics import confusion_matrix\n",
    "cm = confusion_matrix(y_test, y_pred)\n",
    "print(cm)"
   ]
  },
  {
   "cell_type": "markdown",
   "metadata": {},
   "source": [
    "---\n",
    "# Avaliando o Modelo"
   ]
  },
  {
   "cell_type": "code",
   "execution_count": 51,
   "metadata": {},
   "outputs": [],
   "source": [
    "# Evaluating the ANN\n",
    "from tensorflow.keras.wrappers.scikit_learn import KerasClassifier\n",
    "from sklearn.model_selection import cross_val_score\n",
    "from tensorflow.keras.models import Sequential\n",
    "from tensorflow.keras.layers import Dense"
   ]
  },
  {
   "cell_type": "code",
   "execution_count": 52,
   "metadata": {},
   "outputs": [],
   "source": [
    "def build_classifier():\n",
    "    classifier = Sequential()\n",
    "    classifier.add(Dense(units = 6, kernel_initializer = 'uniform', activation = 'relu', input_dim = 12))\n",
    "    classifier.add(Dense(units = 6, kernel_initializer = 'uniform', activation = 'tanh'))\n",
    "    classifier.add(Dense(units = 4, kernel_initializer = 'uniform', activation = 'tanh'))\n",
    "    classifier.add(Dense(units = 1, kernel_initializer = 'uniform', activation = 'sigmoid'))\n",
    "    classifier.compile(optimizer = 'adam', loss = 'binary_crossentropy', metrics = ['accuracy'])\n",
    "    return classifier"
   ]
  },
  {
   "cell_type": "code",
   "execution_count": 53,
   "metadata": {},
   "outputs": [
    {
     "name": "stderr",
     "output_type": "stream",
     "text": [
      "C:\\Users\\Chaydson\\AppData\\Local\\Temp/ipykernel_10592/1297209367.py:1: DeprecationWarning: KerasClassifier is deprecated, use Sci-Keras (https://github.com/adriangb/scikeras) instead. See https://www.adriangb.com/scikeras/stable/migration.html for help migrating.\n",
      "  classifier = KerasClassifier(build_fn = build_classifier, batch_size = 10, epochs = 10)\n"
     ]
    }
   ],
   "source": [
    "classifier = KerasClassifier(build_fn = build_classifier, batch_size = 10, epochs = 10)\n",
    "accuracies = cross_val_score(estimator = classifier, X = X_train, y = y_train, cv = 10, n_jobs = -1)\n",
    "mean = accuracies.mean()\n",
    "variance = accuracies.std()"
   ]
  },
  {
   "cell_type": "code",
   "execution_count": 69,
   "metadata": {},
   "outputs": [
    {
     "name": "stdout",
     "output_type": "stream",
     "text": [
      "0.83262500166893 0.010253815856542925\n"
     ]
    }
   ],
   "source": [
    "print(mean,variance)"
   ]
  },
  {
   "cell_type": "markdown",
   "metadata": {},
   "source": [
    "# Melhorando o modelo"
   ]
  },
  {
   "cell_type": "code",
   "execution_count": 67,
   "metadata": {},
   "outputs": [],
   "source": [
    "# Improving the ANN\n",
    "# Dropout Regularization to reduce overfitting if needed\n",
    "from tensorflow.keras.layers import Dropout\n",
    "\n",
    "def build_classifier():\n",
    "    classifier = Sequential()\n",
    "    classifier.add(Dense(units = 6, kernel_initializer = 'uniform', activation = 'relu', input_dim = 12))\n",
    "    classifier.add(Dropout(rate = 0.1))\n",
    "    classifier.add(Dense(units = 6, kernel_initializer = 'uniform', activation = 'tanh'))\n",
    "    classifier.add(Dropout(rate = 0.1))\n",
    "    classifier.add(Dense(units = 4, kernel_initializer = 'uniform', activation = 'tanh'))\n",
    "    classifier.add(Dropout(rate = 0.1))\n",
    "    classifier.add(Dense(units = 1, kernel_initializer = 'uniform', activation = 'sigmoid'))\n",
    "    classifier.compile(optimizer = 'adam', loss = 'binary_crossentropy', metrics = ['accuracy'])\n",
    "    return classifier"
   ]
  },
  {
   "cell_type": "code",
   "execution_count": 68,
   "metadata": {},
   "outputs": [
    {
     "name": "stderr",
     "output_type": "stream",
     "text": [
      "C:\\Users\\Chaydson\\AppData\\Local\\Temp/ipykernel_10592/1297209367.py:1: DeprecationWarning: KerasClassifier is deprecated, use Sci-Keras (https://github.com/adriangb/scikeras) instead. See https://www.adriangb.com/scikeras/stable/migration.html for help migrating.\n",
      "  classifier = KerasClassifier(build_fn = build_classifier, batch_size = 10, epochs = 10)\n"
     ]
    }
   ],
   "source": [
    "classifier = KerasClassifier(build_fn = build_classifier, batch_size = 10, epochs = 10)\n",
    "accuracies = cross_val_score(estimator = classifier, X = X_train, y = y_train, cv = 10, n_jobs = -1)\n",
    "mean = accuracies.mean()\n",
    "variance = accuracies.std()"
   ]
  },
  {
   "cell_type": "code",
   "execution_count": 70,
   "metadata": {},
   "outputs": [
    {
     "name": "stdout",
     "output_type": "stream",
     "text": [
      "0.83262500166893 0.010253815856542925\n"
     ]
    }
   ],
   "source": [
    "print(mean,variance)"
   ]
  },
  {
   "cell_type": "markdown",
   "metadata": {},
   "source": [
    "# Halving Grid Search"
   ]
  },
  {
   "cell_type": "code",
   "execution_count": 58,
   "metadata": {},
   "outputs": [
    {
     "name": "stderr",
     "output_type": "stream",
     "text": [
      "C:\\Users\\Chaydson\\AppData\\Local\\Temp/ipykernel_10592/732744305.py:19: DeprecationWarning: KerasClassifier is deprecated, use Sci-Keras (https://github.com/adriangb/scikeras) instead. See https://www.adriangb.com/scikeras/stable/migration.html for help migrating.\n",
      "  classifier = KerasClassifier(build_fn = build_classifier)\n"
     ]
    }
   ],
   "source": [
    "from tensorflow.keras.wrappers.scikit_learn import KerasClassifier\n",
    "from tensorflow.keras.models import Sequential\n",
    "from tensorflow.keras.layers import Dense\n",
    "from sklearn.experimental import enable_halving_search_cv\n",
    "from sklearn.model_selection import HalvingGridSearchCV\n",
    "\n",
    "def build_classifier(optimizer):\n",
    "    classifier = Sequential()\n",
    "    classifier.add(Dense(units = 6, kernel_initializer = 'uniform', activation = 'relu', input_dim = 12))\n",
    "    classifier.add(Dropout(rate = 0.1))\n",
    "    classifier.add(Dense(units = 6, kernel_initializer = 'uniform', activation = 'tanh'))\n",
    "    classifier.add(Dropout(rate = 0.1))\n",
    "    classifier.add(Dense(units = 4, kernel_initializer = 'uniform', activation = 'tanh'))\n",
    "    classifier.add(Dropout(rate = 0.1))\n",
    "    classifier.add(Dense(units = 1, kernel_initializer = 'uniform', activation = 'sigmoid'))\n",
    "    classifier.compile(optimizer = optimizer, loss = 'binary_crossentropy', metrics = ['accuracy'])\n",
    "    return classifier\n",
    "\n",
    "classifier = KerasClassifier(build_fn = build_classifier)\n",
    "\n",
    "parameters = {\n",
    "    'batch_size': [10, 25, 32],\n",
    "    'epochs': [25, 50, 100],\n",
    "    'optimizer': ['adam', 'rmsprop', 'adadelta']\n",
    "}\n",
    "\n",
    "halving_cv = HalvingGridSearchCV(estimator = classifier,\n",
    "                                  param_grid = parameters,\n",
    "                                  scoring=\"accuracy\", \n",
    "                                  n_jobs=-1, \n",
    "                                  min_resources=\"exhaust\", \n",
    "                                  factor=3,\n",
    "                                  cv = 10)"
   ]
  },
  {
   "cell_type": "code",
   "execution_count": 59,
   "metadata": {
    "scrolled": true
   },
   "outputs": [
    {
     "name": "stdout",
     "output_type": "stream",
     "text": [
      "Epoch 1/50\n",
      "320/320 [==============================] - 1s 992us/step - loss: 0.5691 - accuracy: 0.7947\n",
      "Epoch 2/50\n",
      "320/320 [==============================] - 0s 973us/step - loss: 0.4626 - accuracy: 0.7960\n",
      "Epoch 3/50\n",
      "320/320 [==============================] - 0s 981us/step - loss: 0.4339 - accuracy: 0.8062\n",
      "Epoch 4/50\n",
      "320/320 [==============================] - 0s 982us/step - loss: 0.4240 - accuracy: 0.8275\n",
      "Epoch 5/50\n",
      "320/320 [==============================] - 0s 978us/step - loss: 0.4231 - accuracy: 0.8267\n",
      "Epoch 6/50\n",
      "320/320 [==============================] - 0s 982us/step - loss: 0.4194 - accuracy: 0.8303\n",
      "Epoch 7/50\n",
      "320/320 [==============================] - 0s 974us/step - loss: 0.4182 - accuracy: 0.8285\n",
      "Epoch 8/50\n",
      "320/320 [==============================] - 0s 988us/step - loss: 0.4210 - accuracy: 0.8311\n",
      "Epoch 9/50\n",
      "320/320 [==============================] - 0s 979us/step - loss: 0.4155 - accuracy: 0.8309\n",
      "Epoch 10/50\n",
      "320/320 [==============================] - 0s 981us/step - loss: 0.4186 - accuracy: 0.8317\n",
      "Epoch 11/50\n",
      "320/320 [==============================] - 0s 1ms/step - loss: 0.4148 - accuracy: 0.8309\n",
      "Epoch 12/50\n",
      "320/320 [==============================] - 0s 980us/step - loss: 0.4171 - accuracy: 0.8310\n",
      "Epoch 13/50\n",
      "320/320 [==============================] - 0s 1ms/step - loss: 0.4194 - accuracy: 0.8307\n",
      "Epoch 14/50\n",
      "320/320 [==============================] - 0s 1ms/step - loss: 0.4170 - accuracy: 0.8278\n",
      "Epoch 15/50\n",
      "320/320 [==============================] - 0s 988us/step - loss: 0.4183 - accuracy: 0.8286\n",
      "Epoch 16/50\n",
      "320/320 [==============================] - 0s 1ms/step - loss: 0.4165 - accuracy: 0.8324\n",
      "Epoch 17/50\n",
      "320/320 [==============================] - 0s 1ms/step - loss: 0.4169 - accuracy: 0.8295\n",
      "Epoch 18/50\n",
      "320/320 [==============================] - 0s 1ms/step - loss: 0.4166 - accuracy: 0.8289\n",
      "Epoch 19/50\n",
      "320/320 [==============================] - 0s 1ms/step - loss: 0.4174 - accuracy: 0.8319\n",
      "Epoch 20/50\n",
      "320/320 [==============================] - 0s 993us/step - loss: 0.4127 - accuracy: 0.8319\n",
      "Epoch 21/50\n",
      "320/320 [==============================] - 0s 993us/step - loss: 0.4156 - accuracy: 0.8334\n",
      "Epoch 22/50\n",
      "320/320 [==============================] - 0s 1ms/step - loss: 0.4160 - accuracy: 0.8309\n",
      "Epoch 23/50\n",
      "320/320 [==============================] - 0s 1ms/step - loss: 0.4160 - accuracy: 0.8304\n",
      "Epoch 24/50\n",
      "320/320 [==============================] - 0s 988us/step - loss: 0.4150 - accuracy: 0.8305\n",
      "Epoch 25/50\n",
      "320/320 [==============================] - 0s 1ms/step - loss: 0.4145 - accuracy: 0.8336\n",
      "Epoch 26/50\n",
      "320/320 [==============================] - 0s 986us/step - loss: 0.4147 - accuracy: 0.8325\n",
      "Epoch 27/50\n",
      "320/320 [==============================] - 0s 995us/step - loss: 0.4187 - accuracy: 0.8316\n",
      "Epoch 28/50\n",
      "320/320 [==============================] - 0s 978us/step - loss: 0.4163 - accuracy: 0.8326\n",
      "Epoch 29/50\n",
      "320/320 [==============================] - 0s 965us/step - loss: 0.4142 - accuracy: 0.8325\n",
      "Epoch 30/50\n",
      "320/320 [==============================] - 0s 978us/step - loss: 0.4148 - accuracy: 0.8306\n",
      "Epoch 31/50\n",
      "320/320 [==============================] - 0s 982us/step - loss: 0.4169 - accuracy: 0.8306\n",
      "Epoch 32/50\n",
      "320/320 [==============================] - 0s 985us/step - loss: 0.4145 - accuracy: 0.8321\n",
      "Epoch 33/50\n",
      "320/320 [==============================] - 0s 980us/step - loss: 0.4115 - accuracy: 0.8295\n",
      "Epoch 34/50\n",
      "320/320 [==============================] - 0s 980us/step - loss: 0.4150 - accuracy: 0.8322\n",
      "Epoch 35/50\n",
      "320/320 [==============================] - 0s 1ms/step - loss: 0.4147 - accuracy: 0.8321\n",
      "Epoch 36/50\n",
      "320/320 [==============================] - 0s 987us/step - loss: 0.4116 - accuracy: 0.8313\n",
      "Epoch 37/50\n",
      "320/320 [==============================] - 0s 977us/step - loss: 0.4150 - accuracy: 0.8306\n",
      "Epoch 38/50\n",
      "320/320 [==============================] - 0s 988us/step - loss: 0.4143 - accuracy: 0.8332\n",
      "Epoch 39/50\n",
      "320/320 [==============================] - 0s 992us/step - loss: 0.4142 - accuracy: 0.8319\n",
      "Epoch 40/50\n",
      "320/320 [==============================] - 0s 972us/step - loss: 0.4155 - accuracy: 0.8307\n",
      "Epoch 41/50\n",
      "320/320 [==============================] - 0s 982us/step - loss: 0.4129 - accuracy: 0.8342\n",
      "Epoch 42/50\n",
      "320/320 [==============================] - 0s 996us/step - loss: 0.4145 - accuracy: 0.8340\n",
      "Epoch 43/50\n",
      "320/320 [==============================] - 0s 979us/step - loss: 0.4140 - accuracy: 0.8321\n",
      "Epoch 44/50\n",
      "320/320 [==============================] - 0s 982us/step - loss: 0.4136 - accuracy: 0.8304\n",
      "Epoch 45/50\n",
      "320/320 [==============================] - 0s 988us/step - loss: 0.4157 - accuracy: 0.8350\n",
      "Epoch 46/50\n",
      "320/320 [==============================] - 0s 983us/step - loss: 0.4107 - accuracy: 0.8347\n",
      "Epoch 47/50\n",
      "320/320 [==============================] - 0s 981us/step - loss: 0.4139 - accuracy: 0.8328\n",
      "Epoch 48/50\n",
      "320/320 [==============================] - 0s 972us/step - loss: 0.4130 - accuracy: 0.8316\n",
      "Epoch 49/50\n",
      "320/320 [==============================] - 0s 992us/step - loss: 0.4140 - accuracy: 0.8335\n",
      "Epoch 50/50\n",
      "320/320 [==============================] - 0s 992us/step - loss: 0.4157 - accuracy: 0.8309\n",
      "Wall time: 6min 38s\n"
     ]
    }
   ],
   "source": [
    "%%time\n",
    "halving_cv = halving_cv.fit(X_train, y_train)"
   ]
  },
  {
   "cell_type": "code",
   "execution_count": 71,
   "metadata": {
    "scrolled": false
   },
   "outputs": [
    {
     "name": "stdout",
     "output_type": "stream",
     "text": [
      "Best params:\n",
      " {'batch_size': 25, 'epochs': 50, 'optimizer': 'rmsprop'} \n",
      "Best accuracy:\n",
      " 0.8357142857142857\n"
     ]
    }
   ],
   "source": [
    "print('Best params:\\n',halving_cv.best_params_,'\\nBest accuracy:\\n',halving_cv.best_score_)"
   ]
  },
  {
   "cell_type": "code",
   "execution_count": 72,
   "metadata": {
    "scrolled": true
   },
   "outputs": [
    {
     "name": "stderr",
     "output_type": "stream",
     "text": [
      "C:\\Users\\Chaydson\\AppData\\Local\\Temp/ipykernel_10592/3163501403.py:13: DeprecationWarning: KerasClassifier is deprecated, use Sci-Keras (https://github.com/adriangb/scikeras) instead. See https://www.adriangb.com/scikeras/stable/migration.html for help migrating.\n",
      "  classifier = KerasClassifier(build_fn = build_classifier, batch_size = 25, epochs = 50)\n"
     ]
    },
    {
     "name": "stdout",
     "output_type": "stream",
     "text": [
      "0.83299999833107 0.011363319667055014\n"
     ]
    }
   ],
   "source": [
    "def build_classifier():\n",
    "    classifier = Sequential()\n",
    "    classifier.add(Dense(units = 6, kernel_initializer = 'uniform', activation = 'relu', input_dim = 12))\n",
    "    classifier.add(Dropout(rate = 0.1))\n",
    "    classifier.add(Dense(units = 6, kernel_initializer = 'uniform', activation = 'tanh'))\n",
    "    classifier.add(Dropout(rate = 0.1))\n",
    "    classifier.add(Dense(units = 4, kernel_initializer = 'uniform', activation = 'tanh'))\n",
    "    classifier.add(Dropout(rate = 0.1))\n",
    "    classifier.add(Dense(units = 1, kernel_initializer = 'uniform', activation = 'sigmoid'))\n",
    "    classifier.compile(optimizer = 'rmsprop', loss = 'binary_crossentropy', metrics = ['accuracy'])\n",
    "    return classifier\n",
    "\n",
    "classifier = KerasClassifier(build_fn = build_classifier, batch_size = 25, epochs = 50)\n",
    "accuracies = cross_val_score(estimator = classifier, X = X_train, y = y_train, cv = 10, n_jobs = -1)\n",
    "mean = accuracies.mean()\n",
    "variance = accuracies.std()\n",
    "\n",
    "print(mean,variance)"
   ]
  },
  {
   "cell_type": "markdown",
   "metadata": {},
   "source": [
    "#### Melhor média e variância: 0,"
   ]
  },
  {
   "cell_type": "markdown",
   "metadata": {},
   "source": [
    "# FIM"
   ]
  },
  {
   "cell_type": "markdown",
   "metadata": {},
   "source": [
    "> Professor Diego Dorgam  \n",
    "> [@diegodorgam](https://twitter.com/diegodorgam)"
   ]
  }
 ],
 "metadata": {
  "kernelspec": {
   "display_name": "Python 3 (ipykernel)",
   "language": "python",
   "name": "python3"
  },
  "language_info": {
   "codemirror_mode": {
    "name": "ipython",
    "version": 3
   },
   "file_extension": ".py",
   "mimetype": "text/x-python",
   "name": "python",
   "nbconvert_exporter": "python",
   "pygments_lexer": "ipython3",
   "version": "3.9.7"
  }
 },
 "nbformat": 4,
 "nbformat_minor": 4
}
